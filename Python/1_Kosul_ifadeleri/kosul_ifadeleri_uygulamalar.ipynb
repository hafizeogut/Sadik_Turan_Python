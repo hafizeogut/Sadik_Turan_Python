{
 "cells": [
  {
   "cell_type": "markdown",
   "id": "71051833",
   "metadata": {},
   "source": [
    "##### 1-Kullanaıcıdan isim yaş ve eğitim belgelerini isteyip ehliyet alabilme durumunu konrtol ediniz.Ehliyet alma koşulu en az 18 ve eğitim durumu lise ya da üniversite olmalıdır.\n",
    "    "
   ]
  },
  {
   "cell_type": "code",
   "execution_count": 9,
   "id": "57b91813",
   "metadata": {},
   "outputs": [
    {
     "name": "stdout",
     "output_type": "stream",
     "text": [
      "İsminiz: Hafize\n",
      "Yaşınız: 23\n",
      "Eğitim: Lise\n",
      "Hafize Ehliyet alabilirsiniz.:)\n"
     ]
    }
   ],
   "source": [
    "isim=str(input(\"İsminiz: \"))\n",
    "yas=int(input(\"Yaşınız: \"))\n",
    "egitim=input(\"Eğitim: \")\n",
    "\n",
    "if (yas>=18):\n",
    "    if (egitim=='lise' or egitim=='üniversite' or egitim==\"Lise\" or egitim==\"Üniveriste\" or egitim==\"Universite\"):\n",
    "        print(f'{isim} Ehliyet alabilirsiniz.:)')\n",
    "        \n",
    "    else:\n",
    "        print(f'{isim} Ehliyet alamazsınız.Eğitim durumunuz yetersiz.:)')\n",
    "    \n",
    "else:\n",
    "    print(f\"{isim} Malesef ehliyet alamazsınız.Yaşınız tutmuyor :) ) \")"
   ]
  },
  {
   "cell_type": "markdown",
   "id": "3a039f89",
   "metadata": {},
   "source": [
    "##### 2-Bir öğrencinin 2 yazılı bir sözlü notunu alıp hesaplanan ortalamaya göre not aralığına karşılık gelen not bilgisini yazdırınız.\n",
    "##### 0-24 => 0\n",
    "##### 25-44 => 1\n",
    "##### 45-54 => 2\n",
    "##### 55-69 => 3\n",
    "##### 70-84 => 4\n",
    "##### 85-100 => 5\n"
   ]
  },
  {
   "cell_type": "code",
   "execution_count": 15,
   "id": "4d10a8ff",
   "metadata": {},
   "outputs": [
    {
     "name": "stdout",
     "output_type": "stream",
     "text": [
      "1.Yazılı: 100\n",
      "2.Yazılı: 100\n",
      "3.Yazılı: 100\n",
      "ortalamanız: 100.0 notunuz: 5 oldukça başarılısın ;)\n"
     ]
    }
   ],
   "source": [
    "yazili1=float(input('1.Yazılı: '))\n",
    "yazili2=float(input('2.Yazılı: '))\n",
    "sozlu=float(input('3.Yazılı: '))\n",
    "\n",
    "ortalama=(yazili1+yazili2+sozlu)/3\n",
    "\n",
    "if (0<ortalama<25):\n",
    "    print(f'ortalamanız: {ortalama} notunuz: 0')\n",
    "    \n",
    "elif (25<=ortalama<45):\n",
    "    print(f'ortalamanız: {ortalama} notunuz: 1')\n",
    "    \n",
    "elif (45<=ortalama<55):\n",
    "    print(f'ortalamanız: {ortalama} notunuz: 2')\n",
    "    \n",
    "elif (55<=ortalama<70):\n",
    "    print(f'ortalamanız: {ortalama} notunuz: 3')\n",
    "    \n",
    "elif (70<=ortalama<85):\n",
    "    print(f'ortalamanız: {ortalama} notunuz: 4')\n",
    "    \n",
    "elif (85<=ortalama<101):\n",
    "    print(f'ortalamanız: {ortalama} notunuz: 5 oldukça başarılısın ;)')\n",
    "    \n",
    "else:\n",
    "    print('üzgünüm dostum yanlış bilgi girdinm...')"
   ]
  },
  {
   "cell_type": "markdown",
   "id": "efd8cd80",
   "metadata": {},
   "source": [
    "##### 3-Trafiğe çıkış tairihi alınan bir aracın servis zamanını aşağıdaki bilgilere göre hesaplayınız.\n",
    "##### 1. Bakım =>1.yıl\n",
    "##### 2. Bakım =>2.yıl\n",
    "##### 3. Bakım =>3.yıl\n",
    "##### Süre hesabını alınan gün,ay,yıl, bilgisine göre  gün bazlı hesaplayınız\n",
    "***Datatime modülünğü kullanmanız gerekiyor.\n"
   ]
  },
  {
   "cell_type": "code",
   "execution_count": 26,
   "id": "f488fbdd",
   "metadata": {},
   "outputs": [
    {
     "name": "stdout",
     "output_type": "stream",
     "text": [
      "Aracınız kaç günddürm trafikte: 366\n",
      "2. Servis aralığı\n",
      "1.servis aralığı\n",
      "2.servis aralığı\n",
      "3.servis aralığı\n"
     ]
    }
   ],
   "source": [
    "days=int(input ('Aracınız kaç günddürm trafikte: '))\n",
    "\n",
    "if (days<=365):\n",
    "    print('1. Servis aralığı')\n",
    "    \n",
    "elif (365<days<2*365):\n",
    "    print('2. Servis aralığı')\n",
    "    \n",
    "elif (2*365<days<3*365):\n",
    "    print('3. Servis aralığı')\n",
    "    \n",
    "    \n",
    "for i in range(1,4):\n",
    "    print(f'{i}.servis aralığı')"
   ]
  },
  {
   "cell_type": "code",
   "execution_count": 33,
   "id": "1654bc4e",
   "metadata": {},
   "outputs": [
    {
     "name": "stdout",
     "output_type": "stream",
     "text": [
      "aracınız hangi tarihte trafiğe çıktı ör(2023/2/13) : 2024/12/12\n",
      "1. Servis aralığı\n"
     ]
    }
   ],
   "source": [
    "import datetime #zamanı çekebilmek için datatime kütüphanesi çağırıldı.\n",
    "\n",
    "tarih=input('aracınız hangi tarihte trafiğe çıktı ör(2023/2/13) : ')#kullanıcıdan bşr tarih istendi \n",
    "tarih=tarih.split('/')#/işareti aralığını ayırarak bir liste oluşturuldu.\n",
    "#print(tarih)\n",
    "\n",
    "trafige_cikis=datetime.datetime(int(tarih[0]),int(tarih[1]),int(tarih[2]))\n",
    "                      #datetime(yıl,ay,gün)\n",
    "    \n",
    "simdiki_tarih=datetime.datetime.now()#Kütüphanedeki şimdiki zamanı olan fonksiyona(now) ulaşıldı.\n",
    "#print(simdikiTarih)\n",
    "\n",
    "fark=simdiki_tarih-trafige_cikis\n",
    "#print(fark.days)\n",
    "days=fark.days\n",
    "\n",
    "if (days<=365):\n",
    "    print('1. Servis aralığı')\n",
    "    \n",
    "elif (365<days<2*365):\n",
    "    print('2. Servis aralığı')\n",
    "    \n",
    "elif (2*365<days<3*365):\n",
    "    print('3. Servis aralığı')"
   ]
  },
  {
   "cell_type": "markdown",
   "id": "2200ba48",
   "metadata": {},
   "source": [
    "#### 1- Girilen bir sayının 0-100 arasında olup olmadığını kontrol ediniz."
   ]
  },
  {
   "cell_type": "code",
   "execution_count": 57,
   "id": "1e328724",
   "metadata": {},
   "outputs": [
    {
     "name": "stdout",
     "output_type": "stream",
     "text": [
      "Sayı: 55\n",
      "Harikasın seçtiğin sayı  0 ile 100 arasında\n"
     ]
    }
   ],
   "source": [
    "sayi=float(input(\"Sayı: \"))\n",
    "if (0<sayi<101):\n",
    "    print(\"Harikasın seçtiğin sayı  0 ile 100 arasında\")\n",
    "    \n",
    "elif (sayi<0):\n",
    "    print(\"Malesef dostum seçtiğin sayı 0 dan küçük\")\n",
    "    \n",
    "elif (sayi>100):\n",
    "    print (\"Malesef dostum seçtiğin sayı 100 den büyük\")\n",
    "    \n",
    "elif (sayi==0):\n",
    "    print(\"Seçtiğin sayı tam da sıfır :)\")\n",
    "    \n",
    "else:\n",
    "    print(\"Seçtiğin sayı istenilen aralıkta değil patron\")"
   ]
  },
  {
   "cell_type": "markdown",
   "id": "4d5d9f76",
   "metadata": {},
   "source": [
    "##### 2- Girilen bir sayının tek mi çift mi oldupunu kontrol ediniz"
   ]
  },
  {
   "cell_type": "code",
   "execution_count": 44,
   "id": "8b6d68fa",
   "metadata": {},
   "outputs": [
    {
     "name": "stdout",
     "output_type": "stream",
     "text": [
      "Sayi: 2\n",
      "Seçtiğin sayı çiftir\n"
     ]
    }
   ],
   "source": [
    "Sayi=int(input(\"Sayi: \"))\n",
    "\n",
    "if (Sayi>0):\n",
    "    if (Sayi %2 ==1):\n",
    "        print(\"Seçtiğin sayı tektir.\")\n",
    "        \n",
    "    else:\n",
    "        print (\"Seçtiğin sayı çiftir\")\n",
    "        \n",
    "else:\n",
    "    print(\"Ah bee seçtiğin sayı ne tek ne de çift\")"
   ]
  },
  {
   "cell_type": "markdown",
   "id": "3f6763db",
   "metadata": {},
   "source": [
    "##### 3-Email ve parola bilgileri ile giriş kontrolü yapınız"
   ]
  },
  {
   "cell_type": "code",
   "execution_count": 45,
   "id": "c43e9264",
   "metadata": {},
   "outputs": [
    {
     "name": "stdout",
     "output_type": "stream",
     "text": [
      "e-mail: hafizecemileogut@gmail.com\n",
      "password: Oysa Bir Umuttu Kıraç 100220223\n",
      "Harikasın dostum başarı bir şekilde giriş yaptın\n"
     ]
    }
   ],
   "source": [
    "email='hafizecemileogut@gmail.com'\n",
    "password='Oysa Bir Umuttu Kıraç 100220223'\n",
    "\n",
    "girilen_email=input(\"e-mail: \")\n",
    "girilen_sifre=input(\"password: \")\n",
    "\n",
    "if (girilen_email==email and girilen_sifre==password):\n",
    "    print(\"Harikasın dostum başarı bir şekilde giriş yaptın\")\n",
    "    \n",
    "elif (girilen_email!=email and girilen_sifre==password):\n",
    "    print(\"!!! mail adresini hatırlayamadın sanırım tekrar denemek ister misin?\")\n",
    "\n",
    "elif (girilen_email==email and girilen_sifre!=password):\n",
    "    print(\"!!! şifreni adresini hatırlayamadın sanırım tekrar denemek ister misin?\")\n",
    "    \n",
    "\n",
    "else:\n",
    "    print(\"Hem mailini hem de şifreni mi unuttun şaşkın :)\")"
   ]
  },
  {
   "cell_type": "code",
   "execution_count": 54,
   "id": "11ff8444",
   "metadata": {},
   "outputs": [
    {
     "name": "stdout",
     "output_type": "stream",
     "text": [
      "e-mail: hj\n",
      "password: kj\n",
      "Yanlış giriş yaptın\n",
      "e-mail: jgıu\n",
      "password: ıjph\n",
      "Yanlış giriş yaptın\n",
      "e-mail: hafizecemileogut@gmail.com\n",
      "password: Oysa Bir Umuttu Kıraç 100220223\n",
      "Harikasın dostum doğru bir şekilde giriş yaptın\n"
     ]
    }
   ],
   "source": [
    "while True:\n",
    "    email='hafizecemileogut@gmail.com'\n",
    "    password='Oysa Bir Umuttu Kıraç 100220223'\n",
    "    girilen_email=input(\"e-mail: \")\n",
    "    girilen_sifre=input(\"password: \")\n",
    "\n",
    "    result=bool(girilen_email==email and girilen_sifre==password)\n",
    "    \n",
    "    if (result==True):\n",
    "        print(\"Harikasın dostum doğru bir şekilde giriş yaptın\")\n",
    "        break\n",
    "        \n",
    "    else:\n",
    "        print(\"Yanlış giriş yaptın\")\n",
    "\n",
    "   "
   ]
  },
  {
   "cell_type": "markdown",
   "id": "05a8d1ad",
   "metadata": {},
   "source": [
    "##### 3- Üç sayıyı büyüklük olarak karşılaştırınız."
   ]
  },
  {
   "cell_type": "code",
   "execution_count": 56,
   "id": "1f987e14",
   "metadata": {},
   "outputs": [
    {
     "name": "stdout",
     "output_type": "stream",
     "text": [
      "1. Sayı: 2\n",
      "2. Sayı: 8\n",
      "3. Sayı: 12\n",
      "12>8>2\n"
     ]
    }
   ],
   "source": [
    "a=int(input(\"1. Sayı: \"))\n",
    "b=int(input(\"2. Sayı: \"))\n",
    "c=int(input(\"3. Sayı: \"))\n",
    "\n",
    "if (a>b>c):\n",
    "    print(f'{a}>{b}>{c}')\n",
    "    \n",
    "elif (a>c>b):\n",
    "    print(f'{a}>{c}>{b}')\n",
    "    \n",
    "elif (b>a>c):\n",
    "    print(f'{b}>{a}>{c}')\n",
    "\n",
    "elif (b>c>a):\n",
    "    print(f'{b}>{c}>{a}')\n",
    "\n",
    "elif (c>a>b):\n",
    "    print(f'{c}>{a}>{b}')\n",
    "    \n",
    "elif (c>b>a):\n",
    "    print(f'{c}>{b}>{a}')\n",
    "    \n"
   ]
  },
  {
   "cell_type": "markdown",
   "id": "9e712622",
   "metadata": {},
   "source": [
    "##### 5- Kullanıcıdan 2 vize (%60) ve final (%40notunun alıp ortalama hesaplayınız.\n",
    "   ##### Eğer ortalama 50 ve üstündeyse geçti değilse kaldı olarak yazdırınız\n",
    "   ##### a-)Ortalama 50 olsa bile final notu en az 50 olmalıdır\n",
    "   ##### b-)Finalden 70 alındığında ortalamanın önemi olmasın"
   ]
  },
  {
   "cell_type": "code",
   "execution_count": 74,
   "id": "05c1e6b1",
   "metadata": {},
   "outputs": [
    {
     "name": "stdout",
     "output_type": "stream",
     "text": [
      "1.Yazılı: 50\n",
      "2.Yazılı: 50\n",
      "3.Yazılı: 70\n",
      "Finalden 70.0 mi aldın? Harikasın.Geçtin:)\n"
     ]
    }
   ],
   "source": [
    "vize1=float(input('1.Yazılı: '))\n",
    "vize2=float(input('2.Yazılı: '))\n",
    "final=float(input('3.Yazılı: '))\n",
    "\n",
    "a=bool(vize1>=0 and vize1<101 and vize2>=0 and vize2<101 and final>=0 and final<101)\n",
    "if a==True:\n",
    "    ortalama=((vize1+vize2)/2)*0.6+final*0.4\n",
    "\n",
    "    if (final==70):\n",
    "        print(\"Finalden {} mi aldın? Harikasın.Geçtin:)\".format(final))\n",
    "    elif (final>70):\n",
    "        print(f\"{final} Geçtin:)\")\n",
    "\n",
    "\n",
    "    elif (ortalama>50):\n",
    "        print(f\"{final} Geçtin:)\")\n",
    "\n",
    "    elif(ortalama<50):\n",
    "        print(f\"{ortalama} notu ile kaldın. Üzülme ters bir anına denk gelmiş olabilir tekrar çalışıp bu derste başarılı olabilirsin...\")\n",
    "\n",
    "    elif(ortalama==50):\n",
    "        if final==50:\n",
    "            print(f'Başarılısın bu dersi ortalam:{ortalama},final:{final} notların ile geçtin')\n",
    "            \n",
    "else:\n",
    "    print(\"Vize ve Final Notları 0 ile 100 aralığında olamlıdır.Dikkat ediniz!\")\n"
   ]
  },
  {
   "cell_type": "markdown",
   "id": "63095692",
   "metadata": {},
   "source": [
    "##### 6- Kişinin ad,kilo ve boy bilgilerini alıp kilo indekslerini hesaplayınız.\n",
    "##### Formül:(Kilo/boy uzunluğunun karesi\n",
    "##### Aşağıdaki tabloya göre kişi hangi gruba girmektedir\n",
    "###### 0-18.4 =>Zayıf\n",
    "###### 18.5-24.9 =>Normal\n",
    "##### 25.0-29.9=>Kilolu\n",
    "##### 30.0-34.9 =>Şiman (Obez)"
   ]
  },
  {
   "cell_type": "code",
   "execution_count": 77,
   "id": "28656baa",
   "metadata": {},
   "outputs": [
    {
     "name": "stdout",
     "output_type": "stream",
     "text": [
      "İsminiz: Hafize\n",
      "Kilomnuz: 63\n",
      "Boyunuz: 169\n",
      "63.0 kiloya sahip 169.0 boyundaki Hafize isimli şahıs Zayıftır.\n"
     ]
    }
   ],
   "source": [
    "isim=input(str(\"İsminiz: \"))\n",
    "Kilo=float(input(\"Kilomnuz: \"))\n",
    "Boy=float(input(\"Boyunuz: \"))\n",
    "\n",
    "index=Kilo/(Boy**2)\n",
    "\n",
    "if (0<index<18.4):\n",
    "    print(f'{Kilo} kiloya sahip {Boy} boyundaki {isim} isimli şahıs Zayıftır.')\n",
    "    \n",
    "elif (18.4<index<25):\n",
    "    print(f'{Kilo} kiloya sahip {Boy} boyundaki {isim} li kişi Normal indekse sahiptir.')\n",
    "    \n",
    "elif (25.0<index<30):\n",
    "        print(f'{Kilo} kiloya sahip {Boy} boyundaki {isim} li kişi Kiloludur')\n",
    "    \n",
    "elif (29.9<index<35):\n",
    "    print(f'{Kilo} kiloya sahip {Boy} boyundaki {isim} li kişi Obezdir')\n",
    "    "
   ]
  },
  {
   "cell_type": "code",
   "execution_count": null,
   "id": "79096831",
   "metadata": {},
   "outputs": [],
   "source": []
  }
 ],
 "metadata": {
  "kernelspec": {
   "display_name": "Python 3 (ipykernel)",
   "language": "python",
   "name": "python3"
  },
  "language_info": {
   "codemirror_mode": {
    "name": "ipython",
    "version": 3
   },
   "file_extension": ".py",
   "mimetype": "text/x-python",
   "name": "python",
   "nbconvert_exporter": "python",
   "pygments_lexer": "ipython3",
   "version": "3.10.8"
  }
 },
 "nbformat": 4,
 "nbformat_minor": 5
}
