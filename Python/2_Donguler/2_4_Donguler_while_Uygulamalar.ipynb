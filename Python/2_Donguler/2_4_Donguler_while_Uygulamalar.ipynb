{
 "cells": [
  {
   "cell_type": "markdown",
   "id": "5f33c7c3",
   "metadata": {},
   "source": [
    "##### 1: Sayılar listesini while ile ekrana yazdırın"
   ]
  },
  {
   "cell_type": "code",
   "execution_count": 3,
   "id": "dcd68c7e",
   "metadata": {},
   "outputs": [
    {
     "name": "stdout",
     "output_type": "stream",
     "text": [
      "1\n",
      "2\n",
      "3\n",
      "4\n",
      "5\n",
      "6\n",
      "7\n",
      "8\n",
      "9\n",
      "10\n",
      "11\n",
      "12\n",
      "13\n"
     ]
    }
   ],
   "source": [
    "sayilar=[1,2,3,4,5,6,7,8,9,10,11,12,13]\n",
    "i=0\n",
    "while (i<len(sayilar)) :\n",
    "    print(sayilar[i])\n",
    "    \n",
    "    i+=1"
   ]
  },
  {
   "cell_type": "markdown",
   "id": "664c2ade",
   "metadata": {},
   "source": [
    "##### 2:Başlangıç ve bitiş değerlerini kullanıcıdan alıp tek sayıları ekrana yazdırınız."
   ]
  },
  {
   "cell_type": "code",
   "execution_count": 13,
   "id": "304d3382",
   "metadata": {},
   "outputs": [
    {
     "name": "stdout",
     "output_type": "stream",
     "text": [
      "Başlangıç Değerini giriniz: 2\n",
      "Başlangıç Değerini giriniz: 6\n",
      "3\n",
      "5\n"
     ]
    }
   ],
   "source": [
    "ilk_deger=int(input(\"Başlangıç Değerini giriniz: \"))\n",
    "son_deger=int(input(\"Başlangıç Değerini giriniz: \"))\n",
    "\n",
    "\n",
    "while ilk_deger<son_deger:\n",
    "    if ilk_deger%2==1:\n",
    "        print(ilk_deger)\n",
    "    ilk_deger+=1\n",
    "    "
   ]
  },
  {
   "cell_type": "markdown",
   "id": "f22d2006",
   "metadata": {},
   "source": [
    "##### 3: 1-100 arasındaki sayıları azalan şekilde yazdırın"
   ]
  },
  {
   "cell_type": "code",
   "execution_count": 18,
   "id": "b0467024",
   "metadata": {},
   "outputs": [
    {
     "name": "stdout",
     "output_type": "stream",
     "text": [
      "99\n",
      "98\n",
      "97\n",
      "96\n",
      "95\n",
      "94\n",
      "93\n",
      "92\n",
      "91\n",
      "90\n",
      "89\n",
      "88\n",
      "87\n",
      "86\n",
      "85\n",
      "84\n",
      "83\n",
      "82\n",
      "81\n",
      "80\n",
      "79\n",
      "78\n",
      "77\n",
      "76\n",
      "75\n",
      "74\n",
      "73\n",
      "72\n",
      "71\n",
      "70\n",
      "69\n",
      "68\n",
      "67\n",
      "66\n",
      "65\n",
      "64\n",
      "63\n",
      "62\n",
      "61\n",
      "60\n",
      "59\n",
      "58\n",
      "57\n",
      "56\n",
      "55\n",
      "54\n",
      "53\n",
      "52\n",
      "51\n",
      "50\n",
      "49\n",
      "48\n",
      "47\n",
      "46\n",
      "45\n",
      "44\n",
      "43\n",
      "42\n",
      "41\n",
      "40\n",
      "39\n",
      "38\n",
      "37\n",
      "36\n",
      "35\n",
      "34\n",
      "33\n",
      "32\n",
      "31\n",
      "30\n",
      "29\n",
      "28\n",
      "27\n",
      "26\n",
      "25\n",
      "24\n",
      "23\n",
      "22\n",
      "21\n",
      "20\n",
      "19\n",
      "18\n",
      "17\n",
      "16\n",
      "15\n",
      "14\n",
      "13\n",
      "12\n",
      "11\n",
      "10\n",
      "9\n",
      "8\n",
      "7\n",
      "6\n",
      "5\n",
      "4\n",
      "3\n",
      "2\n",
      "1\n"
     ]
    }
   ],
   "source": [
    "a=99\n",
    "while a<100:\n",
    "    print(a)\n",
    "    a-=1\n",
    "    if a==0:\n",
    "        break"
   ]
  },
  {
   "cell_type": "code",
   "execution_count": 19,
   "id": "f4652be3",
   "metadata": {},
   "outputs": [
    {
     "name": "stdout",
     "output_type": "stream",
     "text": [
      "99\n",
      "98\n",
      "97\n",
      "96\n",
      "95\n",
      "94\n",
      "93\n",
      "92\n",
      "91\n",
      "90\n",
      "89\n",
      "88\n",
      "87\n",
      "86\n",
      "85\n",
      "84\n",
      "83\n",
      "82\n",
      "81\n",
      "80\n",
      "79\n",
      "78\n",
      "77\n",
      "76\n",
      "75\n",
      "74\n",
      "73\n",
      "72\n",
      "71\n",
      "70\n",
      "69\n",
      "68\n",
      "67\n",
      "66\n",
      "65\n",
      "64\n",
      "63\n",
      "62\n",
      "61\n",
      "60\n",
      "59\n",
      "58\n",
      "57\n",
      "56\n",
      "55\n",
      "54\n",
      "53\n",
      "52\n",
      "51\n",
      "50\n",
      "49\n",
      "48\n",
      "47\n",
      "46\n",
      "45\n",
      "44\n",
      "43\n",
      "42\n",
      "41\n",
      "40\n",
      "39\n",
      "38\n",
      "37\n",
      "36\n",
      "35\n",
      "34\n",
      "33\n",
      "32\n",
      "31\n",
      "30\n",
      "29\n",
      "28\n",
      "27\n",
      "26\n",
      "25\n",
      "24\n",
      "23\n",
      "22\n",
      "21\n",
      "20\n",
      "19\n",
      "18\n",
      "17\n",
      "16\n",
      "15\n",
      "14\n",
      "13\n",
      "12\n",
      "11\n",
      "10\n",
      "9\n",
      "8\n",
      "7\n",
      "6\n",
      "5\n",
      "4\n",
      "3\n",
      "2\n",
      "1\n"
     ]
    }
   ],
   "source": [
    "a=99\n",
    "while 0<a<100:\n",
    "    print(a)\n",
    "    a-=1\n",
    " "
   ]
  },
  {
   "cell_type": "markdown",
   "id": "18d8e405",
   "metadata": {},
   "source": [
    "##### 4:Kullanıcıdan aldığınız beş sayıyı sıralı şekilde ekrana yazdırınız"
   ]
  },
  {
   "cell_type": "code",
   "execution_count": 28,
   "id": "616a5617",
   "metadata": {},
   "outputs": [
    {
     "name": "stdout",
     "output_type": "stream",
     "text": [
      "sayı: 64\n",
      "sayı: 307\n",
      "sayı: 1844\n",
      "sayı: 571\n",
      "sayı: 1453\n",
      "[64, 307, 571, 1453, 1844]\n"
     ]
    }
   ],
   "source": [
    "numbers=[]\n",
    "i=0\n",
    "while i<5:\n",
    "    sayi=int(input('sayı: '))\n",
    "    numbers.append(sayi)\n",
    "    i+=1\n",
    "numbers.sort()#listedeki mevcut elemanları küçükten büyüğe doğru sort() fonksiyonu ile sıralandı.\n",
    "print(numbers)"
   ]
  },
  {
   "cell_type": "markdown",
   "id": "05ce38a0",
   "metadata": {},
   "source": [
    "##### 5: Kullanıcıdan alacağınız ürün bilgisiniz ürünler listesine \n",
    "##### **ürün sayısını kullanıcıya sorun\n",
    "##### **dictionary listesi yapısı (name,prive) ekranda while ile \n"
   ]
  },
  {
   "cell_type": "code",
   "execution_count": 4,
   "id": "ace47f1a",
   "metadata": {},
   "outputs": [
    {
     "name": "stdout",
     "output_type": "stream",
     "text": [
      "Kaç adet ürün eklemek istiyorsunuz2\n",
      "ürün ismi: 30*60 TABLO\n",
      "ürün fiyatı: 458\n",
      "ürün ismi: 90*90 Karakalem Potre\n",
      "ürün fiyatı: 1951\n",
      "ürün adı:30*60 TABLO, ürün fiyatı:458\n",
      "ürün adı:90*90 Karakalem Potre, ürün fiyatı:1951\n"
     ]
    }
   ],
   "source": [
    "urunler=[]\n",
    "adet=int(input('Kaç adet ürün eklemek istiyorsunuz'))\n",
    "i=0\n",
    "while(i<adet):\n",
    "    name=input(\"ürün ismi: \")\n",
    "    price=input(\"ürün fiyatı: \")\n",
    "    urunler.append({\n",
    "        'name':name,\n",
    "        'price':price\n",
    "    })\n",
    "    i+=1\n",
    "     \n",
    "    \n",
    "    \n",
    "for urun in urunler:\n",
    "    print(f'ürün adı:{urun[\"name\"]}, ürün fiyatı:{urun[\"price\"]}')"
   ]
  },
  {
   "cell_type": "code",
   "execution_count": 8,
   "id": "7219f499",
   "metadata": {},
   "outputs": [
    {
     "name": "stdout",
     "output_type": "stream",
     "text": [
      "Kaç adet ürün eklemek istiyorsunuz5\n",
      "ürün ismi: dhg\n",
      "ürün fiyatı: 45\n",
      "ürün adı:şldk, ürün fiyatı:58\n",
      "ürün ismi: hh\n",
      "ürün fiyatı: 54\n",
      "ürün adı:şldk, ürün fiyatı:58\n",
      "ürün ismi: s\n",
      "ürün fiyatı: 64\n",
      "ürün adı:şldk, ürün fiyatı:58\n",
      "ürün ismi: gg\n",
      "ürün fiyatı: 64\n",
      "ürün adı:şldk, ürün fiyatı:58\n",
      "ürün ismi: fjj5\n",
      "ürün fiyatı: 456\n",
      "ürün adı:şldk, ürün fiyatı:58\n"
     ]
    }
   ],
   "source": [
    "urunler=[]\n",
    "adet=int(input('Kaç adet ürün eklemek istiyorsunuz'))\n",
    "i=0\n",
    "while(i<adet):\n",
    "    name=input(\"ürün ismi: \")\n",
    "    price=input(\"ürün fiyatı: \")\n",
    "    urunler.append({\n",
    "        'name':name,\n",
    "        'price':price\n",
    "    })\n",
    "    i+=1\n",
    "    print(f'ürün adı:{urun[\"name\"]}, ürün fiyatı:{urun[\"price\"]}')\n",
    "    \n"
   ]
  },
  {
   "cell_type": "code",
   "execution_count": null,
   "id": "888cfc00",
   "metadata": {},
   "outputs": [],
   "source": []
  }
 ],
 "metadata": {
  "kernelspec": {
   "display_name": "Python 3 (ipykernel)",
   "language": "python",
   "name": "python3"
  },
  "language_info": {
   "codemirror_mode": {
    "name": "ipython",
    "version": 3
   },
   "file_extension": ".py",
   "mimetype": "text/x-python",
   "name": "python",
   "nbconvert_exporter": "python",
   "pygments_lexer": "ipython3",
   "version": "3.10.8"
  }
 },
 "nbformat": 4,
 "nbformat_minor": 5
}
