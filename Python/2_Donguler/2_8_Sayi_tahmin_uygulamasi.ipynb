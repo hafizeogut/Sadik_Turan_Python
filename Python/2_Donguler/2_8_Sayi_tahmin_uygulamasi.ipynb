{
 "cells": [
  {
   "cell_type": "markdown",
   "id": "666e35c5-32f3-4fac-b974-f50d1793192a",
   "metadata": {},
   "source": [
    "1: 1-100 arasında rastgele üretilecek bir sayıyı aşağı yukarı ifadeleri ile buldurmaya çalışın. (hak = 5)\n",
    "\n",
    "   ** \"random modülü\" için \"python random\" şeklinde arama yapın.\n",
    "\n",
    "   ** 100 üzerinden puanlama yapın. Her soru 20 puan.\n",
    "\n",
    "   ** Hak bilgisini kullanıcıdan alın ve her soru belirtilen can sayısı üzerinden hesaplansın."
   ]
  },
  {
   "cell_type": "code",
   "execution_count": 10,
   "id": "ba205961-b9c2-45c9-9b6f-4b9ee1755c55",
   "metadata": {
    "tags": []
   },
   "outputs": [
    {
     "name": "stdin",
     "output_type": "stream",
     "text": [
      "Oyun kaç el olsun dersein? 3\n",
      "Tahmin: 5\n"
     ]
    },
    {
     "name": "stdout",
     "output_type": "stream",
     "text": [
      "Daha küçük bir sayı denemek ister misin? :)\n"
     ]
    },
    {
     "name": "stdin",
     "output_type": "stream",
     "text": [
      "Tahmin: 4\n"
     ]
    },
    {
     "name": "stdout",
     "output_type": "stream",
     "text": [
      "Daha küçük bir sayı denemek ister misin? :)\n"
     ]
    },
    {
     "name": "stdin",
     "output_type": "stream",
     "text": [
      "Tahmin: 3\n"
     ]
    },
    {
     "name": "stdout",
     "output_type": "stream",
     "text": [
      "Daha küçük bir sayı denemek ister misin? :)\n",
      "Malesef oyun hakkın bitti. Bulman gereken sayı 2 di.\n"
     ]
    }
   ],
   "source": [
    "import random\n",
    "can=int(input('Oyun kaç el olsun dersein?'))\n",
    "hak=can#hak değişkeni devamlı olarak değişeceği için can değişkeni hak değişkenine atandı.\n",
    "sayi=random.randint(1,100)\n",
    "sayac=0\n",
    "\n",
    "\n",
    "while hak>0:\n",
    "    hak-=1\n",
    "    sayac+=1\n",
    "    tahmin=int(input(\"Tahmin:\"))\n",
    "    \n",
    "    if 0<sayi<100:\n",
    "    \n",
    "        if sayi==tahmin:\n",
    "            print(f\"Tebrikler {sayac} denemede bildiniz. Toplam puanınız:{100-(100/can)*(sayac-1)}\")\n",
    "            break\n",
    "\n",
    "        elif sayi>tahmin:\n",
    "            print(\"Daha büyük bir sayı denemek ister misin?\")\n",
    "\n",
    "\n",
    "        elif sayi<tahmin:\n",
    "            print(\"Daha küçük bir sayı denemek ister misin? :)\")\n",
    "\n",
    "        if hak==0:\n",
    "            print('Malesef oyun hakkın bitti. Bulman gereken sayı {} di.'.format(sayi))\n",
    "            break\n",
    "            \n",
    "    else:\n",
    "        print(\"Girdiğiniz sayı 0-100 aralığında değildir.\")"
   ]
  },
  {
   "cell_type": "code",
   "execution_count": null,
   "id": "28c92b41-961e-41a5-b07c-68ab5284268d",
   "metadata": {
    "tags": []
   },
   "outputs": [
    {
     "ename": "SyntaxError",
     "evalue": "invalid syntax (823665437.py, line 1)",
     "output_type": "error",
     "traceback": [
      "\u001b[1;36m  Cell \u001b[1;32mIn [7], line 1\u001b[1;36m\u001b[0m\n\u001b[1;33m    Toplam puanınız:{100-(20)*(sayac-1)}\u001b[0m\n\u001b[1;37m           ^\u001b[0m\n\u001b[1;31mSyntaxError\u001b[0m\u001b[1;31m:\u001b[0m invalid syntax\n"
     ]
    }
   ],
   "source": []
  }
 ],
 "metadata": {
  "kernelspec": {
   "display_name": "Python 3 (ipykernel)",
   "language": "python",
   "name": "python3"
  },
  "language_info": {
   "codemirror_mode": {
    "name": "ipython",
    "version": 3
   },
   "file_extension": ".py",
   "mimetype": "text/x-python",
   "name": "python",
   "nbconvert_exporter": "python",
   "pygments_lexer": "ipython3",
   "version": "3.10.8"
  }
 },
 "nbformat": 4,
 "nbformat_minor": 5
}
