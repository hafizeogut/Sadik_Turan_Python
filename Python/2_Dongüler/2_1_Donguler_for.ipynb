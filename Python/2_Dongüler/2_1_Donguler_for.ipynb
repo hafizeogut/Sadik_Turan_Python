{
 "cells": [
  {
   "cell_type": "markdown",
   "id": "60b0d4bc",
   "metadata": {},
   "source": [
    "#  DÖNGÜLER\n"
   ]
  },
  {
   "cell_type": "code",
   "execution_count": 2,
   "id": "1aa18597",
   "metadata": {},
   "outputs": [
    {
     "name": "stdout",
     "output_type": "stream",
     "text": [
      "307\n",
      "1844\n",
      "7\n",
      "15\n"
     ]
    }
   ],
   "source": [
    "sayilar_liste=[307,1844,7,15]\n",
    "# number değişkeni for döngü yapısı ile sayılardan oluşturulan listenin indexklerine ulaşıldı.\n",
    "for number in sayilar_liste:\n",
    "    print(number)"
   ]
  },
  {
   "cell_type": "code",
   "execution_count": 5,
   "id": "e4cd6f68",
   "metadata": {},
   "outputs": [
    {
     "name": "stdout",
     "output_type": "stream",
     "text": [
      "number\n",
      "number\n",
      "number\n",
      "number\n"
     ]
    }
   ],
   "source": [
    "for number in sayilar_liste:\n",
    "    print(\"number\")"
   ]
  },
  {
   "cell_type": "code",
   "execution_count": 6,
   "id": "1ee940e6",
   "metadata": {},
   "outputs": [
    {
     "name": "stdout",
     "output_type": "stream",
     "text": [
      "Niyeti temiz olanın yolu açık olur"
     ]
    }
   ],
   "source": [
    "string=\"Niyeti temiz olanın yolu açık olur\"\n",
    "for i in string :\n",
    "    print(i,end=\"\")"
   ]
  },
  {
   "cell_type": "code",
   "execution_count": 14,
   "id": "788f16f4",
   "metadata": {},
   "outputs": [
    {
     "name": "stdout",
     "output_type": "stream",
     "text": [
      "Hafisenin melekleri Hafize\n",
      "Hafisenin melekleri Betülüm\n",
      "Hafisenin melekleri Feysam...\n"
     ]
    }
   ],
   "source": [
    "str_liste=[\"Hafize\",\"Betülüm\",\"Feysam...\"]\n",
    "for a in str_liste:\n",
    "    print(f'Hafisenin melekleri {a}')"
   ]
  },
  {
   "cell_type": "code",
   "execution_count": 17,
   "id": "a242db7e",
   "metadata": {},
   "outputs": [
    {
     "name": "stdout",
     "output_type": "stream",
     "text": [
      "Sevelim Sevilelim\n",
      "Yunus Emre\n"
     ]
    }
   ],
   "source": [
    "#For döngüsü ile tuple üzerinde gezinme işlemi yapıldı.\n",
    "tuplee=(\"Sevelim Sevilelim\",\"Yunus Emre\")\n",
    "\n",
    "for t in tuplee:\n",
    "    print(t)"
   ]
  },
  {
   "cell_type": "code",
   "execution_count": 22,
   "id": "eb49cd77",
   "metadata": {},
   "outputs": [
    {
     "name": "stdout",
     "output_type": "stream",
     "text": [
      "(307, 1844)\n",
      "(7, 15)\n",
      "\n",
      "\n",
      "307,1844\n",
      "7,15\n"
     ]
    }
   ],
   "source": [
    "List_Tuple=[(307,1844),(7,15)]\n",
    "\n",
    "#liste içerisindeki Tuple değerlerine ulaşıldı.\n",
    "for lt in List_Tuple:\n",
    "    print(lt)\n",
    "print(\"\\n\")\n",
    "    \n",
    "for  a,b in List_Tuple:\n",
    "    print(f'{a},{b}')"
   ]
  },
  {
   "cell_type": "code",
   "execution_count": 31,
   "id": "5be34633",
   "metadata": {},
   "outputs": [
    {
     "name": "stdout",
     "output_type": "stream",
     "text": [
      "İsim:Hafize\n",
      "Yaş:23\n",
      "Hobi:Resim,Dikiş,Yemek Yapmak,Farklı araçlar sürmek\n"
     ]
    }
   ],
   "source": [
    "#For döngü yapısı ile sözlükteki key:value değerlerine ulaşıldı.\n",
    "Sozluk={'İsim':'Hafize','Yaş':23,'Hobi':'Resim,Dikiş,Yemek Yapmak,Farklı araçlar sürmek'}\n",
    "for key,value in Sozluk.items():#key value değerlerine ulaşmak adına items fonksiyonu önemlidir.\n",
    "    #Aksi taktirde hata alınacaktır.\n",
    "    \n",
    "    print(\"{}:{}\".format(key,value))"
   ]
  },
  {
   "cell_type": "code",
   "execution_count": null,
   "id": "45db4021",
   "metadata": {},
   "outputs": [],
   "source": [
    ";"
   ]
  }
 ],
 "metadata": {
  "kernelspec": {
   "display_name": "Python 3 (ipykernel)",
   "language": "python",
   "name": "python3"
  },
  "language_info": {
   "codemirror_mode": {
    "name": "ipython",
    "version": 3
   },
   "file_extension": ".py",
   "mimetype": "text/x-python",
   "name": "python",
   "nbconvert_exporter": "python",
   "pygments_lexer": "ipython3",
   "version": "3.10.8"
  }
 },
 "nbformat": 4,
 "nbformat_minor": 5
}
