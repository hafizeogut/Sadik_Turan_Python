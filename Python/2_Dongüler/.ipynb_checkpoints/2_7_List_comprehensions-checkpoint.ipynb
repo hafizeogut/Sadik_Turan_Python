{
 "cells": [
  {
   "cell_type": "markdown",
   "id": "5d942b29-b52c-443d-94bc-d5669134e023",
   "metadata": {
    "tags": []
   },
   "source": [
    "LİST COMPREHENSİON"
   ]
  },
  {
   "cell_type": "code",
   "execution_count": 5,
   "id": "633fee56-b745-4d8e-ac99-8b059878cfa6",
   "metadata": {
    "tags": []
   },
   "outputs": [
    {
     "name": "stdout",
     "output_type": "stream",
     "text": [
      "0\n",
      "1\n",
      "2\n",
      "3\n",
      "4\n",
      "5\n",
      "6\n",
      "7\n",
      "8\n",
      "9\n",
      "[0, 1, 2, 3, 4, 5, 6, 7, 8, 9]\n"
     ]
    }
   ],
   "source": [
    "numbers=[]\n",
    "for i in range(10):\n",
    "    numbers.append(i)\n",
    "    print(i)\n",
    "print(numbers);"
   ]
  },
  {
   "cell_type": "code",
   "execution_count": 7,
   "id": "50eac308-a425-40c6-ba71-94af25b6ef44",
   "metadata": {
    "tags": []
   },
   "outputs": [
    {
     "data": {
      "text/plain": [
       "[0, 1, 2, 3, 4, 5, 6, 7, 8, 9]"
      ]
     },
     "execution_count": 7,
     "metadata": {},
     "output_type": "execute_result"
    }
   ],
   "source": [
    "numbers=[b for b in range (10)]\n",
    "numbers"
   ]
  },
  {
   "cell_type": "code",
   "execution_count": 11,
   "id": "6d5a7b12-d799-4159-8ace-ff4b681e4de4",
   "metadata": {
    "tags": []
   },
   "outputs": [
    {
     "name": "stdout",
     "output_type": "stream",
     "text": [
      "1\n",
      "4\n",
      "9\n",
      "16\n",
      "25\n",
      "36\n",
      "49\n",
      "64\n",
      "81\n"
     ]
    },
    {
     "data": {
      "text/plain": [
       "[0, 9, 36, 81]"
      ]
     },
     "execution_count": 11,
     "metadata": {},
     "output_type": "execute_result"
    }
   ],
   "source": [
    "for b in range(1,10):\n",
    "    print(b**2)\n",
    "    \n",
    "numbers=[b*b for b in range(0,10) if b%3==0]\n",
    "numbers"
   ]
  },
  {
   "cell_type": "code",
   "execution_count": 13,
   "id": "7dca1555-8d8c-48ed-a1dd-24ac368ad3b9",
   "metadata": {
    "tags": []
   },
   "outputs": [
    {
     "name": "stdout",
     "output_type": "stream",
     "text": [
      "['N', 'i', 'y', 'e', 't', 'i', ' ', 'T', 'e', 'm', 'i', 'z', ' ', 'O', 'l', 'a', 'n', 'ı', 'n', ' ', 'Y', 'o', 'l', 'u', ' ', 'A', 'ç', 'ı', 'k', ' ', 'O', 'l', 'u', 'r', '.', 'H', '.', 'Ö', '.']\n"
     ]
    }
   ],
   "source": [
    "myString='Niyeti Temiz Olanın Yolu Açık Olur.H.Ö.'\n",
    "myList=[]\n",
    "\n",
    "for letter in myString:\n",
    "    \n",
    "    myList.append(letter)\n",
    "    \n",
    "print(myList)\n"
   ]
  },
  {
   "cell_type": "code",
   "execution_count": 16,
   "id": "793c89b3-da4c-4297-bf8c-3c7da9df40d7",
   "metadata": {
    "scrolled": true,
    "tags": []
   },
   "outputs": [
    {
     "data": {
      "text/plain": [
       "['N',\n",
       " 'i',\n",
       " 'y',\n",
       " 'e',\n",
       " 't',\n",
       " 'i',\n",
       " ' ',\n",
       " 'T',\n",
       " 'e',\n",
       " 'm',\n",
       " 'i',\n",
       " 'z',\n",
       " ' ',\n",
       " 'O',\n",
       " 'l',\n",
       " 'a',\n",
       " 'n',\n",
       " 'ı',\n",
       " 'n',\n",
       " ' ',\n",
       " 'Y',\n",
       " 'o',\n",
       " 'l',\n",
       " 'u',\n",
       " ' ',\n",
       " 'A',\n",
       " 'ç',\n",
       " 'ı',\n",
       " 'k',\n",
       " ' ',\n",
       " 'O',\n",
       " 'l',\n",
       " 'u',\n",
       " 'r',\n",
       " '.',\n",
       " 'H',\n",
       " '.',\n",
       " 'Ö',\n",
       " '.']"
      ]
     },
     "execution_count": 16,
     "metadata": {},
     "output_type": "execute_result"
    }
   ],
   "source": [
    "myList=[letter for letter in myString]\n",
    "myList"
   ]
  },
  {
   "cell_type": "code",
   "execution_count": 18,
   "id": "046bcab9-554a-4a15-9313-8e8bfa884f45",
   "metadata": {
    "tags": []
   },
   "outputs": [
    {
     "name": "stdout",
     "output_type": "stream",
     "text": [
      "[24, 23, 20, 17]\n"
     ]
    }
   ],
   "source": [
    "years=[1999,2000,2003,2006]\n",
    "\n",
    "ages=[2023-year for year in years]\n",
    "print (ages)"
   ]
  },
  {
   "cell_type": "code",
   "execution_count": 19,
   "id": "d9d1ed84-c36d-4e58-9b2a-7821c4fb9196",
   "metadata": {
    "tags": []
   },
   "outputs": [
    {
     "data": {
      "text/plain": [
       "['tek', 2, 'tek', 4, 'tek', 6, 'tek', 8, 'tek']"
      ]
     },
     "execution_count": 19,
     "metadata": {},
     "output_type": "execute_result"
    }
   ],
   "source": [
    "results=[x if x%2==0 else 'tek' for x in range(1,10)]\n",
    "results"
   ]
  },
  {
   "cell_type": "code",
   "execution_count": 22,
   "id": "76dd7034-cab4-4753-9f2a-022ad8f57e69",
   "metadata": {
    "tags": []
   },
   "outputs": [
    {
     "data": {
      "text/plain": [
       "[(0, 1), (0, 2), (0, 3), (1, 1), (1, 2), (1, 3), (2, 1), (2, 2), (2, 3)]"
      ]
     },
     "execution_count": 22,
     "metadata": {},
     "output_type": "execute_result"
    }
   ],
   "source": [
    "result=[]\n",
    "for x in range(3):\n",
    "    for y in range(1,4):\n",
    "        result.append((x,y))\n",
    "result"
   ]
  },
  {
   "cell_type": "code",
   "execution_count": 25,
   "id": "7a00f597-70ee-49f6-8a58-03046824f91a",
   "metadata": {
    "tags": []
   },
   "outputs": [
    {
     "data": {
      "text/plain": [
       "[(0, 0), (0, 1), (0, 2), (1, 0), (1, 1), (1, 2), (2, 0), (2, 1), (2, 2)]"
      ]
     },
     "execution_count": 25,
     "metadata": {},
     "output_type": "execute_result"
    }
   ],
   "source": [
    "numbers=[(x,y) for x in range(3) for y in range(3)]\n",
    "numbers"
   ]
  },
  {
   "cell_type": "code",
   "execution_count": null,
   "id": "1a938970-a792-40f4-8c58-8da297f84da3",
   "metadata": {},
   "outputs": [],
   "source": []
  }
 ],
 "metadata": {
  "kernelspec": {
   "display_name": "Python 3 (ipykernel)",
   "language": "python",
   "name": "python3"
  },
  "language_info": {
   "codemirror_mode": {
    "name": "ipython",
    "version": 3
   },
   "file_extension": ".py",
   "mimetype": "text/x-python",
   "name": "python",
   "nbconvert_exporter": "python",
   "pygments_lexer": "ipython3",
   "version": "3.10.8"
  }
 },
 "nbformat": 4,
 "nbformat_minor": 5
}
