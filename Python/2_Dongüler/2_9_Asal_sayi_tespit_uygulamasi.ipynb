{
 "cells": [
  {
   "cell_type": "markdown",
   "id": "ecb2f749-732d-4e4e-86b8-114725beb4e2",
   "metadata": {},
   "source": [
    "Girilen bir sayının asal olup olmadığını bulunuz.\n",
    "\n",
    "** Asal Sayı 1 ve kendisi hariç tam böleni olmayan sayılara denir. "
   ]
  },
  {
   "cell_type": "code",
   "execution_count": 18,
   "id": "e8f7cfc6-7399-468b-a2b5-633b7a73056c",
   "metadata": {
    "tags": []
   },
   "outputs": [
    {
     "name": "stdin",
     "output_type": "stream",
     "text": [
      "Sayı giriniz:  17\n"
     ]
    },
    {
     "name": "stdout",
     "output_type": "stream",
     "text": [
      "asaldır\n"
     ]
    }
   ],
   "source": [
    "\n",
    "\n",
    "Sayi=int(input(\"Sayı giriniz: \"))\n",
    "\n",
    "b='b'     \n",
    "if Sayi==1:\n",
    "    b='a'\n",
    "    \n",
    "               \n",
    "for i in range(2,int(float(Sayi)/2)):\n",
    "    if Sayi%i==0:\n",
    "        b='a'\n",
    "        break\n",
    "if b=='a':\n",
    "    print('sayınız asal değildir')\n",
    "else:\n",
    "    print(\"asaldır\")"
   ]
  },
  {
   "cell_type": "code",
   "execution_count": 21,
   "id": "8c181857-fba0-43af-846c-a554195503c8",
   "metadata": {
    "tags": []
   },
   "outputs": [
    {
     "name": "stdin",
     "output_type": "stream",
     "text": [
      "Sayı giriniz:  15\n"
     ]
    },
    {
     "name": "stdout",
     "output_type": "stream",
     "text": [
      "15 sayısı asal değildir.\n"
     ]
    }
   ],
   "source": [
    "Sayi=int(input(\"Sayı giriniz: \"))\n",
    "\n",
    "asalmi=True    \n",
    "if Sayi==1:\n",
    "    asalmi=False\n",
    "    \n",
    "               \n",
    "for i in range(2,Sayi):\n",
    "    if Sayi%i==0:\n",
    "        asalmi=False\n",
    "        break\n",
    "if asalmi:\n",
    "    print(f'{Sayi} sayısı asaldır')\n",
    "else:\n",
    "    print(f\"{Sayi} sayısı asal değildir.\")"
   ]
  },
  {
   "cell_type": "code",
   "execution_count": null,
   "id": "a5f08f80-368a-44ed-83a2-74b6e8c50360",
   "metadata": {},
   "outputs": [],
   "source": []
  }
 ],
 "metadata": {
  "kernelspec": {
   "display_name": "Python 3 (ipykernel)",
   "language": "python",
   "name": "python3"
  },
  "language_info": {
   "codemirror_mode": {
    "name": "ipython",
    "version": 3
   },
   "file_extension": ".py",
   "mimetype": "text/x-python",
   "name": "python",
   "nbconvert_exporter": "python",
   "pygments_lexer": "ipython3",
   "version": "3.10.8"
  }
 },
 "nbformat": 4,
 "nbformat_minor": 5
}
