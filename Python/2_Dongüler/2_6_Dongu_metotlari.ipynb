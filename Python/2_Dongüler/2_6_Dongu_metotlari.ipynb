{
 "cells": [
  {
   "cell_type": "markdown",
   "id": "552b2f41",
   "metadata": {},
   "source": [
    "# range()\n",
    "##### range(Başlangıç,Bitiş,Artış mikarı)"
   ]
  },
  {
   "cell_type": "code",
   "execution_count": 6,
   "id": "df9bc350",
   "metadata": {},
   "outputs": [
    {
     "name": "stdout",
     "output_type": "stream",
     "text": [
      "0\n",
      "2\n",
      "4\n",
      "6\n",
      "8\n"
     ]
    }
   ],
   "source": [
    "liste=[46,21,1,80,63,2,27,44,31]\n",
    "\n",
    "for item in range(0,len(liste),2):\n",
    "    print(item)"
   ]
  },
  {
   "cell_type": "markdown",
   "id": "af53cfa1",
   "metadata": {},
   "source": [
    "# enumerate()\n",
    "##### - Nesneleri numaralandırmak için kullanılır.\n",
    "##### -Bir listedeki hem elemanı hem de indeksi getirir."
   ]
  },
  {
   "cell_type": "code",
   "execution_count": 9,
   "id": "0ab1dfca",
   "metadata": {},
   "outputs": [
    {
     "name": "stdout",
     "output_type": "stream",
     "text": [
      "index: 0 letter: A\n",
      "index: 1 letter: h\n",
      "index: 2 letter: !\n",
      "index: 3 letter:  \n",
      "index: 4 letter: G\n",
      "index: 5 letter: ü\n",
      "index: 6 letter: z\n",
      "index: 7 letter: e\n",
      "index: 8 letter: l\n",
      "index: 9 letter:  \n",
      "index: 10 letter: Ü\n",
      "index: 11 letter: l\n",
      "index: 12 letter: k\n",
      "index: 13 letter: e\n",
      "index: 14 letter: m\n"
     ]
    }
   ],
   "source": [
    "index=0\n",
    "soz='Ah! Güzel Ülkem'\n",
    "\n",
    "for i in soz:\n",
    "    print(f'index: {index} letter: {soz[index]}')\n",
    "    index +=1"
   ]
  },
  {
   "cell_type": "code",
   "execution_count": 12,
   "id": "c76970f0",
   "metadata": {},
   "outputs": [
    {
     "name": "stdout",
     "output_type": "stream",
     "text": [
      "index: 0 letter: m\n"
     ]
    }
   ],
   "source": [
    "soz='Ah! Güzel Ülkem'\n",
    "\n",
    "for index,i in enumerate(i):\n",
    "    print(f'index: {index} letter: {i}')\n",
    "    index +=1"
   ]
  },
  {
   "cell_type": "code",
   "execution_count": 13,
   "id": "fd7cc831",
   "metadata": {},
   "outputs": [
    {
     "name": "stdout",
     "output_type": "stream",
     "text": [
      "(0, 'A')\n",
      "(1, 'h')\n",
      "(2, '!')\n",
      "(3, ' ')\n",
      "(4, 'G')\n",
      "(5, 'ü')\n",
      "(6, 'z')\n",
      "(7, 'e')\n",
      "(8, 'l')\n",
      "(9, ' ')\n",
      "(10, 'Ü')\n",
      "(11, 'l')\n",
      "(12, 'k')\n",
      "(13, 'e')\n",
      "(14, 'm')\n"
     ]
    }
   ],
   "source": [
    "for item in enumerate(soz):#enumarare() bir listeedeki elemalara ve indexlere kolaylıkla ulaşılmasını sağlar.\n",
    "    print(item)\n",
    "    "
   ]
  },
  {
   "cell_type": "code",
   "execution_count": 1,
   "id": "5b1798a5",
   "metadata": {
    "tags": []
   },
   "outputs": [
    {
     "name": "stdout",
     "output_type": "stream",
     "text": [
      "[(46, 'K'), (21, 'D'), (1, 'A'), (80, 'O'), (63, 'Ş'), (2, 'A'), (27, 'G'), (44, 'M'), (31, 'H')]\n"
     ]
    }
   ],
   "source": [
    "liste1=[46,21,1,80,63,2,27,44,31]\n",
    "liste2=['K','D','A','O','Ş','A','G','M','H']\n",
    "\n",
    "print(list(zip(liste1,liste2)))"
   ]
  },
  {
   "cell_type": "code",
   "execution_count": 3,
   "id": "edb2ed05",
   "metadata": {
    "tags": []
   },
   "outputs": [
    {
     "name": "stdout",
     "output_type": "stream",
     "text": [
      "[(46, 'K', 46), (21, 'D', 21), (1, 'A', 1), (80, 'O', 80), (63, 'Ş', 63), (2, 'A', 2), (27, 'G', 27), (44, 'M', 44), (31, 'H', 31)]\n"
     ]
    }
   ],
   "source": [
    "liste1=[46,21,1,80,63,2,27,44,31]\n",
    "liste2=['K','D','A','O','Ş','A','G','M','H']\n",
    "liste3=[46,21,1,80,63,2,27,44,31]\n",
    "\n",
    "print(list(zip(liste1,liste2,liste3)))"
   ]
  },
  {
   "cell_type": "code",
   "execution_count": 4,
   "id": "8f0dd4a1-82e5-4b14-b20d-a31c89215072",
   "metadata": {
    "tags": []
   },
   "outputs": [
    {
     "name": "stdout",
     "output_type": "stream",
     "text": [
      "(46, 'K', 46)\n",
      "(21, 'D', 21)\n",
      "(1, 'A', 1)\n",
      "(80, 'O', 80)\n",
      "(63, 'Ş', 63)\n",
      "(2, 'A', 2)\n",
      "(27, 'G', 27)\n",
      "(44, 'M', 44)\n",
      "(31, 'H', 31)\n"
     ]
    }
   ],
   "source": [
    "for item in zip(liste1,liste2,liste3):\n",
    "    print(item)"
   ]
  },
  {
   "cell_type": "code",
   "execution_count": 5,
   "id": "a27e0d34-63ae-4ab5-a434-d6f4ee95df87",
   "metadata": {
    "tags": []
   },
   "outputs": [
    {
     "name": "stdout",
     "output_type": "stream",
     "text": [
      "46 K 46\n",
      "21 D 21\n",
      "1 A 1\n",
      "80 O 80\n",
      "63 Ş 63\n",
      "2 A 2\n",
      "27 G 27\n",
      "44 M 44\n",
      "31 H 31\n"
     ]
    }
   ],
   "source": [
    "for a,b,c in zip(liste1,liste2,liste3):\n",
    "    print(a,b,c)"
   ]
  },
  {
   "cell_type": "code",
   "execution_count": null,
   "id": "1148e8bb-e2c4-489a-88db-340742b23949",
   "metadata": {},
   "outputs": [],
   "source": []
  }
 ],
 "metadata": {
  "kernelspec": {
   "display_name": "Python 3 (ipykernel)",
   "language": "python",
   "name": "python3"
  },
  "language_info": {
   "codemirror_mode": {
    "name": "ipython",
    "version": 3
   },
   "file_extension": ".py",
   "mimetype": "text/x-python",
   "name": "python",
   "nbconvert_exporter": "python",
   "pygments_lexer": "ipython3",
   "version": "3.10.8"
  }
 },
 "nbformat": 4,
 "nbformat_minor": 5
}
