{
 "cells": [
  {
   "cell_type": "markdown",
   "id": "3ca3aad4",
   "metadata": {},
   "source": [
    "##### 1-)1-100 arasındaki tek ve çift sayıları while döngüsü kullanarak yazdırınız"
   ]
  },
  {
   "cell_type": "code",
   "execution_count": 8,
   "id": "872ecf48",
   "metadata": {},
   "outputs": [
    {
     "name": "stdout",
     "output_type": "stream",
     "text": [
      "Tek Sayılar: [1, 3, 5, 7, 9, 11, 13, 15, 17, 19, 21, 23, 25, 27, 29, 31, 33, 35, 37, 39, 41, 43, 45, 47, 49, 51, 53, 55, 57, 59, 61, 63, 65, 67, 69, 71, 73, 75, 77, 79, 81, 83, 85, 87, 89, 91, 93, 95, 97, 99]\n",
      "Çift Sayılar:[2, 4, 6, 8, 10, 12, 14, 16, 18, 20, 22, 24, 26, 28, 30, 32, 34, 36, 38, 40, 42, 44, 46, 48, 50, 52, 54, 56, 58, 60, 62, 64, 66, 68, 70, 72, 74, 76, 78, 80, 82, 84, 86, 88, 90, 92, 94, 96, 98, 100]\n"
     ]
    }
   ],
   "source": [
    "sayi=1\n",
    "tek_sayilar=[]\n",
    "cift_sayilar=[]\n",
    "\n",
    "while(sayi<=100):\n",
    "    if sayi%2==1:\n",
    "        tek_sayilar.append(sayi)\n",
    "        \n",
    "    else:\n",
    "        cift_sayilar.append(sayi)\n",
    "        \n",
    "    sayi +=1\n",
    "print(f\"Tek Sayılar: {tek_sayilar}\")\n",
    "print(f\"Çift Sayılar:{cift_sayilar}\")\n",
    "        "
   ]
  },
  {
   "cell_type": "code",
   "execution_count": 25,
   "id": "f03fb9f0",
   "metadata": {},
   "outputs": [
    {
     "name": "stdout",
     "output_type": "stream",
     "text": [
      "isminizi giriniz: \n",
      "isminizi giriniz: \n",
      "isminizi giriniz:  \n",
      "isminiz:  \n"
     ]
    }
   ],
   "source": [
    "name=''\n",
    "while not name:#space karakter olarak algılamasına stript fonksiyonu ile engel olundu.\n",
    "    name=input('isminizi giriniz: ')\n",
    "print(\"isminiz: {}\".format(name))"
   ]
  },
  {
   "cell_type": "code",
   "execution_count": 23,
   "id": "f06d3624",
   "metadata": {},
   "outputs": [
    {
     "name": "stdout",
     "output_type": "stream",
     "text": [
      "isminizi giriniz:  \n",
      "isminizi giriniz:  \n",
      "isminizi giriniz:  \n",
      "isminizi giriniz:  \n",
      "isminizi giriniz:  \n",
      "isminizi giriniz:   \n",
      "isminizi giriniz:    \n",
      "isminizi giriniz: Hafise\n",
      "isminiz: Hafise\n"
     ]
    }
   ],
   "source": [
    "name=' '\n",
    "while not name.strip():#space karakter olarak algılamasına stript fonksiyonu ile engel olundu.\n",
    "    name=input('isminizi giriniz: ')\n",
    "print(\"isminiz: {}\".format(name))"
   ]
  }
 ],
 "metadata": {
  "kernelspec": {
   "display_name": "Python 3 (ipykernel)",
   "language": "python",
   "name": "python3"
  },
  "language_info": {
   "codemirror_mode": {
    "name": "ipython",
    "version": 3
   },
   "file_extension": ".py",
   "mimetype": "text/x-python",
   "name": "python",
   "nbconvert_exporter": "python",
   "pygments_lexer": "ipython3",
   "version": "3.10.8"
  }
 },
 "nbformat": 4,
 "nbformat_minor": 5
}
