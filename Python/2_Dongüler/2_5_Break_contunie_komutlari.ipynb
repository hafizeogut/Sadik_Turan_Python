{
 "cells": [
  {
   "cell_type": "code",
   "execution_count": 12,
   "id": "bd703438",
   "metadata": {},
   "outputs": [
    {
     "name": "stdout",
     "output_type": "stream",
     "text": [
      "Bir şehir kadar kalabalıktır bazıları.\n",
      "Bir dehliz kadar karanlıktır bazıları...\n",
      "Cahit Zarifoğlu\n",
      "\n",
      "Bir şehir kadar kalabalıktır bazıları.\n",
      "Bir dehliz kadar karanlıktır bazıları...\n",
      "Cahit Zarifoğlu\n",
      "\n"
     ]
    }
   ],
   "source": [
    "bugunki_alinti='Bir şehir kadar kalabalıktır bazıları.\\nBir dehliz kadar karanlıktır bazıları...\\nCahit Zarifoğlu\\n'\n",
    "\n",
    "for i in bugunki_alinti:\n",
    "    if i=='r':\n",
    "        break\n",
    "        \n",
    "    print (bugunki_alinti)"
   ]
  },
  {
   "cell_type": "code",
   "execution_count": 14,
   "id": "84d1200d",
   "metadata": {},
   "outputs": [
    {
     "name": "stdout",
     "output_type": "stream",
     "text": [
      "1\n",
      "7\n"
     ]
    }
   ],
   "source": [
    "x=1\n",
    "\n",
    "while x<6:\n",
    "    if x==2:\n",
    "        x=7#break ile aynı işlem\n",
    "    print(x)\n",
    "    x+=1"
   ]
  },
  {
   "cell_type": "code",
   "execution_count": 16,
   "id": "583196bb",
   "metadata": {},
   "outputs": [
    {
     "name": "stdout",
     "output_type": "stream",
     "text": [
      "1\n",
      "2\n",
      "3\n",
      "4\n"
     ]
    }
   ],
   "source": [
    "x=1\n",
    "\n",
    "while x<6:\n",
    "    if x==5:\n",
    "        break\n",
    "    print(x)\n",
    "    x+=1"
   ]
  },
  {
   "cell_type": "markdown",
   "id": "d1e261e3",
   "metadata": {},
   "source": [
    "#### 1: 1- 100 e kadar tek sayıların toplamını bulan programı yazınız.\n"
   ]
  },
  {
   "cell_type": "code",
   "execution_count": 21,
   "id": "d2243e45",
   "metadata": {},
   "outputs": [
    {
     "name": "stdout",
     "output_type": "stream",
     "text": [
      "toplam: 2601\n"
     ]
    }
   ],
   "source": [
    "x=0\n",
    "result=0\n",
    "\n",
    "while x<=100:\n",
    "    x+=1\n",
    "    if x%2==0:\n",
    "        continue\n",
    "        \n",
    "    result+=x\n",
    "    \n",
    "    \n",
    "print(f'toplam: {result}')\n",
    "       "
   ]
  },
  {
   "cell_type": "code",
   "execution_count": null,
   "id": "348eabbd",
   "metadata": {},
   "outputs": [],
   "source": []
  }
 ],
 "metadata": {
  "kernelspec": {
   "display_name": "Python 3 (ipykernel)",
   "language": "python",
   "name": "python3"
  },
  "language_info": {
   "codemirror_mode": {
    "name": "ipython",
    "version": 3
   },
   "file_extension": ".py",
   "mimetype": "text/x-python",
   "name": "python",
   "nbconvert_exporter": "python",
   "pygments_lexer": "ipython3",
   "version": "3.10.8"
  }
 },
 "nbformat": 4,
 "nbformat_minor": 5
}
