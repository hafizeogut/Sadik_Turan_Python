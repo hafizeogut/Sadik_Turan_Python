{
 "cells": [
  {
   "cell_type": "markdown",
   "id": "20ec6db9",
   "metadata": {},
   "source": [
    "##### 1- Sayilar listedeki hangi sayılar üçün katıdır?"
   ]
  },
  {
   "cell_type": "code",
   "execution_count": 1,
   "id": "b9d3d4da",
   "metadata": {},
   "outputs": [
    {
     "name": "stdout",
     "output_type": "stream",
     "text": [
      "3\n",
      "6\n",
      "9\n",
      "12\n",
      "15\n",
      "18\n"
     ]
    }
   ],
   "source": [
    "sayilar=[1,2,3,4,5,6,7,8,9,10,11,12,13,14,15,16,17,18,19,20]\n",
    "\n",
    "for sayi in sayilar:\n",
    "    if(sayi%3==0):\n",
    "        print(sayi)"
   ]
  },
  {
   "cell_type": "code",
   "execution_count": 3,
   "id": "7d33b749",
   "metadata": {},
   "outputs": [
    {
     "data": {
      "text/plain": [
       "[3, 6, 9, 12, 15, 18]"
      ]
     },
     "execution_count": 3,
     "metadata": {},
     "output_type": "execute_result"
    }
   ],
   "source": [
    "#list Comprehension yapıpsı ile for döngüsü kullanımı:\n",
    "[sayi for sayi in sayilar if sayi % 3 == 0]"
   ]
  },
  {
   "cell_type": "code",
   "execution_count": 5,
   "id": "e41bb7e3",
   "metadata": {},
   "outputs": [
    {
     "name": "stdout",
     "output_type": "stream",
     "text": [
      "Sayıların Toplamı: 210\n"
     ]
    }
   ],
   "source": [
    "#Sayilar listesindeki tam sayıların toplamı kaçtır\n",
    "toplam=0\n",
    "\n",
    "for sayi in sayilar:\n",
    "    toplam=toplam+sayi\n",
    "    #print(\"Sayıların Toplamı: {}\".format(toplam))\n",
    "print(\"Sayıların Toplamı: {}\".format(toplam))"
   ]
  },
  {
   "cell_type": "markdown",
   "id": "0d3f7c1b",
   "metadata": {},
   "source": [
    "##### 3- listedeki tek sayıların karesini alınız."
   ]
  },
  {
   "cell_type": "code",
   "execution_count": 30,
   "id": "1dc785f9",
   "metadata": {},
   "outputs": [],
   "source": [
    "#def iskelet yapısında tek sayılar tespit edildi\n",
    "def tek_sayilar(x):    \n",
    "    if x % 2 == 1:\n",
    "        print(x*x)\n",
    "        \n"
   ]
  },
  {
   "cell_type": "code",
   "execution_count": 33,
   "id": "38d9f147",
   "metadata": {},
   "outputs": [
    {
     "name": "stdout",
     "output_type": "stream",
     "text": [
      "1\n",
      "9\n",
      "25\n",
      "49\n",
      "81\n",
      "121\n",
      "169\n",
      "225\n",
      "289\n",
      "361\n"
     ]
    },
    {
     "data": {
      "text/plain": [
       "[]"
      ]
     },
     "execution_count": 33,
     "metadata": {},
     "output_type": "execute_result"
    }
   ],
   "source": [
    "#list comp. yapısıyla listedeki tek sayıların fonksiyon kullanılarak karesi alındı.\n",
    "[sayi for sayi in sayilar if tek_sayilar(sayi)]"
   ]
  },
  {
   "cell_type": "code",
   "execution_count": 50,
   "id": "e4a07370",
   "metadata": {},
   "outputs": [
    {
     "name": "stdout",
     "output_type": "stream",
     "text": [
      "[1, 9, 25, 49, 81, 121, 169, 225, 289, 361]\n"
     ]
    }
   ],
   "source": [
    "liste=[]\n",
    "for sayi in sayilar:#sayilar listesindeki elemanlara ulaşıldı.\n",
    "    if(sayi%2==1):#tek sayılar tespit edildi\n",
    "        sayi=sayi**2\n",
    "        liste.append(sayi)# karesi alınan tek sayılar listeye eklendi.\n",
    "print(liste)"
   ]
  },
  {
   "cell_type": "code",
   "execution_count": 51,
   "id": "c0e32d07",
   "metadata": {},
   "outputs": [],
   "source": [
    "sehirler=[\"Uşak\",\"Uşak\",\"İstanbul\",\"Nevşehir\",\"Muğla\",\"İzmir\",\"Aydın\"]"
   ]
  },
  {
   "cell_type": "markdown",
   "id": "3d253fd2",
   "metadata": {},
   "source": [
    "##### 4- Şehirlerden hangileri en fazla 5 karakterlidir?"
   ]
  },
  {
   "cell_type": "code",
   "execution_count": 52,
   "id": "44c352fa",
   "metadata": {},
   "outputs": [
    {
     "name": "stdout",
     "output_type": "stream",
     "text": [
      "Uşak\n",
      "Uşak\n",
      "Muğla\n",
      "İzmir\n",
      "Aydın\n"
     ]
    }
   ],
   "source": [
    "for sehir in sehirler:#sehirler listesindeki indisdeki elemanlara ulaşıldı.\n",
    "    if (len(sehir)<=5):#karakter uzunluğu koşulu len() fonksiyonu ile koşul sağlandı.\n",
    "        print(sehir)"
   ]
  },
  {
   "cell_type": "code",
   "execution_count": 53,
   "id": "0d3579fe",
   "metadata": {},
   "outputs": [
    {
     "data": {
      "text/plain": [
       "['Uşak', 'Uşak', 'Muğla', 'İzmir', 'Aydın']"
      ]
     },
     "execution_count": 53,
     "metadata": {},
     "output_type": "execute_result"
    }
   ],
   "source": [
    "[sehir for sehir in sehirler if(len(sehir)<=5)]"
   ]
  },
  {
   "cell_type": "code",
   "execution_count": 54,
   "id": "deb34ba0",
   "metadata": {},
   "outputs": [],
   "source": [
    "urunler = [\n",
    "  {'name':'samsung S6', 'price': '3000' },\n",
    "  {'name':'samsung S7', 'price': '4000' },\n",
    "  {'name':'samsung S8', 'price': '5000' },\n",
    "  {'name':'samsung S9', 'price': '6000' },\n",
    "  {'name':'samsung S10', 'price': '7000' }\n",
    "]\n"
   ]
  },
  {
   "cell_type": "markdown",
   "id": "416d2c8a",
   "metadata": {},
   "source": [
    "##### 5- Ürünlerin fiyatları toplamı nedir ?"
   ]
  },
  {
   "cell_type": "code",
   "execution_count": 55,
   "id": "db48ce17",
   "metadata": {},
   "outputs": [
    {
     "name": "stdout",
     "output_type": "stream",
     "text": [
      "25000\n"
     ]
    }
   ],
   "source": [
    "toplam=0\n",
    "for urun in urunler:\n",
    "    fiyat =int(urun['price'])\n",
    "    toplam +=fiyat\n",
    "print(\"Toplam Ürün fiyatı\",toplam)"
   ]
  },
  {
   "cell_type": "markdown",
   "id": "61f87b15",
   "metadata": {},
   "source": [
    "##### Ürünlerin fiyatı en fazla 5000 olan ürünlerini gösteriniz?"
   ]
  },
  {
   "cell_type": "code",
   "execution_count": 57,
   "id": "c6566f5a",
   "metadata": {},
   "outputs": [
    {
     "name": "stdout",
     "output_type": "stream",
     "text": [
      "samsung S6\n",
      "samsung S7\n"
     ]
    }
   ],
   "source": [
    "toplam=0\n",
    "for urun in urunler:\n",
    "    if(int(urun['price'])<5000):\n",
    "        print(urun['name'])\n"
   ]
  },
  {
   "cell_type": "code",
   "execution_count": 59,
   "id": "7cb88910",
   "metadata": {},
   "outputs": [
    {
     "data": {
      "text/plain": [
       "[{'name': 'samsung S6', 'price': '3000'},\n",
       " {'name': 'samsung S7', 'price': '4000'}]"
      ]
     },
     "execution_count": 59,
     "metadata": {},
     "output_type": "execute_result"
    }
   ],
   "source": [
    "[urun for urun in urunler if(int(urun['price'])<5000) ]"
   ]
  },
  {
   "cell_type": "code",
   "execution_count": null,
   "id": "483dbbf2",
   "metadata": {},
   "outputs": [],
   "source": []
  }
 ],
 "metadata": {
  "kernelspec": {
   "display_name": "Python 3 (ipykernel)",
   "language": "python",
   "name": "python3"
  },
  "language_info": {
   "codemirror_mode": {
    "name": "ipython",
    "version": 3
   },
   "file_extension": ".py",
   "mimetype": "text/x-python",
   "name": "python",
   "nbconvert_exporter": "python",
   "pygments_lexer": "ipython3",
   "version": "3.10.8"
  }
 },
 "nbformat": 4,
 "nbformat_minor": 5
}
