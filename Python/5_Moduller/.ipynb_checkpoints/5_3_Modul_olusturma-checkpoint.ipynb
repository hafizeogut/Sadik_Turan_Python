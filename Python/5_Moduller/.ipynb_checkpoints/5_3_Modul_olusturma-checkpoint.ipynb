{
 "cells": [
  {
   "cell_type": "code",
   "execution_count": 7,
   "id": "5c783417",
   "metadata": {
    "tags": []
   },
   "outputs": [
    {
     "name": "stdout",
     "output_type": "stream",
     "text": [
      "modül eklendi\n",
      "Help on module mod:\n",
      "\n",
      "NAME\n",
      "    mod - modül hakkında bilgilendirme\n",
      "\n",
      "CLASSES\n",
      "    builtins.object\n",
      "        Person\n",
      "    \n",
      "    class Person(builtins.object)\n",
      "     |  Methods defined here:\n",
      "     |  \n",
      "     |  speak(self)\n",
      "     |      fonksiyon hakkında bilgilendirme\n",
      "     |  \n",
      "     |  ----------------------------------------------------------------------\n",
      "     |  Data descriptors defined here:\n",
      "     |  \n",
      "     |  __dict__\n",
      "     |      dictionary for instance variables (if defined)\n",
      "     |  \n",
      "     |  __weakref__\n",
      "     |      list of weak references to the object (if defined)\n",
      "\n",
      "DATA\n",
      "    number = 10\n",
      "    numbers = [307, 1844, 571]\n",
      "    person = {'Age ': '25', 'Name': 'Ali', 'city': 'istanbul'}\n",
      "\n",
      "FILE\n",
      "    c:\\python\\sadik_turan_python\\python\\5_moduller\\mod.py\n",
      "\n",
      "\n"
     ]
    }
   ],
   "source": [
    "import mod\n",
    "help(mod)"
   ]
  },
  {
   "cell_type": "code",
   "execution_count": null,
   "id": "298200e5",
   "metadata": {},
   "outputs": [],
   "source": []
  }
 ],
 "metadata": {
  "kernelspec": {
   "display_name": "Python 3 (ipykernel)",
   "language": "python",
   "name": "python3"
  },
  "language_info": {
   "codemirror_mode": {
    "name": "ipython",
    "version": 3
   },
   "file_extension": ".py",
   "mimetype": "text/x-python",
   "name": "python",
   "nbconvert_exporter": "python",
   "pygments_lexer": "ipython3",
   "version": "3.10.8"
  }
 },
 "nbformat": 4,
 "nbformat_minor": 5
}
