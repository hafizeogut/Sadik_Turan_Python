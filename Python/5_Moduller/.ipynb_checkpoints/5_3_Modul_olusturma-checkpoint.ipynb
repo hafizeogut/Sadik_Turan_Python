{
 "cells": [
  {
   "cell_type": "code",
   "execution_count": 1,
   "id": "5c783417",
   "metadata": {
    "tags": []
   },
   "outputs": [
    {
     "name": "stdout",
     "output_type": "stream",
     "text": [
      "modül eklendi\n",
      "x: 5\n",
      "modül eklendi\n",
      "Help on module mod:\n",
      "\n",
      "NAME\n",
      "    mod - modül hakkında bilgilendirme\n",
      "\n",
      "CLASSES\n",
      "    builtins.object\n",
      "        Person\n",
      "    \n",
      "    class Person(builtins.object)\n",
      "     |  Methods defined here:\n",
      "     |  \n",
      "     |  speak(self)\n",
      "     |  \n",
      "     |  ----------------------------------------------------------------------\n",
      "     |  Data descriptors defined here:\n",
      "     |  \n",
      "     |  __dict__\n",
      "     |      dictionary for instance variables (if defined)\n",
      "     |  \n",
      "     |  __weakref__\n",
      "     |      list of weak references to the object (if defined)\n",
      "\n",
      "FUNCTIONS\n",
      "    func(x)\n",
      "        fonksiyon hakkında bilgilendirme\n",
      "\n",
      "DATA\n",
      "    number = 10\n",
      "    numbers = [1, 2, 3]\n",
      "    person = {'age': '25', 'city': 'istanbul', 'name': 'Ali'}\n",
      "\n",
      "FILE\n",
      "    c:\\python\\sadik_turan_python\\python\\5_moduller\\mod.py\n",
      "\n",
      "\n"
     ]
    }
   ],
   "source": [
    "import mod\n",
    "help(mod)"
   ]
  },
  {
   "cell_type": "code",
   "execution_count": null,
   "id": "298200e5",
   "metadata": {},
   "outputs": [],
   "source": []
  }
 ],
 "metadata": {
  "kernelspec": {
   "display_name": "Python 3 (ipykernel)",
   "language": "python",
   "name": "python3"
  },
  "language_info": {
   "codemirror_mode": {
    "name": "ipython",
    "version": 3
   },
   "file_extension": ".py",
   "mimetype": "text/x-python",
   "name": "python",
   "nbconvert_exporter": "python",
   "pygments_lexer": "ipython3",
   "version": "3.10.8"
  },
  "vscode": {
   "interpreter": {
    "hash": "dafc93f56d51b3d253429cb1718b38cb123b61b04902e29b58e50b257996dc6e"
   }
  }
 },
 "nbformat": 4,
 "nbformat_minor": 5
}
