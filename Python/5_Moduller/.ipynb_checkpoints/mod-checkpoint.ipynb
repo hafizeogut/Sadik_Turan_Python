{
 "cells": [
  {
   "cell_type": "code",
   "execution_count": 4,
   "id": "58f34610",
   "metadata": {
    "tags": []
   },
   "outputs": [
    {
     "data": {
      "text/plain": [
       "8"
      ]
     },
     "execution_count": 4,
     "metadata": {},
     "output_type": "execute_result"
    }
   ],
   "source": [
    "def topla(a, b):\n",
    "    \"\"\"Bu program iki sayıyı toplar ve toplanan değerleri döndürür\"\"\"\n",
    "    sonuc = a + b\n",
    "    return sonuc\n",
    "\n",
    "topla(3,5)"
   ]
  },
  {
   "cell_type": "code",
   "execution_count": 1,
   "id": "9a0d52f7",
   "metadata": {},
   "outputs": [
    {
     "name": "stdout",
     "output_type": "stream",
     "text": [
      "modül eklendi\n",
      "x: 5\n",
      "modül eklendi\n"
     ]
    }
   ],
   "source": [
    "'''\n",
    "   modül hakkında bilgilendirme\n",
    " \n",
    "'''\n",
    "\n",
    "print('modül eklendi')\n",
    "number=10\n",
    "\n",
    "numbers=[307,1844,571]\n",
    "def func(x):\n",
    "    '''\n",
    "        fonksiyon hakkında bilgi veriniz\n",
    "    \n",
    "    \n",
    "    '''\n",
    "    print(f'x: {x}')\n",
    "    \n",
    "    \n",
    "func(5)\n",
    "\n",
    "person = {\n",
    "    \"name\": \"Ali\",\n",
    "    \"age\":\"25\",\n",
    "    \"city\":\"istanbul\"\n",
    "}\n",
    "\n",
    "\n",
    "class Person:\n",
    "    def speak(self):\n",
    " \n",
    "      print('I am speaking')\n",
    "        \n",
    "'''\n",
    "   modül hakkında bilgilendirme \n",
    "'''\n",
    "\n",
    "print('modül eklendi')\n",
    "\n",
    "number = 10\n",
    "\n",
    "numbers = [1,2,3]\n",
    "\n",
    "person = {\n",
    "    \"name\": \"Ali\",\n",
    "    \"age\":\"25\",\n",
    "    \"city\":\"istanbul\"\n",
    "}\n",
    "\n",
    "def func(x):\n",
    "    '''\n",
    "        fonksiyon hakkında bilgilendirme\n",
    "    '''\n",
    "    print(f'x: {x}')\n",
    "\n",
    "class Person:\n",
    "    def speak(self):\n",
    "        print('I am speaking...')\n"
   ]
  },
  {
   "cell_type": "code",
   "execution_count": null,
   "id": "c9eb2d78-ca0a-471b-904c-482a25abaf16",
   "metadata": {},
   "outputs": [],
   "source": []
  }
 ],
 "metadata": {
  "kernelspec": {
   "display_name": "Python 3 (ipykernel)",
   "language": "python",
   "name": "python3"
  },
  "language_info": {
   "codemirror_mode": {
    "name": "ipython",
    "version": 3
   },
   "file_extension": ".py",
   "mimetype": "text/x-python",
   "name": "python",
   "nbconvert_exporter": "python",
   "pygments_lexer": "ipython3",
   "version": "3.10.8"
  },
  "vscode": {
   "interpreter": {
    "hash": "dafc93f56d51b3d253429cb1718b38cb123b61b04902e29b58e50b257996dc6e"
   }
  }
 },
 "nbformat": 4,
 "nbformat_minor": 5
}
