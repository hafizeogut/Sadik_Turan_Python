{
 "cells": [
  {
   "cell_type": "code",
   "execution_count": 10,
   "id": "2d776b25",
   "metadata": {
    "tags": []
   },
   "outputs": [
    {
     "name": "stdout",
     "output_type": "stream",
     "text": [
      "Help on module mod:\n",
      "\n",
      "NAME\n",
      "    mod - modül hakkında bilgilendirme\n",
      "\n",
      "CLASSES\n",
      "    builtins.object\n",
      "        Person\n",
      "    \n",
      "    class Person(builtins.object)\n",
      "     |  Methods defined here:\n",
      "     |  \n",
      "     |  speak(self)\n",
      "     |      modül hakkında bilgilendirme\n",
      "     |  \n",
      "     |  ----------------------------------------------------------------------\n",
      "     |  Data descriptors defined here:\n",
      "     |  \n",
      "     |  __dict__\n",
      "     |      dictionary for instance variables (if defined)\n",
      "     |  \n",
      "     |  __weakref__\n",
      "     |      list of weak references to the object (if defined)\n",
      "\n",
      "FUNCTIONS\n",
      "    func(x)\n",
      "        fonksiyon hakkında bilgi veriniz\n",
      "\n",
      "DATA\n",
      "    number = 10\n",
      "    numbers = [307, 1844, 571]\n",
      "    person = {'Age ': '25', 'Name': 'Ali', 'city': 'istanbul'}\n",
      "\n",
      "FILE\n",
      "    c:\\python\\sadik_turan_python\\python\\5_moduller\\mod.py\n",
      "\n",
      "\n"
     ]
    }
   ],
   "source": [
    "import mod\n",
    "\n",
    "help(mod)"
   ]
  },
  {
   "cell_type": "code",
   "execution_count": 7,
   "id": "4110c6e0",
   "metadata": {
    "tags": []
   },
   "outputs": [
    {
     "name": "stdout",
     "output_type": "stream",
     "text": [
      "Help on function func in module mod:\n",
      "\n",
      "func(x)\n",
      "    fonksiyon hakkında bilgi veriniz\n",
      "\n"
     ]
    }
   ],
   "source": [
    "result=help(mod.func)\n",
    "result"
   ]
  },
  {
   "cell_type": "code",
   "execution_count": 9,
   "id": "af98f30f",
   "metadata": {
    "tags": []
   },
   "outputs": [
    {
     "data": {
      "text/plain": [
       "10"
      ]
     },
     "execution_count": 9,
     "metadata": {},
     "output_type": "execute_result"
    }
   ],
   "source": [
    "mod.number"
   ]
  },
  {
   "cell_type": "code",
   "execution_count": 8,
   "id": "ed323852-2112-4f9f-b761-a45798c46f15",
   "metadata": {
    "tags": []
   },
   "outputs": [
    {
     "data": {
      "text/plain": [
       "[307, 1844, 571]"
      ]
     },
     "execution_count": 8,
     "metadata": {},
     "output_type": "execute_result"
    }
   ],
   "source": [
    "mod.numbers"
   ]
  },
  {
   "cell_type": "code",
   "execution_count": 28,
   "id": "9a54b711-04b3-4bb3-812b-4afb11a1b8b3",
   "metadata": {
    "tags": []
   },
   "outputs": [
    {
     "data": {
      "text/plain": [
       "'istanbul'"
      ]
     },
     "execution_count": 28,
     "metadata": {},
     "output_type": "execute_result"
    }
   ],
   "source": [
    "mod.person[\"city\"]"
   ]
  },
  {
   "cell_type": "code",
   "execution_count": 34,
   "id": "559618a8-c4d1-4731-ace9-0a2efc5d2f41",
   "metadata": {},
   "outputs": [
    {
     "ename": "KeyError",
     "evalue": "'age'",
     "output_type": "error",
     "traceback": [
      "\u001b[1;31m---------------------------------------------------------------------------\u001b[0m",
      "\u001b[1;31mKeyError\u001b[0m                                  Traceback (most recent call last)",
      "Cell \u001b[1;32mIn [34], line 1\u001b[0m\n\u001b[1;32m----> 1\u001b[0m \u001b[43mmod\u001b[49m\u001b[38;5;241;43m.\u001b[39;49m\u001b[43mperson\u001b[49m\u001b[43m[\u001b[49m\u001b[38;5;124;43m\"\u001b[39;49m\u001b[38;5;124;43mage\u001b[39;49m\u001b[38;5;124;43m\"\u001b[39;49m\u001b[43m]\u001b[49m\n",
      "\u001b[1;31mKeyError\u001b[0m: 'age'"
     ]
    }
   ],
   "source": [
    "mod.person[\"age\"]"
   ]
  },
  {
   "cell_type": "code",
   "execution_count": 35,
   "id": "42e3deea",
   "metadata": {},
   "outputs": [
    {
     "ename": "KeyError",
     "evalue": "'age'",
     "output_type": "error",
     "traceback": [
      "\u001b[1;31m---------------------------------------------------------------------------\u001b[0m",
      "\u001b[1;31mKeyError\u001b[0m                                  Traceback (most recent call last)",
      "Cell \u001b[1;32mIn [35], line 1\u001b[0m\n\u001b[1;32m----> 1\u001b[0m result \u001b[38;5;241m=\u001b[39m \u001b[43mmod\u001b[49m\u001b[38;5;241;43m.\u001b[39;49m\u001b[43mperson\u001b[49m\u001b[43m[\u001b[49m\u001b[38;5;124;43m\"\u001b[39;49m\u001b[38;5;124;43mage\u001b[39;49m\u001b[38;5;124;43m\"\u001b[39;49m\u001b[43m]\u001b[49m\n\u001b[0;32m      2\u001b[0m result\n",
      "\u001b[1;31mKeyError\u001b[0m: 'age'"
     ]
    }
   ],
   "source": [
    "result = mod.person[\"age\"]\n",
    "result"
   ]
  },
  {
   "cell_type": "code",
   "execution_count": null,
   "id": "ffbc2398",
   "metadata": {},
   "outputs": [],
   "source": []
  }
 ],
 "metadata": {
  "kernelspec": {
   "display_name": "Python 3 (ipykernel)",
   "language": "python",
   "name": "python3"
  },
  "language_info": {
   "codemirror_mode": {
    "name": "ipython",
    "version": 3
   },
   "file_extension": ".py",
   "mimetype": "text/x-python",
   "name": "python",
   "nbconvert_exporter": "python",
   "pygments_lexer": "ipython3",
   "version": "3.10.8"
  }
 },
 "nbformat": 4,
 "nbformat_minor": 5
}
