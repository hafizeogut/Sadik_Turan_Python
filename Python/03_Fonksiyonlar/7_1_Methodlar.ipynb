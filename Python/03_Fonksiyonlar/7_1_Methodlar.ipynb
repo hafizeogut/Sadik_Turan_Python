{
 "cells": [
  {
   "cell_type": "markdown",
   "id": "552e4790",
   "metadata": {},
   "source": [
    "### METOT\n",
    "##### Metotlar bir sınıfın üyesidir."
   ]
  },
  {
   "cell_type": "code",
   "execution_count": 1,
   "id": "194cebe9",
   "metadata": {},
   "outputs": [
    {
     "name": "stdout",
     "output_type": "stream",
     "text": [
      "<class 'type'>\n",
      "<class 'list'>\n"
     ]
    }
   ],
   "source": [
    "liste=[1,2,3]#Liste bir class \n",
    "\n",
    "liste.append(4) #appennd ve pop bu sınıftaki metotlardır.\n",
    "liste.pop()#pop () fonksiyonu Listedeki son eleman silindi.\n",
    "\n",
    "print (type(list))\n",
    "print(list)\n",
    "\n"
   ]
  },
  {
   "cell_type": "code",
   "execution_count": 5,
   "id": "062c76dd",
   "metadata": {},
   "outputs": [
    {
     "name": "stdout",
     "output_type": "stream",
     "text": [
      "HEP YARINLARI BEKLEDI BU INSANLAR \n",
      "GELDIĞINI HIÇBIR ZAMAN FARKETMEDILER\n",
      "ERDEM BEYAZIT\n",
      "\n",
      "<class 'str'>\n"
     ]
    }
   ],
   "source": [
    "myString='Hep yarınları bekledi bu insanlar \\nGeldiğini hiçbir zaman farketmediler\\nErdem Beyazıt\\n' #string ifade bir classken\n",
    "\n",
    "\n",
    "print(myString.upper())#upper bir metotdur.Aynı zamanda upper() fonksiyonu Küçük harfleri büyük harflere dönüştürür.\n",
    "\n",
    "print(type(myString))"
   ]
  },
  {
   "cell_type": "code",
   "execution_count": null,
   "id": "1f0579fb",
   "metadata": {},
   "outputs": [],
   "source": []
  }
 ],
 "metadata": {
  "kernelspec": {
   "display_name": "Python 3 (ipykernel)",
   "language": "python",
   "name": "python3"
  },
  "language_info": {
   "codemirror_mode": {
    "name": "ipython",
    "version": 3
   },
   "file_extension": ".py",
   "mimetype": "text/x-python",
   "name": "python",
   "nbconvert_exporter": "python",
   "pygments_lexer": "ipython3",
   "version": "3.10.8"
  }
 },
 "nbformat": 4,
 "nbformat_minor": 5
}
