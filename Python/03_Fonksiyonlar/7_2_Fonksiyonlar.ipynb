{
 "cells": [
  {
   "cell_type": "markdown",
   "id": "86e6367c",
   "metadata": {},
   "source": [
    "# Fonksiyon\n",
    "## Anahtar kelime def"
   ]
  },
  {
   "cell_type": "code",
   "execution_count": 13,
   "id": "4d2d3636",
   "metadata": {},
   "outputs": [
    {
     "name": "stdout",
     "output_type": "stream",
     "text": [
      "Yaşadıklarımdan öğrendiğim bir şey var:\n",
      "Yaşadın mı büyük yaşayacaksın, ırmaklara,göğe,bütün evrene karışırcasına\n",
      "Çünkü ömür dediğimiz şey, hayata sunulmuş bir armağandır\n",
      "Ve hayat, sunulmuş bir armağandır insana\n",
      "\n",
      "Ataol Behramoğlu\n"
     ]
    }
   ],
   "source": [
    "def ekranaYazdirma():#Parametresiz Fonlsiyon\n",
    "    print(\"\"\"Yaşadıklarımdan öğrendiğim bir şey var:\n",
    "Yaşadın mı büyük yaşayacaksın, ırmaklara,göğe,bütün evrene karışırcasına\n",
    "Çünkü ömür dediğimiz şey, hayata sunulmuş bir armağandır\n",
    "Ve hayat, sunulmuş bir armağandır insana\"\"\")\n",
    "    \n",
    "    \n",
    "ekranaYazdirma()\n",
    "\n",
    "\n",
    "def ekranaYazdir(name):#name değişkenine sahip parametreli bir fonksiyon\n",
    "    \n",
    "    print(\"\\n\"+name)\n",
    "    \n",
    "ekranaYazdir('Ataol Behramoğlu')"
   ]
  },
  {
   "cell_type": "code",
   "execution_count": 17,
   "id": "80e86ab0",
   "metadata": {},
   "outputs": [
    {
     "name": "stdout",
     "output_type": "stream",
     "text": [
      "\n",
      "Ataol Behramoğlu\n",
      "\n",
      "Cahit Zarifoğlu\n",
      "\n",
      "Erdem Beyazıt\n",
      "\n",
      "Zehra\n"
     ]
    }
   ],
   "source": [
    "def ekranaYazdir(name='Zehra'):#name değişkenine sahip parametreli bir fonksiyon\n",
    "    \n",
    "    print(\"\\n\"+name)\n",
    "ekranaYazdir('Ataol Behramoğlu')\n",
    "ekranaYazdir('Cahit Zarifoğlu')\n",
    "ekranaYazdir('Erdem Beyazıt')\n",
    "ekranaYazdir()#parametre gönderilmediğinde bir varsayılan olan Zehra string ifadesi ekrana yazdırıldı."
   ]
  },
  {
   "cell_type": "code",
   "execution_count": 20,
   "id": "58bd9a77",
   "metadata": {},
   "outputs": [
    {
     "name": "stdout",
     "output_type": "stream",
     "text": [
      "Sayi1: 307\n",
      "Sayi2: 571\n"
     ]
    },
    {
     "data": {
      "text/plain": [
       "878"
      ]
     },
     "execution_count": 20,
     "metadata": {},
     "output_type": "execute_result"
    }
   ],
   "source": [
    "def total(num1,num2):\n",
    "    return num1+num2\n",
    "sayi1=int(input(\"Sayi1: \"))\n",
    "sayi2=int(input(\"Sayi2: \"))\n",
    "\n",
    "result=total(sayi1,sayi2)\n",
    "result"
   ]
  },
  {
   "cell_type": "code",
   "execution_count": 23,
   "id": "2e1a666f",
   "metadata": {},
   "outputs": [
    {
     "data": {
      "text/plain": [
       "13"
      ]
     },
     "execution_count": 23,
     "metadata": {},
     "output_type": "execute_result"
    }
   ],
   "source": [
    "def yasHesapla(dogumYili):\n",
    "    return 2023-dogumYili\n",
    "\n",
    "GulsumAge=yasHesapla(2010)\n",
    "HaticeAge=yasHesapla(2012)\n",
    "BusraAge=yasHesapla(2017)\n",
    "\n",
    "GulsumAge"
   ]
  },
  {
   "cell_type": "code",
   "execution_count": 25,
   "id": "d51d56b5",
   "metadata": {},
   "outputs": [
    {
     "name": "stdout",
     "output_type": "stream",
     "text": [
      "Ali emekliliğinize 25 yılı kaldı\n"
     ]
    }
   ],
   "source": [
    "def EmeklilikYasHesabi(dogumYili,isim):\n",
    "    yas=yasHesapla(dogumYili)\n",
    "    emeklilik=65-yas\n",
    "    \n",
    "    if emeklilik>0:\n",
    "        print(f'{isim} emekliliğinize {emeklilik} yılı kaldı'),\n",
    "    \n",
    "    else:\n",
    "        print(\"Zaten emeklisiniz\")\n",
    "        \n",
    "EmeklilikYasHesabi(1983,'Ali')"
   ]
  },
  {
   "cell_type": "code",
   "execution_count": null,
   "id": "2f162047",
   "metadata": {},
   "outputs": [],
   "source": []
  }
 ],
 "metadata": {
  "kernelspec": {
   "display_name": "Python 3 (ipykernel)",
   "language": "python",
   "name": "python3"
  },
  "language_info": {
   "codemirror_mode": {
    "name": "ipython",
    "version": 3
   },
   "file_extension": ".py",
   "mimetype": "text/x-python",
   "name": "python",
   "nbconvert_exporter": "python",
   "pygments_lexer": "ipython3",
   "version": "3.10.8"
  }
 },
 "nbformat": 4,
 "nbformat_minor": 5
}
