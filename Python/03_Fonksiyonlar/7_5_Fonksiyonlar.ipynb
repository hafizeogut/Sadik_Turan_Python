{
 "cells": [
  {
   "cell_type": "markdown",
   "id": "a802461b",
   "metadata": {},
   "source": [
    "## LAMBDA"
   ]
  },
  {
   "cell_type": "code",
   "execution_count": 2,
   "id": "da3689a3",
   "metadata": {},
   "outputs": [
    {
     "data": {
      "text/plain": [
       "4"
      ]
     },
     "execution_count": 2,
     "metadata": {},
     "output_type": "execute_result"
    }
   ],
   "source": [
    "def square(num):#lambda num:num**2 işlevleri aynıdır.\n",
    "    return num**2\n",
    "\n",
    "result =square(2)\n",
    "result"
   ]
  },
  {
   "cell_type": "markdown",
   "id": "83a2edff",
   "metadata": {},
   "source": [
    "##### map() fonksiyonu dizinin elemanlarını fonksiyona tek tek gönderme işlevi görür."
   ]
  },
  {
   "cell_type": "code",
   "execution_count": 13,
   "id": "afc7f63e",
   "metadata": {},
   "outputs": [
    {
     "data": {
      "text/plain": [
       "<map at 0x24caf788c40>"
      ]
     },
     "execution_count": 13,
     "metadata": {},
     "output_type": "execute_result"
    }
   ],
   "source": [
    "numbers=[307,1844,571,1453,64]\n",
    "results=map(square,numbers)#map(indisdeki elemanların karesi,indisteki elemanlar) adres tutulur.\n",
    "results"
   ]
  },
  {
   "cell_type": "code",
   "execution_count": 14,
   "id": "8485a973",
   "metadata": {},
   "outputs": [
    {
     "data": {
      "text/plain": [
       "[94249, 3400336, 326041, 2111209, 4096]"
      ]
     },
     "execution_count": 14,
     "metadata": {},
     "output_type": "execute_result"
    }
   ],
   "source": [
    "results=list(map(square,numbers))\n",
    "results"
   ]
  },
  {
   "cell_type": "code",
   "execution_count": 15,
   "id": "f11aa7df",
   "metadata": {},
   "outputs": [
    {
     "name": "stdout",
     "output_type": "stream",
     "text": [
      "94249\n",
      "3400336\n",
      "326041\n",
      "2111209\n",
      "4096\n"
     ]
    }
   ],
   "source": [
    "for item in  map(square,numbers):\n",
    "    print(item)"
   ]
  },
  {
   "cell_type": "code",
   "execution_count": 16,
   "id": "ca99ab31",
   "metadata": {},
   "outputs": [
    {
     "data": {
      "text/plain": [
       "[94249, 3400336, 326041, 2111209, 4096]"
      ]
     },
     "execution_count": 16,
     "metadata": {},
     "output_type": "execute_result"
    }
   ],
   "source": [
    "results=list(map(lambda num:num**2,numbers))\n",
    "results"
   ]
  },
  {
   "cell_type": "code",
   "execution_count": 17,
   "id": "77eed188",
   "metadata": {},
   "outputs": [
    {
     "data": {
      "text/plain": [
       "8"
      ]
     },
     "execution_count": 17,
     "metadata": {},
     "output_type": "execute_result"
    }
   ],
   "source": [
    "squere2=lambda num:num**3 #\n",
    "squere2(2)"
   ]
  },
  {
   "cell_type": "code",
   "execution_count": 19,
   "id": "aaba4baf",
   "metadata": {},
   "outputs": [
    {
     "data": {
      "text/plain": [
       "[1844, 64]"
      ]
     },
     "execution_count": 19,
     "metadata": {},
     "output_type": "execute_result"
    }
   ],
   "source": [
    "def check_even(num):\n",
    "    return num%2==0\n",
    "\n",
    "result=list(filter(check_even,numbers))\n",
    "result"
   ]
  },
  {
   "cell_type": "code",
   "execution_count": 20,
   "id": "a9b43e05",
   "metadata": {},
   "outputs": [
    {
     "data": {
      "text/plain": [
       "[1844, 64]"
      ]
     },
     "execution_count": 20,
     "metadata": {},
     "output_type": "execute_result"
    }
   ],
   "source": [
    "\n",
    "result=list(filter(lambda num:num%2==0,numbers))\n",
    "result"
   ]
  },
  {
   "cell_type": "code",
   "execution_count": 21,
   "id": "79f55604",
   "metadata": {},
   "outputs": [
    {
     "data": {
      "text/plain": [
       "False"
      ]
     },
     "execution_count": 21,
     "metadata": {},
     "output_type": "execute_result"
    }
   ],
   "source": [
    "result=check_even(numbers[2])\n",
    "result"
   ]
  },
  {
   "cell_type": "code",
   "execution_count": null,
   "id": "b989d229",
   "metadata": {},
   "outputs": [],
   "source": []
  }
 ],
 "metadata": {
  "kernelspec": {
   "display_name": "Python 3 (ipykernel)",
   "language": "python",
   "name": "python3"
  },
  "language_info": {
   "codemirror_mode": {
    "name": "ipython",
    "version": 3
   },
   "file_extension": ".py",
   "mimetype": "text/x-python",
   "name": "python",
   "nbconvert_exporter": "python",
   "pygments_lexer": "ipython3",
   "version": "3.10.8"
  }
 },
 "nbformat": 4,
 "nbformat_minor": 5
}
