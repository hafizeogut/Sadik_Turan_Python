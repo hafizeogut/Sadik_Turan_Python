{
 "cells": [
  {
   "cell_type": "markdown",
   "id": "30efe9d4",
   "metadata": {},
   "source": [
    "##### 1- Gönderilen bir kelimeyi belirtilen kez ekranda gösteren python fonksiyonunu yazınız."
   ]
  },
  {
   "cell_type": "code",
   "execution_count": 3,
   "id": "3333a921",
   "metadata": {},
   "outputs": [
    {
     "name": "stdout",
     "output_type": "stream",
     "text": [
      "Merhabalar ben bu yerlerden biriyim\n",
      "Merhabalar ben bu yerlerden biriyim\n",
      "Merhabalar ben bu yerlerden biriyim\n",
      "Merhabalar ben bu yerlerden biriyim\n",
      "Merhabalar ben bu yerlerden biriyim\n",
      "Merhabalar ben bu yerlerden biriyim\n",
      "Merhabalar ben bu yerlerden biriyim\n",
      "Merhabalar ben bu yerlerden biriyim\n",
      "Merhabalar ben bu yerlerden biriyim\n",
      "Merhabalar ben bu yerlerden biriyim\n",
      "\n"
     ]
    }
   ],
   "source": [
    "def yazdir(kelime,adet):\n",
    "    print(kelime *adet)\n",
    "    \n",
    "yazdir('Merhabalar ben bu yerlerden biriyim\\n',10)"
   ]
  },
  {
   "cell_type": "markdown",
   "id": "07c692a1",
   "metadata": {},
   "source": [
    "##### 2- Gönderilen 2 sayı arasındaki tüm asal sayıları bulan python fonksiyon uygulamasını yapınız."
   ]
  },
  {
   "cell_type": "code",
   "execution_count": 4,
   "id": "7d227d24",
   "metadata": {},
   "outputs": [
    {
     "name": "stdout",
     "output_type": "stream",
     "text": [
      "Baslangic Deger Giriniz3\n",
      "Baslangic Deger Giriniz7\n",
      "3\n",
      "5\n",
      "7\n"
     ]
    }
   ],
   "source": [
    "def Asal_Sayi_Bulma(Sayi1,Sayi2):\n",
    "    for sayi in range(Sayi1,Sayi2+1):\n",
    "        \n",
    "        if sayi>1:\n",
    "            for i in range(2,sayi):\n",
    "                if sayi%i==0:\n",
    "                    break\n",
    "                \n",
    "            else:\n",
    "                print(sayi)\n",
    "                    \n",
    "\n",
    "baslangic_deger=int(input(\"Baslangic Deger Giriniz\"))\n",
    "bitis_degeri=int(input(\"Baslangic Deger Giriniz\"))\n",
    "\n",
    "Asal_Sayi_Bulma(baslangic_deger,bitis_degeri)"
   ]
  },
  {
   "cell_type": "code",
   "execution_count": 57,
   "id": "fbfcdbf2",
   "metadata": {},
   "outputs": [
    {
     "name": "stdout",
     "output_type": "stream",
     "text": [
      "Baslangic Deger Giriniz:2\n",
      "Baslangic Deger Giriniz:15\n",
      "Kaç adet asal sayı istersiniz:3\n",
      "2\n",
      "3\n",
      "5\n"
     ]
    }
   ],
   "source": [
    "def Asal_Sayi_Bulma(Sayi1,Sayi2,adet):\n",
    "    \n",
    "    adet_gecici=adet+1\n",
    "    for sayi in range(Sayi1,Sayi2+1):\n",
    "        \n",
    "        if sayi>1:\n",
    "            for i in range(2,sayi):\n",
    "                if sayi%i==0:\n",
    "                    break\n",
    "                \n",
    "            else:\n",
    "                print(sayi)\n",
    "                    \n",
    "        adet_gecici-=1\n",
    "        \n",
    "        if adet_gecici==0:\n",
    "            break\n",
    "baslangic_deger=int(input(\"Baslangic Deger Giriniz:\"))\n",
    "bitis_degeri=int(input(\"Baslangic Deger Giriniz:\"))\n",
    "kac_adet=int(input(\"Kaç adet asal sayı istersiniz:\"))\n",
    "\n",
    "\n",
    "Asal_Sayi_Bulma(baslangic_deger,bitis_degeri,kac_adet)"
   ]
  },
  {
   "cell_type": "markdown",
   "id": "15884508",
   "metadata": {},
   "source": [
    "#### 2- Gönderilen 2 sayı arasındaki tüm asal sayıları bulan python fonksiyon uygulamasını yapınız.\n",
    "##### Gelişmiş"
   ]
  },
  {
   "cell_type": "code",
   "execution_count": 41,
   "id": "49b8555f",
   "metadata": {
    "tags": []
   },
   "outputs": [
    {
     "name": "stdout",
     "output_type": "stream",
     "text": [
      "Baslangic Deger Giriniz:3\n",
      "Baslangic Deger Giriniz:45\n",
      "Kaç adet asal sayı istersiniz:28\n",
      "Baştan mı 28 adet sayı istersiniz sondan mı?\n",
      "Baştan isterseniz B, sondan isterseniz S yazmanız yeterli\n",
      "\n",
      "B mi S mi: S\n",
      "Malesef bu aralıkta 28 adet sayı yoktur.Bulunan Asal sayılar [43, 41, 37, 31, 29, 23, 19, 17, 13, 11, 7, 5, 3] dir.\n"
     ]
    }
   ],
   "source": [
    "def Asal_Sayi_Bulma_Bas(Sayi1,Sayi2,adet):\n",
    "    sayac=0\n",
    "    adet_gecici=adet\n",
    "    for sayi in range(Sayi1,Sayi2+1):\n",
    "        \n",
    "        if sayi>1:\n",
    "            for i in range(2,sayi):\n",
    "                if sayi%i==0:\n",
    "                    break\n",
    "                \n",
    "            else:\n",
    "                sayac+=1\n",
    "                print(sayi)\n",
    "                    \n",
    "                adet_gecici-=1\n",
    "\n",
    "                if adet_gecici==0:\n",
    "                    break\n",
    "                    \n",
    "    if sayac<adet:\n",
    "        print(f\"Malesef bu aralıkta {adet} adet sayı yoktur.\")\n",
    "\n",
    "                \n",
    "                \n",
    "            \n",
    "    print(\"Sayac\",sayac)\n",
    "def Asal_Sayi_Bulma_Son(Sayi1,Sayi2,adet):\n",
    "    Liste=[]\n",
    "    adet_gecici=adet\n",
    "    for sayi in range(Sayi2,Sayi1-1,-1):\n",
    "        \n",
    "        if sayi>1:\n",
    "            for i in range(2,sayi):\n",
    "                if sayi%i==0:\n",
    "                    break\n",
    "                \n",
    "            else:\n",
    "                Liste.append(sayi)\n",
    "                 \n",
    "                    \n",
    "                adet_gecici-=1\n",
    "\n",
    "                if adet_gecici==0:\n",
    "                    break\n",
    "\n",
    "    if len(Liste)<adet:\n",
    "        print(f\"Malesef bu aralıkta {adet} adet sayı yoktur.Bulunan Asal sayılar {Liste} dir.\")\n",
    "\n",
    "a='b'\n",
    "while a=='b': \n",
    "    baslangic_deger=int(input(\"Baslangic Deger Giriniz:\"))\n",
    "    bitis_degeri=int(input(\"Baslangic Deger Giriniz:\"))\n",
    "    if bitis_degeri<=baslangic_deger:\n",
    "        print (\"Başlangıç değeri Bitiş değerinden küçük olmalıdır...\")\n",
    "\n",
    "    else:\n",
    "        kac_adet=int(input(\"Kaç adet asal sayı istersiniz:\"))\n",
    "\n",
    "        print(\"Baştan mı {} adet sayı istersiniz sondan mı?\\nBaştan isterseniz B, sondan isterseniz S yazmanız yeterli\\n\".format(kac_adet))\n",
    "        secim=input('B mi S mi: ')\n",
    "\n",
    "        if secim=='B' or secim=='b':\n",
    "            Asal_Sayi_Bulma_Bas(baslangic_deger,bitis_degeri,kac_adet)\n",
    "            a='a'\n",
    "\n",
    "        if secim=='S' or secim=='s':\n",
    "            Asal_Sayi_Bulma_Son(baslangic_deger,bitis_degeri,kac_adet)\n",
    "            a='a'"
   ]
  },
  {
   "cell_type": "code",
   "execution_count": 14,
   "id": "76f28150",
   "metadata": {},
   "outputs": [
    {
     "name": "stdout",
     "output_type": "stream",
     "text": [
      "Baslangic Deger Giriniz:1\n",
      "Baslangic Deger Giriniz:19\n",
      "19\n",
      "18\n",
      "17\n",
      "16\n",
      "15\n",
      "14\n",
      "13\n",
      "12\n",
      "11\n",
      "10\n",
      "9\n",
      "8\n",
      "7\n",
      "6\n",
      "5\n",
      "4\n",
      "3\n",
      "2\n",
      "1\n"
     ]
    }
   ],
   "source": [
    "s1=int(input(\"Baslangic Deger Giriniz:\"))\n",
    "s2=int(input(\"Baslangic Deger Giriniz:\"))\n",
    "for sayi in range(s2,s1-1,-1):\n",
    "    print(sayi)"
   ]
  },
  {
   "cell_type": "markdown",
   "id": "6ab9b9ed",
   "metadata": {},
   "source": [
    "#### 3- Kendisine gönderilen bir sayının tam bölenlerini bulan python uygulamasını yapınız."
   ]
  },
  {
   "cell_type": "code",
   "execution_count": 49,
   "id": "58103dba",
   "metadata": {},
   "outputs": [
    {
     "name": "stdout",
     "output_type": "stream",
     "text": [
      "[2, 4, 5, 10]\n"
     ]
    }
   ],
   "source": [
    "def tam_bolenleri_bul(sayi):\n",
    "    tamBolenler = []\n",
    "    for i in range(2,sayi):\n",
    "        \n",
    "        if (sayi%i==0):\n",
    "            tamBolenler.append(i)\n",
    "            \n",
    "    return tamBolenler\n",
    "\n",
    "print(tam_bolenler(20))\n",
    "            "
   ]
  },
  {
   "cell_type": "markdown",
   "id": "a6a968da",
   "metadata": {},
   "source": [
    "##### 4-Kendine gönderilen sınırsız sayıdaki parametreti bir listeye çeviren bir fonksiyon yazınız"
   ]
  },
  {
   "cell_type": "code",
   "execution_count": 52,
   "id": "a712d6d6",
   "metadata": {},
   "outputs": [
    {
     "data": {
      "text/plain": [
       "[16, 2, 2023, 1, 45, 'Perşembe', 'Duvar', 'Zeynep Casinili']"
      ]
     },
     "execution_count": 52,
     "metadata": {},
     "output_type": "execute_result"
    }
   ],
   "source": [
    "def Listeye_Cevir(*params):\n",
    "    liste=[]\n",
    "    \n",
    "    for param in params:\n",
    "        liste.append(param)\n",
    "        \n",
    "    return liste\n",
    "\n",
    "Listeye_Cevir(16,2,2023,1,45,'Perşembe','Duvar','Zeynep Casinili')"
   ]
  },
  {
   "cell_type": "code",
   "execution_count": null,
   "id": "b42b4fa0",
   "metadata": {},
   "outputs": [],
   "source": []
  }
 ],
 "metadata": {
  "kernelspec": {
   "display_name": "Python 3 (ipykernel)",
   "language": "python",
   "name": "python3"
  },
  "language_info": {
   "codemirror_mode": {
    "name": "ipython",
    "version": 3
   },
   "file_extension": ".py",
   "mimetype": "text/x-python",
   "name": "python",
   "nbconvert_exporter": "python",
   "pygments_lexer": "ipython3",
   "version": "3.10.8"
  }
 },
 "nbformat": 4,
 "nbformat_minor": 5
}
