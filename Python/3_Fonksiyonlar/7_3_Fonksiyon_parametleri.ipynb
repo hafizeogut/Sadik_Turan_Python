{
 "cells": [
  {
   "cell_type": "code",
   "execution_count": 3,
   "id": "677e994b",
   "metadata": {},
   "outputs": [
    {
     "name": "stdout",
     "output_type": "stream",
     "text": [
      "Peksemet\n"
     ]
    }
   ],
   "source": [
    "def Name(n):\n",
    "    n='Hafizeee'\n",
    "    \n",
    "name='Peksemet'\n",
    "\n",
    "Name(name)\n",
    "print(name)"
   ]
  },
  {
   "cell_type": "code",
   "execution_count": 15,
   "id": "c82fb216",
   "metadata": {},
   "outputs": [
    {
     "name": "stdout",
     "output_type": "stream",
     "text": [
      "['Kocaeli', 'Sakarya']\n",
      "['Kocaeli', 'Sakarya']\n"
     ]
    },
    {
     "data": {
      "text/plain": [
       "['Uşak 64', 'Sakarya']"
      ]
     },
     "execution_count": 15,
     "metadata": {},
     "output_type": "execute_result"
    }
   ],
   "source": [
    "def degisim(n):\n",
    "    n[0]='Uşak 64'\n",
    "    \n",
    "sehirler=['Kocaeli','Sakarya']\n",
    "#n=sehirler \n",
    "#   ^\n",
    "#  |\n",
    "print(sehirler[:])#orjinal listei korumak için kullanılır.\n",
    "\n",
    "print(sehirler)\n",
    "\n",
    "degisim(sehirler)\n",
    "\n",
    "sehirler"
   ]
  },
  {
   "cell_type": "code",
   "execution_count": 16,
   "id": "b0b388df",
   "metadata": {},
   "outputs": [
    {
     "name": "stdout",
     "output_type": "stream",
     "text": [
      "20\n",
      "11\n"
     ]
    }
   ],
   "source": [
    "def add(a,b,c=0):\n",
    "    return sum((a,b,c))#sum içine gönderilen paramatreleri toplayan hazır bir fonksiyondur.\n",
    "\n",
    "print(add(3,8,9))\n",
    "print(add(3,8))"
   ]
  },
  {
   "cell_type": "code",
   "execution_count": 19,
   "id": "c69e89fc",
   "metadata": {},
   "outputs": [
    {
     "name": "stdout",
     "output_type": "stream",
     "text": [
      "81\n",
      "11\n",
      "218\n",
      "2533\n"
     ]
    }
   ],
   "source": [
    "def add(*params):\n",
    "    return sum((params))\n",
    "print(add(64,8,9))\n",
    "print(add(3,8))\n",
    "print(add(30,80,90,3,6,9))\n",
    "print(add(3,8,307,307,1844,64))"
   ]
  },
  {
   "cell_type": "code",
   "execution_count": 36,
   "id": "f5ff7018",
   "metadata": {},
   "outputs": [
    {
     "name": "stdout",
     "output_type": "stream",
     "text": [
      "<class 'tuple'>\n",
      "<class 'tuple'>\n",
      "<class 'tuple'>\n",
      "80\n",
      "<class 'tuple'>\n",
      "<class 'tuple'>\n",
      "<class 'tuple'>\n",
      "2215\n"
     ]
    }
   ],
   "source": [
    "def add(*params):\n",
    "    sum=0\n",
    "    \n",
    "    for n in params:\n",
    "        print(type(params))\n",
    "        sum=sum+n\n",
    "        \n",
    "    return sum\n",
    "   \n",
    "print(add(10,20,50))\n",
    "print(add(64,307,1844))"
   ]
  },
  {
   "cell_type": "code",
   "execution_count": 33,
   "id": "3c35fb34",
   "metadata": {},
   "outputs": [
    {
     "name": "stdout",
     "output_type": "stream",
     "text": [
      "<class 'dict'>\n",
      "name is Pınar\n",
      "<class 'dict'>\n",
      "age is 32\n",
      "<class 'dict'>\n",
      "city is Uşak\n",
      "<class 'dict'>\n",
      "name is İsmail\n",
      "<class 'dict'>\n",
      "age is 34\n",
      "<class 'dict'>\n",
      "city is Uşak\n"
     ]
    }
   ],
   "source": [
    "def diplayUser(**args):#sözlük:iki yıldız\n",
    "    for key,value in args.items():#items() metodu ile bir sözlük oluşturuldu.\n",
    "        print(type(args))\n",
    "        print('{} is {}'.format(key,value))\n",
    "        \n",
    "diplayUser(name='Pınar',age=32,city='Uşak')\n",
    "diplayUser(name='İsmail',age=34,city='Uşak')"
   ]
  },
  {
   "cell_type": "code",
   "execution_count": 39,
   "id": "f65f458d",
   "metadata": {},
   "outputs": [
    {
     "name": "stdout",
     "output_type": "stream",
     "text": [
      "10\n",
      "20\n",
      "40\n",
      "(50, 60)\n",
      "{'key1': 'value 1', 'key2': 'value2'}\n"
     ]
    }
   ],
   "source": [
    "def myFunc(a,b,c,*args,**kwargs):\n",
    "    print(a)\n",
    "    print(b)\n",
    "    print(c)\n",
    "    print(args)\n",
    "    print(kwargs)\n",
    "    \n",
    "myFunc(10,20,40,50,60,key1='value 1',key2='value2')"
   ]
  },
  {
   "cell_type": "code",
   "execution_count": null,
   "id": "33c58a56",
   "metadata": {},
   "outputs": [],
   "source": []
  }
 ],
 "metadata": {
  "kernelspec": {
   "display_name": "Python 3 (ipykernel)",
   "language": "python",
   "name": "python3"
  },
  "language_info": {
   "codemirror_mode": {
    "name": "ipython",
    "version": 3
   },
   "file_extension": ".py",
   "mimetype": "text/x-python",
   "name": "python",
   "nbconvert_exporter": "python",
   "pygments_lexer": "ipython3",
   "version": "3.10.8"
  }
 },
 "nbformat": 4,
 "nbformat_minor": 5
}
