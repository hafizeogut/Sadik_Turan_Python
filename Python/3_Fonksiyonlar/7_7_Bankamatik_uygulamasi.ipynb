{
 "cells": [
  {
   "cell_type": "markdown",
   "id": "bbdadfc3",
   "metadata": {},
   "source": [
    "# BANKAMATİK UYGULAMASI"
   ]
  },
  {
   "cell_type": "code",
   "execution_count": 56,
   "id": "ece8177f",
   "metadata": {},
   "outputs": [
    {
     "name": "stdout",
     "output_type": "stream",
     "text": [
      "Merhabalar Hafize Öğüt\n",
      "paranızı alabilirsiniz\n",
      "5713071844 nolu ana hesabınızda 7 kalmıştır.\n",
      "5713071844 nolu hesabınızda 7 TL bulunmaktadır.\n",
      "**********************\n"
     ]
    }
   ],
   "source": [
    "#Ramde referans tipi olarak tutuluyor.Bir fonksiyona gönderileceği zaman bilginin adresi gönderilir.\n",
    "Hafize_Hesap={\n",
    "    'Ad':'Hafize Öğüt' ,\n",
    "    'HesapNo':'5713071844',\n",
    "    'bakiye':307,\n",
    "    'EkHesap':1844\n",
    "}\n",
    "\n",
    "Betul_Hesap={\n",
    "    'Ad':'Bettt' ,\n",
    "    'HesapNo':'3071844571',\n",
    "    'bakiye':3070,\n",
    "    'EkHesap':1840\n",
    "    \n",
    "}\n",
    "###########################################################################################################\n",
    "\n",
    "\n",
    "def ParaCek(hesap,miktar):\n",
    "    print(f\"Merhabalar {hesap['Ad']}\")\n",
    "    if (hesap['bakiye']>= miktar):\n",
    "        \n",
    "        hesap['bakiye']-=miktar\n",
    "        \n",
    "        print('paranızı alabilirsiniz')\n",
    "        print(f\"{hesap['HesapNo']} nolu ana hesabınızda {hesap['bakiye']} kalmıştır.\")\n",
    "        \n",
    "    else:\n",
    "        toplam=hesap['bakiye']+hesap['EkHesap']\n",
    "        \n",
    "        \n",
    "        if (toplam >=miktar):\n",
    "            ek_hesap_kullanimi=input(\"Ek hesap kullanmak ister misiniz?(e/h)\")\n",
    "\n",
    "            if (ek_hesap_kullanimi=='e'):\n",
    "\n",
    "                hesap['bakiye']=0\n",
    "                \n",
    "                ek_hesap_kullanicalak_miktar=miktar-hesap['EkHesap']\n",
    "\n",
    "                hesap['EkHesap']-=ek_hesap_kullanicalak_miktar\n",
    "                print('paranızı alabilirsiniz') \n",
    "                print(f\"{hesap['HesapNo']} nolu ek hesabınızda {hesap['bakiye']} bulunmaktadır.\")\n",
    "\n",
    "            else:\n",
    "                print(f\"{hesap['HesapNo']} nolu hesabınızda {hesap['bakiye']} bulunmaktadır.\")\n",
    "        else:\n",
    "            print(\"Üzgünüz Bakiye Yetersiz\")\n",
    "            \n",
    "            \n",
    "def Bakiye_sorgulama(hesap):\n",
    "    print(f\"{hesap['HesapNo']} nolu hesabınızda {hesap['bakiye']} TL bulunmaktadır.\")\n",
    "            \n",
    "ParaCek(Hafize_Hesap,300) \n",
    "Bakiye_sorgulama(Hafize_Hesap)\n",
    "print(\"**********************\") "
   ]
  },
  {
   "cell_type": "code",
   "execution_count": 60,
   "id": "aa3a8979",
   "metadata": {},
   "outputs": [
    {
     "name": "stdout",
     "output_type": "stream",
     "text": [
      "Merhabalar Hafize Öğüt\n",
      "paranızı alabilirsiniz\n",
      "5713071844 nolu ana hesabınızda 7 TL kalmıştır.//\n",
      "5713071844 nolu hesabınızda Ana 7 TL bulunmaktadır.Ek hesap limitiniz ise 1844--\n",
      "**********************\n"
     ]
    }
   ],
   "source": [
    "#Ramde referans tipi olarak tutuluyor.Bir fonksiyona gönderileceği zaman bilginin adresi gönderilir.\n",
    "Hafize_Hesap={\n",
    "    'Ad':'Hafize Öğüt' ,\n",
    "    'HesapNo':'5713071844',\n",
    "    'bakiye':307,\n",
    "    'EkHesap':1844\n",
    "}\n",
    "\n",
    "Betul_Hesap={\n",
    "    'Ad':'Bettt' ,\n",
    "    'HesapNo':'3071844571',\n",
    "    'bakiye':3070,\n",
    "    'EkHesap':1840\n",
    "    \n",
    "}\n",
    "\n",
    "def ParaCek(hesap,miktar):\n",
    "    print(f\"Merhabalar {hesap['Ad']}\"),\n",
    "    toplam=hesap['bakiye']+hesap['EkHesap']\n",
    "    \n",
    "    \n",
    "    if (toplam>= miktar):\n",
    "        if(hesap['bakiye']>=miktar):\n",
    "            hesap['bakiye']-=miktar\n",
    "            print('paranızı alabilirsiniz')\n",
    "            print(f\"{hesap['HesapNo']} nolu ana hesabınızda {hesap['bakiye']} TL kalmıştır.//\")\n",
    "             \n",
    "        else:\n",
    "            ek_hesap_kullanimi=input(\"Ek hesap kullanmak ister misiniz?(e/h)\")\n",
    "\n",
    "            if (ek_hesap_kullanimi=='e'):\n",
    "\n",
    "                \n",
    "                ek_hesap_kullanicalak_miktar=miktar-hesap['bakiye']\n",
    "                hesap['bakiye']=0\n",
    "                hesap['EkHesap']-=ek_hesap_kullanicalak_miktar\n",
    "                print(f\"{hesap['HesapNo']} nolu ek hesabınızda {hesap['bakiye']} bulunmaktadır.**\")\n",
    "                print('paranızı alabilirsiniz')  \n",
    "\n",
    "            else:\n",
    "                print(f\"{hesap['HesapNo']} nolu hesabınızda {hesap['bakiye']} bulunmaktadır.#\")\n",
    "        \n",
    "\n",
    "    else:\n",
    "        print(\"Üzgünüz Bakiye Yetersiz\")\n",
    "            \n",
    "            \n",
    "def Bakiye_sorgulama(hesap):\n",
    "    print(f\"{hesap['HesapNo']} nolu hesabınızda Ana {hesap['bakiye']} TL bulunmaktadır.Ek hesap limitiniz ise {hesap['EkHesap']}--\")\n",
    "            \n",
    "ParaCek(Hafize_Hesap,300) \n",
    "Bakiye_sorgulama(Hafize_Hesap)\n",
    "print(\"**********************\") "
   ]
  },
  {
   "cell_type": "markdown",
   "id": "bacd026d",
   "metadata": {},
   "source": [
    "# Banka Atm Alternatif Örnekler\n",
    "###### Kartın bir şifresi vardır.\n",
    "###### Başlangıçta bakiyesi 500 TLdir\n",
    "##### üç defa şifre yanlış girilince kart bloke olacaktır\n",
    "##### Para Çekme ve Para Yatırma fonksiyonları bulunmalıdır.\n",
    "##### Bakiye Sorgulama ve kart iade işlemleri apılmalıdır\n"
   ]
  },
  {
   "cell_type": "code",
   "execution_count": null,
   "id": "090a0aaa",
   "metadata": {},
   "outputs": [],
   "source": []
  }
 ],
 "metadata": {
  "kernelspec": {
   "display_name": "Python 3 (ipykernel)",
   "language": "python",
   "name": "python3"
  },
  "language_info": {
   "codemirror_mode": {
    "name": "ipython",
    "version": 3
   },
   "file_extension": ".py",
   "mimetype": "text/x-python",
   "name": "python",
   "nbconvert_exporter": "python",
   "pygments_lexer": "ipython3",
   "version": "3.10.8"
  }
 },
 "nbformat": 4,
 "nbformat_minor": 5
}
