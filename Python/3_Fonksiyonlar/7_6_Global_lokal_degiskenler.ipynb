{
 "cells": [
  {
   "cell_type": "code",
   "execution_count": 2,
   "id": "4d981cab",
   "metadata": {},
   "outputs": [
    {
     "name": "stdout",
     "output_type": "stream",
     "text": [
      "local x\n",
      "global x\n"
     ]
    }
   ],
   "source": [
    "x='global x'\n",
    "\n",
    "def function():\n",
    "    x='local x'\n",
    "    print(x)\n",
    "    \n",
    "function()\n",
    "print(x)"
   ]
  },
  {
   "cell_type": "code",
   "execution_count": 5,
   "id": "5a30356f",
   "metadata": {},
   "outputs": [
    {
     "name": "stdout",
     "output_type": "stream",
     "text": [
      "Hafize\n",
      "Aliyy :)\n"
     ]
    }
   ],
   "source": [
    "name=\"Aliyy :)\"\n",
    "\n",
    "def changeName(new_name):\n",
    "    #local\n",
    "    name=new_name\n",
    "    print(name)\n",
    "    \n",
    "changeName('Hafize')\n",
    "print(name)"
   ]
  },
  {
   "cell_type": "code",
   "execution_count": 29,
   "id": "149422f5",
   "metadata": {},
   "outputs": [
    {
     "name": "stdout",
     "output_type": "stream",
     "text": [
      "Hafize\n",
      "Hafize\n"
     ]
    }
   ],
   "source": [
    "#global\n",
    "name=\"Aliyy :)\"\n",
    "\n",
    "def changeName(new_name):\n",
    "    #local\n",
    "    global name\n",
    "    name=new_name\n",
    "    print(name)\n",
    "    \n",
    "changeName('Hafize')\n",
    "print(name)"
   ]
  },
  {
   "cell_type": "code",
   "execution_count": 17,
   "id": "bf347cae",
   "metadata": {},
   "outputs": [
    {
     "name": "stdout",
     "output_type": "stream",
     "text": [
      "Global String\n",
      "Hem her an avuçlarından kayıp gidecekmiş gibi,\n",
      "Hem de hep senin kalacakmış gibi hayat.\n",
      "İlişik yaşayacaksın. Ucundan tutarak...\n",
      "Global String\n"
     ]
    }
   ],
   "source": [
    "name=\"Global String\"\n",
    "\n",
    "def greeting():\n",
    "    #name=\"Necip Fazıl\"\n",
    "    def alintilar():\n",
    "        #name='Can Yücel'\n",
    "        print('Hem her an avuçlarından kayıp gidecekmiş gibi,\\nHem de hep senin kalacakmış gibi hayat.\\nİlişik yaşayacaksın. Ucundan tutarak...\\n'+name)\n",
    "        \n",
    "    alintilar()\n",
    "print (name)\n",
    "greeting()"
   ]
  },
  {
   "cell_type": "markdown",
   "id": "cbfb4d6b",
   "metadata": {},
   "source": [
    "#### Argümanların değişimi"
   ]
  },
  {
   "cell_type": "code",
   "execution_count": 24,
   "id": "b48c6088",
   "metadata": {},
   "outputs": [
    {
     "name": "stdout",
     "output_type": "stream",
     "text": [
      "x: 50 \n",
      "changed x to 100\n",
      "50\n"
     ]
    }
   ],
   "source": [
    "x=50\n",
    "\n",
    "def test(x):\n",
    "    print(f'x: {x} ')\n",
    "    \n",
    "    \n",
    "    x=100\n",
    "    print(f'changed x to {x}')\n",
    "    \n",
    "test(x)\n",
    "print(x)"
   ]
  },
  {
   "cell_type": "code",
   "execution_count": 28,
   "id": "793ca72f",
   "metadata": {},
   "outputs": [
    {
     "name": "stdout",
     "output_type": "stream",
     "text": [
      "x: 50 \n",
      "changed x to 100\n",
      "100\n"
     ]
    }
   ],
   "source": [
    "x=50\n",
    "\n",
    "def test():\n",
    "    global x\n",
    "    print(f'x: {x} ')\n",
    "    \n",
    "    \n",
    "    x=100\n",
    "    print(f'changed x to {x}')\n",
    " \n",
    "test()\n",
    "print(x)"
   ]
  },
  {
   "cell_type": "code",
   "execution_count": null,
   "id": "aa868292",
   "metadata": {},
   "outputs": [],
   "source": []
  }
 ],
 "metadata": {
  "kernelspec": {
   "display_name": "Python 3 (ipykernel)",
   "language": "python",
   "name": "python3"
  },
  "language_info": {
   "codemirror_mode": {
    "name": "ipython",
    "version": 3
   },
   "file_extension": ".py",
   "mimetype": "text/x-python",
   "name": "python",
   "nbconvert_exporter": "python",
   "pygments_lexer": "ipython3",
   "version": "3.10.8"
  }
 },
 "nbformat": 4,
 "nbformat_minor": 5
}
