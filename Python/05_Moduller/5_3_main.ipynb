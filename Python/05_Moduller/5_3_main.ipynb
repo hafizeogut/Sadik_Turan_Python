{
 "cells": [
  {
   "cell_type": "code",
   "execution_count": 4,
   "id": "2d776b25",
   "metadata": {
    "tags": []
   },
   "outputs": [
    {
     "name": "stdout",
     "output_type": "stream",
     "text": [
      "modül eklendi\n",
      "x: 5\n",
      "modül eklendi\n",
      "Help on module mod:\n",
      "\n",
      "NAME\n",
      "    mod - modül hakkında bilgilendirme\n",
      "\n",
      "CLASSES\n",
      "    builtins.object\n",
      "        Person\n",
      "    \n",
      "    class Person(builtins.object)\n",
      "     |  Methods defined here:\n",
      "     |  \n",
      "     |  speak(self)\n",
      "     |  \n",
      "     |  ----------------------------------------------------------------------\n",
      "     |  Data descriptors defined here:\n",
      "     |  \n",
      "     |  __dict__\n",
      "     |      dictionary for instance variables (if defined)\n",
      "     |  \n",
      "     |  __weakref__\n",
      "     |      list of weak references to the object (if defined)\n",
      "\n",
      "FUNCTIONS\n",
      "    func(x)\n",
      "        fonksiyon hakkında bilgilendirme\n",
      "\n",
      "DATA\n",
      "    number = 10\n",
      "    numbers = [1, 2, 3]\n",
      "    person = {'age': '25', 'city': 'istanbul', 'name': 'Ali'}\n",
      "\n",
      "FILE\n",
      "    c:\\python\\sadik_turan_python\\python\\5_moduller\\mod.py\n",
      "\n",
      "\n"
     ]
    }
   ],
   "source": [
    "import mod\n",
    "\n",
    "help(mod)"
   ]
  },
  {
   "cell_type": "code",
   "execution_count": 5,
   "id": "4110c6e0",
   "metadata": {
    "tags": []
   },
   "outputs": [
    {
     "name": "stdout",
     "output_type": "stream",
     "text": [
      "Help on function func in module mod:\n",
      "\n",
      "func(x)\n",
      "    fonksiyon hakkında bilgilendirme\n",
      "\n"
     ]
    }
   ],
   "source": [
    "result=help(mod.func)\n",
    "result"
   ]
  },
  {
   "cell_type": "code",
   "execution_count": 9,
   "id": "af98f30f",
   "metadata": {
    "tags": []
   },
   "outputs": [
    {
     "data": {
      "text/plain": [
       "10"
      ]
     },
     "execution_count": 9,
     "metadata": {},
     "output_type": "execute_result"
    }
   ],
   "source": [
    "mod.number"
   ]
  },
  {
   "cell_type": "code",
   "execution_count": 8,
   "id": "ed323852-2112-4f9f-b761-a45798c46f15",
   "metadata": {
    "tags": []
   },
   "outputs": [
    {
     "data": {
      "text/plain": [
       "[307, 1844, 571]"
      ]
     },
     "execution_count": 8,
     "metadata": {},
     "output_type": "execute_result"
    }
   ],
   "source": [
    "mod.numbers"
   ]
  },
  {
   "cell_type": "code",
   "execution_count": 6,
   "id": "9a54b711-04b3-4bb3-812b-4afb11a1b8b3",
   "metadata": {
    "tags": []
   },
   "outputs": [
    {
     "data": {
      "text/plain": [
       "'istanbul'"
      ]
     },
     "execution_count": 6,
     "metadata": {},
     "output_type": "execute_result"
    }
   ],
   "source": [
    "mod.person[\"city\"]"
   ]
  },
  {
   "cell_type": "code",
   "execution_count": 7,
   "id": "559618a8-c4d1-4731-ace9-0a2efc5d2f41",
   "metadata": {},
   "outputs": [
    {
     "data": {
      "text/plain": [
       "'25'"
      ]
     },
     "execution_count": 7,
     "metadata": {},
     "output_type": "execute_result"
    }
   ],
   "source": [
    "mod.person[\"age\"]"
   ]
  },
  {
   "cell_type": "code",
   "execution_count": 8,
   "id": "42e3deea",
   "metadata": {},
   "outputs": [
    {
     "data": {
      "text/plain": [
       "'25'"
      ]
     },
     "execution_count": 8,
     "metadata": {},
     "output_type": "execute_result"
    }
   ],
   "source": [
    "result = mod.person[\"age\"]\n",
    "result"
   ]
  },
  {
   "cell_type": "code",
   "execution_count": 9,
   "id": "ffbc2398",
   "metadata": {},
   "outputs": [
    {
     "name": "stdout",
     "output_type": "stream",
     "text": [
      "x: 10\n"
     ]
    }
   ],
   "source": [
    "mod.func(10)"
   ]
  },
  {
   "cell_type": "code",
   "execution_count": 10,
   "id": "9c5d0ac0",
   "metadata": {},
   "outputs": [
    {
     "name": "stdout",
     "output_type": "stream",
     "text": [
      "I am speaking...\n"
     ]
    },
    {
     "data": {
      "text/plain": [
       "<mod.Person at 0x1ed9c9db790>"
      ]
     },
     "execution_count": 10,
     "metadata": {},
     "output_type": "execute_result"
    }
   ],
   "source": [
    "p=mod.Person()\n",
    "p.speak()\n",
    "p"
   ]
  },
  {
   "cell_type": "code",
   "execution_count": null,
   "id": "bf689832",
   "metadata": {},
   "outputs": [],
   "source": []
  }
 ],
 "metadata": {
  "kernelspec": {
   "display_name": "Python 3 (ipykernel)",
   "language": "python",
   "name": "python3"
  },
  "language_info": {
   "codemirror_mode": {
    "name": "ipython",
    "version": 3
   },
   "file_extension": ".py",
   "mimetype": "text/x-python",
   "name": "python",
   "nbconvert_exporter": "python",
   "pygments_lexer": "ipython3",
   "version": "3.10.8"
  },
  "vscode": {
   "interpreter": {
    "hash": "dafc93f56d51b3d253429cb1718b38cb123b61b04902e29b58e50b257996dc6e"
   }
  }
 },
 "nbformat": 4,
 "nbformat_minor": 5
}
