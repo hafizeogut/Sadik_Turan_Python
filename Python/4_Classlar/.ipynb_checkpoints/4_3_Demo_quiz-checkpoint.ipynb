{
 "cells": [
  {
   "cell_type": "markdown",
   "id": "dff859ce",
   "metadata": {},
   "source": [
    "# QUESTİON"
   ]
  },
  {
   "cell_type": "code",
   "execution_count": 39,
   "id": "f8d56fcf",
   "metadata": {},
   "outputs": [
    {
     "name": "stdout",
     "output_type": "stream",
     "text": [
      "True\n",
      "False\n"
     ]
    }
   ],
   "source": [
    "#QUESTİON\n",
    "\n",
    "class  Question:\n",
    "    #def __init__(soru,seçimler cevaplar)\n",
    "    def __init__(self,text,choices,answer):\n",
    "        self.text=text\n",
    "        self.choices=choices\n",
    "        self.answer=answer\n",
    "    \n",
    "    def checkAnswer(self,answer):\n",
    "        return self.answer==answer\n",
    "    \n",
    "#Quiz\n",
    "q1=Question('Yedi Güzel Adam kadrosunu kimler oluşturur',['Cahit Zarifoğlu', 'Mehmet Akif İnan', 'Erdem Bayazıt',' Rasim Özdenören','Ali Kutlay','Nuri Pakdil','Alâeddin Özdenören'],'Erdem Bayazıt')\n",
    "q2=Question('Yedi Güzel Adam kadrosunun en yakışıklısı kimdir',['Cahit Zarifoğlu', 'Mehmet Akif İnan', 'Erdem Bayazıt',' Rasim Özdenören','Ali Kutlay','Nuri Pakdil','Alâeddin Özdenören'],'Cahit Zarifoğlu')\n",
    "q3=Question('Yedi Güzel Adam kadrosunun en iyi yazarı kimdir',['Cahit Zarifoğlu', 'Mehmet Akif İnan', 'Erdem Bayazıt',' Rasim Özdenören','Ali Kutlay','Nuri Pakdil','Alâeddin Özdenören'],'Cahit Zarifoğlu')\n",
    "q4=Question('Yedi Güzel Adam kadrosunun en çok şiir yazanı kimdir',['Cahit Zarifoğlu', 'Mehmet Akif İnan', 'Erdem Bayazıt',' Rasim Özdenören','Ali Kutlay','Nuri Pakdil','Alâeddin Özdenören'],'Cahit Zarifoğlu')\n",
    "q5=Question('Yedi Güzel Adam kadrosunun en çok kitap basımı yapan kimdir',['Cahit Zarifoğlu', 'Mehmet Akif İnan', 'Erdem Bayazıt',' Rasim Özdenören','Ali Kutlay','Nuri Pakdil','Alâeddin Özdenören'],'Cahit Zarifoğlu')\n",
    "\n",
    "liste=[q1,q2,q3,q4,q5]\n",
    "\n",
    "\n",
    "print(q1.checkAnswer('Erdem Bayazıt'))\n",
    "print(q2.checkAnswer('Erdem Beyazıt'))"
   ]
  },
  {
   "cell_type": "markdown",
   "id": "4f2b0ef4",
   "metadata": {},
   "source": [
    "# QUİZ"
   ]
  },
  {
   "cell_type": "code",
   "execution_count": 38,
   "id": "5ce99753",
   "metadata": {},
   "outputs": [
    {
     "name": "stdout",
     "output_type": "stream",
     "text": [
      "******************************************Question 1 of 3*******************************************\n",
      "Soru 1 :Yedi Güze Adam kadrosunu kimler oluşturur\n",
      "-Cahit Zarifoğlu\n",
      "-Mehmet Akif İnan\n",
      "-Erdem Bayazıt\n",
      "-Rasim Özdenören\n",
      "-Ali Kutlay\n",
      "-Nuri Pakdil\n",
      "-Alâeddin Özdenören\n",
      "cevap:hg\n",
      "******************************************Question 2 of 3*******************************************\n",
      "Soru 2 :Yedi Güze Adam kadrosunu en yakışıklısı kimdir\n",
      "-Cahit Zarifoğlu\n",
      "-Mehmet Akif İnan\n",
      "-Erdem Bayazıt\n",
      "-Rasim Özdenören\n",
      "-Ali Kutlay\n",
      "-Nuri Pakdil\n",
      "-Alâeddin Özdenören\n",
      "cevap:kj\n",
      "******************************************Question 3 of 3*******************************************\n",
      "Soru 3 :Yedi Güze Adam kadrosunu en iyi yazar kimdir\n",
      "-Cahit Zarifoğlu\n",
      "-Mehmet Akif İnan\n",
      "-Erdem Bayazıt\n",
      "-Rasim Özdenören\n",
      "-Ali Kutlay\n",
      "-Nuri Pakdil\n",
      "-Alâeddin Özdenören\n",
      "cevap:kj\n",
      "score 0\n"
     ]
    },
    {
     "ename": "IndexError",
     "evalue": "list index out of range",
     "output_type": "error",
     "traceback": [
      "\u001b[1;31m---------------------------------------------------------------------------\u001b[0m",
      "\u001b[1;31mIndexError\u001b[0m                                Traceback (most recent call last)",
      "Cell \u001b[1;32mIn [38], line 67\u001b[0m\n\u001b[0;32m     60\u001b[0m quiz\u001b[38;5;241m=\u001b[39mQuiz(question)\u001b[38;5;66;03m#Quiz sınıfına erişim sağlandı ve quiz değişkeninde saklandı.\u001b[39;00m\n\u001b[0;32m     64\u001b[0m \u001b[38;5;66;03m#question=quiz.getQuestion()#quiz değişkenine atanmış olan Quiz sınıfındaki getQuestion() fonksiyonuna erişim sağlandı.\u001b[39;00m\n\u001b[0;32m     65\u001b[0m \u001b[38;5;66;03m#print(question.text) altarne\u001b[39;00m\n\u001b[0;32m     66\u001b[0m \u001b[38;5;66;03m#EKRANA YAZDIRMA İÇİN ALTERNATİF BİR DİSPLAY METODU OLUŞTURMAKTIR.\u001b[39;00m\n\u001b[1;32m---> 67\u001b[0m \u001b[43mquiz\u001b[49m\u001b[38;5;241;43m.\u001b[39;49m\u001b[43mloadQuestion\u001b[49m\u001b[43m(\u001b[49m\u001b[43m)\u001b[49m\n",
      "Cell \u001b[1;32mIn [38], line 36\u001b[0m, in \u001b[0;36mQuiz.loadQuestion\u001b[1;34m(self)\u001b[0m\n\u001b[0;32m     34\u001b[0m \u001b[38;5;28;01melse\u001b[39;00m:\n\u001b[0;32m     35\u001b[0m     \u001b[38;5;28mself\u001b[39m\u001b[38;5;241m.\u001b[39mdisplayProgress()\n\u001b[1;32m---> 36\u001b[0m     \u001b[38;5;28;43mself\u001b[39;49m\u001b[38;5;241;43m.\u001b[39;49m\u001b[43mdisplayQuestion\u001b[49m\u001b[43m(\u001b[49m\u001b[43m)\u001b[49m\n",
      "Cell \u001b[1;32mIn [38], line 19\u001b[0m, in \u001b[0;36mQuiz.displayQuestion\u001b[1;34m(self)\u001b[0m\n\u001b[0;32m     17\u001b[0m \u001b[38;5;66;03m#print(question.checkAnswer(answer))\u001b[39;00m\n\u001b[0;32m     18\u001b[0m \u001b[38;5;28mself\u001b[39m\u001b[38;5;241m.\u001b[39mguess_tahmin(answer)\n\u001b[1;32m---> 19\u001b[0m \u001b[38;5;28;43mself\u001b[39;49m\u001b[38;5;241;43m.\u001b[39;49m\u001b[43mloadQuestion\u001b[49m\u001b[43m(\u001b[49m\u001b[43m)\u001b[49m\n",
      "Cell \u001b[1;32mIn [38], line 36\u001b[0m, in \u001b[0;36mQuiz.loadQuestion\u001b[1;34m(self)\u001b[0m\n\u001b[0;32m     34\u001b[0m \u001b[38;5;28;01melse\u001b[39;00m:\n\u001b[0;32m     35\u001b[0m     \u001b[38;5;28mself\u001b[39m\u001b[38;5;241m.\u001b[39mdisplayProgress()\n\u001b[1;32m---> 36\u001b[0m     \u001b[38;5;28;43mself\u001b[39;49m\u001b[38;5;241;43m.\u001b[39;49m\u001b[43mdisplayQuestion\u001b[49m\u001b[43m(\u001b[49m\u001b[43m)\u001b[49m\n",
      "Cell \u001b[1;32mIn [38], line 19\u001b[0m, in \u001b[0;36mQuiz.displayQuestion\u001b[1;34m(self)\u001b[0m\n\u001b[0;32m     17\u001b[0m \u001b[38;5;66;03m#print(question.checkAnswer(answer))\u001b[39;00m\n\u001b[0;32m     18\u001b[0m \u001b[38;5;28mself\u001b[39m\u001b[38;5;241m.\u001b[39mguess_tahmin(answer)\n\u001b[1;32m---> 19\u001b[0m \u001b[38;5;28;43mself\u001b[39;49m\u001b[38;5;241;43m.\u001b[39;49m\u001b[43mloadQuestion\u001b[49m\u001b[43m(\u001b[49m\u001b[43m)\u001b[49m\n",
      "Cell \u001b[1;32mIn [38], line 36\u001b[0m, in \u001b[0;36mQuiz.loadQuestion\u001b[1;34m(self)\u001b[0m\n\u001b[0;32m     34\u001b[0m \u001b[38;5;28;01melse\u001b[39;00m:\n\u001b[0;32m     35\u001b[0m     \u001b[38;5;28mself\u001b[39m\u001b[38;5;241m.\u001b[39mdisplayProgress()\n\u001b[1;32m---> 36\u001b[0m     \u001b[38;5;28;43mself\u001b[39;49m\u001b[38;5;241;43m.\u001b[39;49m\u001b[43mdisplayQuestion\u001b[49m\u001b[43m(\u001b[49m\u001b[43m)\u001b[49m\n",
      "Cell \u001b[1;32mIn [38], line 19\u001b[0m, in \u001b[0;36mQuiz.displayQuestion\u001b[1;34m(self)\u001b[0m\n\u001b[0;32m     17\u001b[0m \u001b[38;5;66;03m#print(question.checkAnswer(answer))\u001b[39;00m\n\u001b[0;32m     18\u001b[0m \u001b[38;5;28mself\u001b[39m\u001b[38;5;241m.\u001b[39mguess_tahmin(answer)\n\u001b[1;32m---> 19\u001b[0m \u001b[38;5;28;43mself\u001b[39;49m\u001b[38;5;241;43m.\u001b[39;49m\u001b[43mloadQuestion\u001b[49m\u001b[43m(\u001b[49m\u001b[43m)\u001b[49m\n",
      "Cell \u001b[1;32mIn [38], line 32\u001b[0m, in \u001b[0;36mQuiz.loadQuestion\u001b[1;34m(self)\u001b[0m\n\u001b[0;32m     30\u001b[0m \u001b[38;5;28;01mdef\u001b[39;00m \u001b[38;5;21mloadQuestion\u001b[39m(\u001b[38;5;28mself\u001b[39m):\n\u001b[0;32m     31\u001b[0m     \u001b[38;5;28;01mif\u001b[39;00m \u001b[38;5;28mlen\u001b[39m(\u001b[38;5;28mself\u001b[39m\u001b[38;5;241m.\u001b[39mquestions)\u001b[38;5;241m==\u001b[39m\u001b[38;5;28mself\u001b[39m\u001b[38;5;241m.\u001b[39mquestionIndex:\n\u001b[1;32m---> 32\u001b[0m          \u001b[38;5;28;43mself\u001b[39;49m\u001b[38;5;241;43m.\u001b[39;49m\u001b[43mshowScore\u001b[49m\u001b[43m(\u001b[49m\u001b[43m)\u001b[49m\n\u001b[0;32m     34\u001b[0m     \u001b[38;5;28;01melse\u001b[39;00m:\n\u001b[0;32m     35\u001b[0m         \u001b[38;5;28mself\u001b[39m\u001b[38;5;241m.\u001b[39mdisplayProgress()\n",
      "Cell \u001b[1;32mIn [38], line 43\u001b[0m, in \u001b[0;36mQuiz.showScore\u001b[1;34m(self)\u001b[0m\n\u001b[0;32m     40\u001b[0m \u001b[38;5;28;01mdef\u001b[39;00m \u001b[38;5;21mshowScore\u001b[39m(\u001b[38;5;28mself\u001b[39m):\n\u001b[0;32m     41\u001b[0m     \u001b[38;5;28mprint\u001b[39m(\u001b[38;5;124m'\u001b[39m\u001b[38;5;124mscore\u001b[39m\u001b[38;5;124m'\u001b[39m,\u001b[38;5;28mself\u001b[39m\u001b[38;5;241m.\u001b[39mscore)\n\u001b[1;32m---> 43\u001b[0m     \u001b[38;5;28;43mself\u001b[39;49m\u001b[38;5;241;43m.\u001b[39;49m\u001b[43mdisplayQuestion\u001b[49m\u001b[43m(\u001b[49m\u001b[43m)\u001b[49m\n",
      "Cell \u001b[1;32mIn [38], line 11\u001b[0m, in \u001b[0;36mQuiz.displayQuestion\u001b[1;34m(self)\u001b[0m\n\u001b[0;32m     10\u001b[0m \u001b[38;5;28;01mdef\u001b[39;00m \u001b[38;5;21mdisplayQuestion\u001b[39m(\u001b[38;5;28mself\u001b[39m):\n\u001b[1;32m---> 11\u001b[0m     question\u001b[38;5;241m=\u001b[39m\u001b[38;5;28;43mself\u001b[39;49m\u001b[38;5;241;43m.\u001b[39;49m\u001b[43mgetQuestion\u001b[49m\u001b[43m(\u001b[49m\u001b[43m)\u001b[49m\n\u001b[0;32m     12\u001b[0m     \u001b[38;5;28mprint\u001b[39m(\u001b[38;5;124mf\u001b[39m\u001b[38;5;124m'\u001b[39m\u001b[38;5;124mSoru \u001b[39m\u001b[38;5;132;01m{\u001b[39;00m\u001b[38;5;28mself\u001b[39m\u001b[38;5;241m.\u001b[39mquestionIndex\u001b[38;5;241m+\u001b[39m\u001b[38;5;241m1\u001b[39m\u001b[38;5;132;01m}\u001b[39;00m\u001b[38;5;124m :\u001b[39m\u001b[38;5;132;01m{\u001b[39;00mquestion\u001b[38;5;241m.\u001b[39mtext\u001b[38;5;132;01m}\u001b[39;00m\u001b[38;5;124m'\u001b[39m)\n\u001b[0;32m     14\u001b[0m     \u001b[38;5;28;01mfor\u001b[39;00m q \u001b[38;5;129;01min\u001b[39;00m question\u001b[38;5;241m.\u001b[39mchoices:\n",
      "Cell \u001b[1;32mIn [38], line 8\u001b[0m, in \u001b[0;36mQuiz.getQuestion\u001b[1;34m(self)\u001b[0m\n\u001b[0;32m      7\u001b[0m \u001b[38;5;28;01mdef\u001b[39;00m \u001b[38;5;21mgetQuestion\u001b[39m(\u001b[38;5;28mself\u001b[39m):\n\u001b[1;32m----> 8\u001b[0m     \u001b[38;5;28;01mreturn\u001b[39;00m \u001b[38;5;28;43mself\u001b[39;49m\u001b[38;5;241;43m.\u001b[39;49m\u001b[43mquestions\u001b[49m\u001b[43m[\u001b[49m\u001b[38;5;28;43mself\u001b[39;49m\u001b[38;5;241;43m.\u001b[39;49m\u001b[43mquestionIndex\u001b[49m\u001b[43m]\u001b[49m\n",
      "\u001b[1;31mIndexError\u001b[0m: list index out of range"
     ]
    }
   ],
   "source": [
    "\n",
    "class Quiz:\n",
    "    def __init__(self,questions):\n",
    "        self.questions=questions\n",
    "        self.score=0\n",
    "        self.questionIndex=0\n",
    "        \n",
    "    def getQuestion(self):\n",
    "        return self.questions[self.questionIndex]\n",
    "    \n",
    "    def displayQuestion(self):\n",
    "        question=self.getQuestion()\n",
    "        print(f'Soru {self.questionIndex+1} :{question.text}')\n",
    "        \n",
    "        for q in question.choices:\n",
    "            print('-'+q)\n",
    "        answer=input('cevap:')\n",
    "        #print(question.checkAnswer(answer))\n",
    "        self.guess_tahmin(answer)\n",
    "        self.loadQuestion()\n",
    "        \n",
    "    def guess_tahmin(self,answer):\n",
    "        question=self.getQuestion()\n",
    "        \n",
    "        if question.checkAnswer(answer):\n",
    "            self.score +=1\n",
    "        self.questionIndex +=1\n",
    "        \n",
    "        #self.displayQuestion()\n",
    "        \n",
    "    def loadQuestion(self):\n",
    "        if len(self.questions)==self.questionIndex:\n",
    "             self.showScore()\n",
    "                \n",
    "        else:\n",
    "            self.displayProgress()\n",
    "            self.displayQuestion()\n",
    "             \n",
    "            \n",
    "            \n",
    "    def showScore(self):\n",
    "        print('score',self.score)\n",
    "        \n",
    "        self.displayQuestion()\n",
    "        \n",
    "    def displayProgress(self):\n",
    "        totalQuestion=len(self.questions)\n",
    "        questionNumber=self.questionIndex+1\n",
    "        \n",
    "        if(questionNumber>totalQuestion):\n",
    "            print('Oyununuz bitti')\n",
    "        else:\n",
    "            print(f'Question {questionNumber} of {totalQuestion}'. center(100, '*'))\n",
    "        \n",
    "q1=Question('Yedi Güze Adam kadrosunu kimler oluşturur',['Cahit Zarifoğlu', 'Mehmet Akif İnan', 'Erdem Bayazıt','Rasim Özdenören','Ali Kutlay','Nuri Pakdil','Alâeddin Özdenören'],'Erdem Bayazıt')\n",
    "q2=Question('Yedi Güze Adam kadrosunu en yakışıklısı kimdir',['Cahit Zarifoğlu', 'Mehmet Akif İnan', 'Erdem Bayazıt','Rasim Özdenören','Ali Kutlay','Nuri Pakdil','Alâeddin Özdenören'],'Cahit Zarifoğlu')\n",
    "q3=Question('Yedi Güze Adam kadrosunu en iyi yazar kimdir',['Cahit Zarifoğlu', 'Mehmet Akif İnan', 'Erdem Bayazıt','Rasim Özdenören','Ali Kutlay','Nuri Pakdil','Alâeddin Özdenören'],'Cahit Zarifoğlu')\n",
    "\n",
    "question=[q1,q2,q3]\n",
    "\n",
    "quiz=Quiz(question)#Quiz sınıfına erişim sağlandı ve quiz değişkeninde saklandı.\n",
    "\n",
    "\n",
    "\n",
    "#question=quiz.getQuestion()#quiz değişkenine atanmış olan Quiz sınıfındaki getQuestion() fonksiyonuna erişim sağlandı.\n",
    "#print(question.text) altarne\n",
    "#EKRANA YAZDIRMA İÇİN ALTERNATİF BİR DİSPLAY METODU OLUŞTURMAKTIR.\n",
    "quiz.loadQuestion()\n"
   ]
  },
  {
   "cell_type": "markdown",
   "id": "d984ff63",
   "metadata": {},
   "source": [
    "## "
   ]
  }
 ],
 "metadata": {
  "kernelspec": {
   "display_name": "Python 3 (ipykernel)",
   "language": "python",
   "name": "python3"
  },
  "language_info": {
   "codemirror_mode": {
    "name": "ipython",
    "version": 3
   },
   "file_extension": ".py",
   "mimetype": "text/x-python",
   "name": "python",
   "nbconvert_exporter": "python",
   "pygments_lexer": "ipython3",
   "version": "3.10.8"
  }
 },
 "nbformat": 4,
 "nbformat_minor": 5
}
