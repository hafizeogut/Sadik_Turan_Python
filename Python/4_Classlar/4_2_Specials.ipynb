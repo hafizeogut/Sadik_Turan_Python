{
 "cells": [
  {
   "cell_type": "code",
   "execution_count": 7,
   "id": "48abb712",
   "metadata": {},
   "outputs": [
    {
     "name": "stdout",
     "output_type": "stream",
     "text": [
      "Meselâ bir barikatta dövüşerek \n",
      "meselâ kuzey kutbunu keşfe giderken\n",
      "meselâ denerken damarlarında bir serumu\n",
      "ölmek ayıp olur mu?\n",
      "127\n",
      "3\n",
      "\n",
      "\n",
      "<class 'str'>\n",
      "<class 'list'>\n"
     ]
    }
   ],
   "source": [
    "myList=[1,2,3]\n",
    "myString='Meselâ bir barikatta dövüşerek \\nmeselâ kuzey kutbunu keşfe giderken\\nmeselâ denerken damarlarında bir serumu\\nölmek ayıp olur mu?'\n",
    "\n",
    "print(myString)\n",
    "\n",
    "print(len(myString))\n",
    "print(len(myList))\n",
    "print(\"\\n\")\n",
    "\n",
    "print(type(myString))\n",
    "print(type(myList))"
   ]
  },
  {
   "cell_type": "code",
   "execution_count": 22,
   "id": "cba51331",
   "metadata": {},
   "outputs": [
    {
     "name": "stdout",
     "output_type": "stream",
     "text": [
      "Movie Objesi oluştruldu\n",
      "film adı by Film Süresi\n",
      "[1, 2, 3]\n",
      "<class '__main__.Movie'>\n",
      "[1, 2, 3]\n",
      "film adı by Film Süresi\n",
      "film objesi silindi...\n"
     ]
    },
    {
     "ename": "NameError",
     "evalue": "name 'm' is not defined",
     "output_type": "error",
     "traceback": [
      "\u001b[1;31m---------------------------------------------------------------------------\u001b[0m",
      "\u001b[1;31mNameError\u001b[0m                                 Traceback (most recent call last)",
      "Cell \u001b[1;32mIn [22], line 25\u001b[0m\n\u001b[0;32m     21\u001b[0m \u001b[38;5;28mprint\u001b[39m(\u001b[38;5;28mstr\u001b[39m(m))\n\u001b[0;32m     23\u001b[0m \u001b[38;5;28;01mdel\u001b[39;00m m\n\u001b[1;32m---> 25\u001b[0m \u001b[38;5;28mprint\u001b[39m(\u001b[43mm\u001b[49m)\n",
      "\u001b[1;31mNameError\u001b[0m: name 'm' is not defined"
     ]
    }
   ],
   "source": [
    "class Movie():\n",
    "    def __init__(self,title,director,duration):\n",
    "        self.title=title\n",
    "        self.director=director\n",
    "        self.duration=duration\n",
    "        print(\"Movie Objesi oluştruldu\")\n",
    "        \n",
    "    def __str__(self):\n",
    "        return f\"{self.title} by {self.duration}\"\n",
    "    def __len__(self):\n",
    "        return self.duration\n",
    "        \n",
    "    def __del__(self) :\n",
    "        print(\"film objesi silindi...\")\n",
    "        \n",
    "m=Movie('film adı','Yönetmen','Film Süresi')\n",
    "print(m)\n",
    "print(myList)\n",
    "print(type(m)) \n",
    "print(str(myList))#arkada def __str(self) çalışır\n",
    "print(str(m))\n",
    "\n",
    "del m\n",
    "\n",
    "print(m)"
   ]
  },
  {
   "cell_type": "code",
   "execution_count": null,
   "id": "981d2257",
   "metadata": {},
   "outputs": [],
   "source": []
  }
 ],
 "metadata": {
  "kernelspec": {
   "display_name": "Python 3 (ipykernel)",
   "language": "python",
   "name": "python3"
  },
  "language_info": {
   "codemirror_mode": {
    "name": "ipython",
    "version": 3
   },
   "file_extension": ".py",
   "mimetype": "text/x-python",
   "name": "python",
   "nbconvert_exporter": "python",
   "pygments_lexer": "ipython3",
   "version": "3.10.8"
  }
 },
 "nbformat": 4,
 "nbformat_minor": 5
}
