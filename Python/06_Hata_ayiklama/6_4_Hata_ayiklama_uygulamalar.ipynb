{
 "cells": [
  {
   "cell_type": "markdown",
   "id": "0975404c",
   "metadata": {},
   "source": [
    "##### 1:Liste elemanları içindeki sayısal değerleri bulunuz"
   ]
  },
  {
   "cell_type": "code",
   "execution_count": 92,
   "id": "ebfba229",
   "metadata": {},
   "outputs": [
    {
     "name": "stdout",
     "output_type": "stream",
     "text": [
      "64\n",
      "571\n",
      "307\n"
     ]
    }
   ],
   "source": [
    "liste=[\"64\",\"571\",\"307\",\"90.2\",\"düşün kadar gökyüzün var\",\"Simge gezmiş\",\"koş koş\",\"18.02.2023\"]\n",
    "\n",
    "for x in liste:\n",
    "    try:\n",
    "        result=int(x)\n",
    "        print(result)\n",
    "        \n",
    "    except ValueError:\n",
    "        continue"
   ]
  },
  {
   "cell_type": "code",
   "execution_count": 91,
   "id": "f09215b8",
   "metadata": {},
   "outputs": [
    {
     "name": "stdout",
     "output_type": "stream",
     "text": [
      "64\n",
      "571\n",
      "307\n"
     ]
    }
   ],
   "source": [
    "for i in liste:\n",
    "\n",
    "    if (not re.search(\"[a-z]\",i) and  not re.search(\"[A-Z]\",i) and not re.search(\"[_@^?.'^!%+&/(=)?/*-+]\",i) and  not re.search(\"\\s\",i)):\n",
    "            \n",
    "        print(i)"
   ]
  },
  {
   "cell_type": "markdown",
   "id": "e52fc989",
   "metadata": {},
   "source": [
    "##### 2:Kullanıcı 'q' değerini girmedikçe sayı olup olmadığını kontrol edip aksi takdirde hata mesajı yazdırın."
   ]
  },
  {
   "cell_type": "code",
   "execution_count": 87,
   "id": "91a4d729",
   "metadata": {},
   "outputs": [
    {
     "name": "stdout",
     "output_type": "stream",
     "text": [
      "Sayı giriniz5\n",
      "Girdiğiniz sayu:  5.0\n",
      "Sayı giriniz4\n",
      "Girdiğiniz sayu:  4.0\n",
      "Sayı giriniz56\n",
      "Girdiğiniz sayu:  56.0\n",
      "Sayı girinizas\n",
      "geçersiz sayı\n",
      "Sayı girinizasd\n",
      "geçersiz sayı\n",
      "Sayı girinizq\n"
     ]
    }
   ],
   "source": [
    "while True:\n",
    "    sayi=input('Sayı giriniz')\n",
    "    if sayi=='q':\n",
    "        break\n",
    "            \n",
    "    try:\n",
    "        result=float(sayi)\n",
    "        print(\"Girdiğiniz sayu: \",result)\n",
    "        \n",
    "    except ValueError:\n",
    "        print('geçersiz sayı')\n",
    "        continue"
   ]
  },
  {
   "cell_type": "markdown",
   "id": "376a46e4",
   "metadata": {},
   "source": [
    "##### 3:Girilen parola içinde türkçe karakter hatası veriniz"
   ]
  },
  {
   "cell_type": "code",
   "execution_count": 127,
   "id": "2293153a",
   "metadata": {},
   "outputs": [
    {
     "name": "stdout",
     "output_type": "stream",
     "text": [
      "Parola:sdsdğ\n",
      "Türkçe karakter hatası \n"
     ]
    }
   ],
   "source": [
    "turkce_karakterler='şçğüöıİ'\n",
    "parola=input(\"Parola:\")\n",
    "\n",
    "for i in turkce_karakterler:\n",
    "    for j in parola:\n",
    "        if i==j:\n",
    "            print(\"Türkçe karakter hatası \")"
   ]
  },
  {
   "cell_type": "code",
   "execution_count": 145,
   "id": "aa889f71",
   "metadata": {},
   "outputs": [
    {
     "name": "stdout",
     "output_type": "stream",
     "text": [
      "Parola:ğĞğsdİ\n"
     ]
    },
    {
     "ename": "TypeError",
     "evalue": "Türkçe karakter içeremez",
     "output_type": "error",
     "traceback": [
      "\u001b[1;31m---------------------------------------------------------------------------\u001b[0m",
      "\u001b[1;31mTypeError\u001b[0m                                 Traceback (most recent call last)",
      "Cell \u001b[1;32mIn [145], line 6\u001b[0m\n\u001b[0;32m      4\u001b[0m \u001b[38;5;28;01mfor\u001b[39;00m i \u001b[38;5;129;01min\u001b[39;00m parola:\n\u001b[0;32m      5\u001b[0m     \u001b[38;5;28;01mif\u001b[39;00m i \u001b[38;5;129;01min\u001b[39;00m turkce_karakterler:\n\u001b[1;32m----> 6\u001b[0m         \u001b[38;5;28;01mraise\u001b[39;00m \u001b[38;5;167;01mTypeError\u001b[39;00m(\u001b[38;5;124m\"\u001b[39m\u001b[38;5;124mTürkçe karakter içeremez\u001b[39m\u001b[38;5;124m\"\u001b[39m)\n",
      "\u001b[1;31mTypeError\u001b[0m: Türkçe karakter içeremez"
     ]
    }
   ],
   "source": [
    "turkce_karakterler='şçğüöıİĞÖÇŞ'\n",
    "parola=input(\"Parola:\")\n",
    "\n",
    "for i in parola:\n",
    "    if i in turkce_karakterler:\n",
    "        raise TypeError(\"Türkçe karakter içeremez\")"
   ]
  },
  {
   "cell_type": "code",
   "execution_count": 153,
   "id": "73338bdc",
   "metadata": {},
   "outputs": [
    {
     "data": {
      "text/plain": [
       "['ş', 'ğ']"
      ]
     },
     "execution_count": 153,
     "metadata": {},
     "output_type": "execute_result"
    }
   ],
   "source": []
  },
  {
   "cell_type": "code",
   "execution_count": 154,
   "id": "c5b148d7",
   "metadata": {},
   "outputs": [
    {
     "name": "stdout",
     "output_type": "stream",
     "text": [
      "Parola:lkgğgfğğ\n",
      "Hatanız: Türkçe karakter içeremez   ['ğ', 'ğ', 'ğ'] Bulunmamalıdır\n"
     ]
    }
   ],
   "source": [
    "def checkPassword(parola):\n",
    "    turkce_karakterler='şçğüöıİĞÖÇŞ'\n",
    "    \n",
    "\n",
    "    for i in parola:\n",
    "        if i in turkce_karakterler:\n",
    "            raise TypeError(\"Türkçe karakter içeremez\")\n",
    "\n",
    "        else: \n",
    "            pass\n",
    "\n",
    "    print(\"Geçerli parola\")\n",
    "    \n",
    "    \n",
    "    \n",
    "parola=input(\"Parola:\")\n",
    "karakterler=[ i for i in parola if i in turkce_karakterler]\n",
    "try:\n",
    "    checkPassword(parola)\n",
    "    \n",
    "except TypeError as Er :\n",
    "     \n",
    "    print(\"Hatanız:\",Er,\" \",karakterler,\"Bulunmamalıdır\")"
   ]
  },
  {
   "cell_type": "code",
   "execution_count": 156,
   "id": "c598f165",
   "metadata": {},
   "outputs": [
    {
     "data": {
      "text/plain": [
       "['ğ', 'ğ', 'ğ']"
      ]
     },
     "execution_count": 156,
     "metadata": {},
     "output_type": "execute_result"
    }
   ],
   "source": [
    "[ i for i in parola if i in turkce_karakterler]"
   ]
  },
  {
   "cell_type": "markdown",
   "id": "37ec6d0f",
   "metadata": {},
   "source": [
    "##### 4:Faktoriyel fonksiyonu oluşturup fonksiyona gelen değer için hata mesajları verin"
   ]
  },
  {
   "cell_type": "code",
   "execution_count": 158,
   "id": "cbb90c92",
   "metadata": {},
   "outputs": [
    {
     "name": "stdout",
     "output_type": "stream",
     "text": [
      "Sayi giriniz: -1\n"
     ]
    },
    {
     "ename": "ValueError",
     "evalue": "factorial() not defined for negative values",
     "output_type": "error",
     "traceback": [
      "\u001b[1;31m---------------------------------------------------------------------------\u001b[0m",
      "\u001b[1;31mValueError\u001b[0m                                Traceback (most recent call last)",
      "Cell \u001b[1;32mIn [158], line 3\u001b[0m\n\u001b[0;32m      1\u001b[0m \u001b[38;5;28;01mimport\u001b[39;00m \u001b[38;5;21;01mmath\u001b[39;00m\n\u001b[0;32m      2\u001b[0m sayi\u001b[38;5;241m=\u001b[39m\u001b[38;5;28mint\u001b[39m(\u001b[38;5;28minput\u001b[39m(\u001b[38;5;124m\"\u001b[39m\u001b[38;5;124mSayi giriniz: \u001b[39m\u001b[38;5;124m\"\u001b[39m))\n\u001b[1;32m----> 3\u001b[0m \u001b[43mmath\u001b[49m\u001b[38;5;241;43m.\u001b[39;49m\u001b[43mfactorial\u001b[49m\u001b[43m(\u001b[49m\u001b[43msayi\u001b[49m\u001b[43m)\u001b[49m\n",
      "\u001b[1;31mValueError\u001b[0m: factorial() not defined for negative values"
     ]
    }
   ],
   "source": [
    "import math\n",
    "sayi=int(input(\"Sayi giriniz: \"))\n",
    "math.factorial(sayi)\n"
   ]
  },
  {
   "cell_type": "code",
   "execution_count": null,
   "id": "0ed9f819",
   "metadata": {},
   "outputs": [],
   "source": [
    "def factoriyel(x):\n",
    "    x=int(x)\n",
    "    \n",
    "    if x<0:\n",
    "        raise ValueError('Negatif Değer')\n",
    "        \n",
    "    result=1\n",
    "    \n",
    "    for i in range(1,x+1):\n",
    "        result *=i\n",
    "        \n",
    "    return result\n",
    "\n",
    "for x in [5,10,3,-1,'-10a']:\n",
    "\n",
    "    try:\n",
    "        y=factoriyel(x)\n",
    "        \n",
    "    except ValueError as err:\n",
    "        print(err)\n",
    "        \n",
    "print(factoriyel(y))"
   ]
  },
  {
   "cell_type": "code",
   "execution_count": null,
   "id": "bcce6e36",
   "metadata": {},
   "outputs": [],
   "source": []
  }
 ],
 "metadata": {
  "kernelspec": {
   "display_name": "Python 3 (ipykernel)",
   "language": "python",
   "name": "python3"
  },
  "language_info": {
   "codemirror_mode": {
    "name": "ipython",
    "version": 3
   },
   "file_extension": ".py",
   "mimetype": "text/x-python",
   "name": "python",
   "nbconvert_exporter": "python",
   "pygments_lexer": "ipython3",
   "version": "3.10.8"
  }
 },
 "nbformat": 4,
 "nbformat_minor": 5
}
