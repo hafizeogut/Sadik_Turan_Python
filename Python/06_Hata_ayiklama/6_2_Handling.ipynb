{
 "cells": [
  {
   "cell_type": "code",
   "execution_count": 3,
   "id": "59600571",
   "metadata": {},
   "outputs": [
    {
     "name": "stdout",
     "output_type": "stream",
     "text": [
      "x: 10\n",
      "y: 0\n"
     ]
    },
    {
     "ename": "ZeroDivisionError",
     "evalue": "division by zero",
     "output_type": "error",
     "traceback": [
      "\u001b[1;31m---------------------------------------------------------------------------\u001b[0m",
      "\u001b[1;31mZeroDivisionError\u001b[0m                         Traceback (most recent call last)",
      "Cell \u001b[1;32mIn [3], line 7\u001b[0m\n\u001b[0;32m      3\u001b[0m x\u001b[38;5;241m=\u001b[39m\u001b[38;5;28mint\u001b[39m(\u001b[38;5;28minput\u001b[39m(\u001b[38;5;124m'\u001b[39m\u001b[38;5;124mx: \u001b[39m\u001b[38;5;124m'\u001b[39m))\n\u001b[0;32m      4\u001b[0m y\u001b[38;5;241m=\u001b[39m\u001b[38;5;28mint\u001b[39m(\u001b[38;5;28minput\u001b[39m(\u001b[38;5;124m'\u001b[39m\u001b[38;5;124my: \u001b[39m\u001b[38;5;124m'\u001b[39m))\n\u001b[1;32m----> 7\u001b[0m \u001b[38;5;28mprint\u001b[39m(\u001b[43mx\u001b[49m\u001b[38;5;241;43m/\u001b[39;49m\u001b[43my\u001b[49m)\n",
      "\u001b[1;31mZeroDivisionError\u001b[0m: division by zero"
     ]
    }
   ],
   "source": [
    "#error handling => hata yönetimi\n",
    "\n",
    "x=int(input('x: '))\n",
    "y=int(input('y: '))\n",
    "\n",
    "\n",
    "print(x/y)"
   ]
  },
  {
   "cell_type": "code",
   "execution_count": 9,
   "id": "56a143be",
   "metadata": {},
   "outputs": [
    {
     "name": "stdout",
     "output_type": "stream",
     "text": [
      "x: 10\n",
      "y: 2a\n",
      "x ve y değerleri için sayısal değerler girmelisiniz\n"
     ]
    }
   ],
   "source": [
    "try:\n",
    "    x=int(input('x: '))\n",
    "    y=int(input('y: '))\n",
    "    print(x/y)\n",
    "except ZeroDivisionError: \n",
    "    print(\"y için sayı sıfır giremezsin dostum:)\")\n",
    "    \n",
    "    \n",
    "except ValueError:\n",
    "    print(\"x ve y değerleri için sayısal değerler girmelisiniz\")\n",
    "    "
   ]
  },
  {
   "cell_type": "code",
   "execution_count": 19,
   "id": "fcb9145f",
   "metadata": {},
   "outputs": [
    {
     "name": "stdout",
     "output_type": "stream",
     "text": [
      "x: 1\n",
      "y: 1\n",
      "1.0\n",
      "try exet sonlandı.\n"
     ]
    }
   ],
   "source": [
    "while True:    \n",
    "    try:#altında işlem satırları bulundurur\n",
    "        x=int(input('x: '))\n",
    "        y=int(input('y: '))\n",
    "        print(x/y)\n",
    "    except (ZeroDivisionError,ValueError) as e: #Altında hataya göre verilecek mesaj bloğunu bulundurur\n",
    "        print(\"Yanlış seçim dostum\")\n",
    "        print(e)\n",
    "\n",
    "    else:\n",
    "        break\n",
    "        \n",
    "    finally:#break komutu gibidir try exept bloğunu sonlandırır.\n",
    "        print(\"try exet sonlandı.\")"
   ]
  },
  {
   "cell_type": "code",
   "execution_count": null,
   "id": "04fc67bc",
   "metadata": {},
   "outputs": [],
   "source": []
  }
 ],
 "metadata": {
  "kernelspec": {
   "display_name": "Python 3 (ipykernel)",
   "language": "python",
   "name": "python3"
  },
  "language_info": {
   "codemirror_mode": {
    "name": "ipython",
    "version": 3
   },
   "file_extension": ".py",
   "mimetype": "text/x-python",
   "name": "python",
   "nbconvert_exporter": "python",
   "pygments_lexer": "ipython3",
   "version": "3.10.8"
  }
 },
 "nbformat": 4,
 "nbformat_minor": 5
}
