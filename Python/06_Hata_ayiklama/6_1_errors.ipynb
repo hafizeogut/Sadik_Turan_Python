{
 "cells": [
  {
   "cell_type": "markdown",
   "id": "a7f89d73",
   "metadata": {},
   "source": [
    "# Hata Ayıklama"
   ]
  },
  {
   "cell_type": "code",
   "execution_count": 7,
   "id": "472ab45b",
   "metadata": {},
   "outputs": [
    {
     "ename": "SyntaxError",
     "evalue": "invalid syntax. Perhaps you forgot a comma? (2549003059.py, line 11)",
     "output_type": "error",
     "traceback": [
      "\u001b[1;36m  Cell \u001b[1;32mIn [7], line 11\u001b[1;36m\u001b[0m\n\u001b[1;33m    print('deneme'ee)\u001b[0m\n\u001b[1;37m          ^\u001b[0m\n\u001b[1;31mSyntaxError\u001b[0m\u001b[1;31m:\u001b[0m invalid syntax. Perhaps you forgot a comma?\n"
     ]
    }
   ],
   "source": [
    "#errors => hata\n",
    "\n",
    "\n",
    "\n",
    "\n",
    "#Name Error :print(a)\n",
    "\n",
    "#ValueError :int('1a2')\n",
    "\n",
    "#ZeroDivisionError: print(10/0)\n",
    "\n",
    "#SyntaxError: print('deneme'ee)\n",
    "\n",
    "\n",
    "\n",
    "\n",
    "#errors handling =>hata yönetimi"
   ]
  },
  {
   "cell_type": "code",
   "execution_count": null,
   "id": "33cef432",
   "metadata": {},
   "outputs": [],
   "source": []
  }
 ],
 "metadata": {
  "kernelspec": {
   "display_name": "Python 3 (ipykernel)",
   "language": "python",
   "name": "python3"
  },
  "language_info": {
   "codemirror_mode": {
    "name": "ipython",
    "version": 3
   },
   "file_extension": ".py",
   "mimetype": "text/x-python",
   "name": "python",
   "nbconvert_exporter": "python",
   "pygments_lexer": "ipython3",
   "version": "3.10.8"
  }
 },
 "nbformat": 4,
 "nbformat_minor": 5
}
