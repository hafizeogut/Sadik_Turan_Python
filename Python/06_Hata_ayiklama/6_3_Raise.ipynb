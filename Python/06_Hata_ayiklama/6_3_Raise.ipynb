{
 "cells": [
  {
   "cell_type": "code",
   "execution_count": 2,
   "id": "32f33102",
   "metadata": {},
   "outputs": [
    {
     "ename": "Exception",
     "evalue": " x 5 den büyük olamaz.",
     "output_type": "error",
     "traceback": [
      "\u001b[1;31m---------------------------------------------------------------------------\u001b[0m",
      "\u001b[1;31mException\u001b[0m                                 Traceback (most recent call last)",
      "Cell \u001b[1;32mIn [2], line 4\u001b[0m\n\u001b[0;32m      1\u001b[0m x\u001b[38;5;241m=\u001b[39m\u001b[38;5;241m10\u001b[39m\n\u001b[0;32m      3\u001b[0m \u001b[38;5;28;01mif\u001b[39;00m x\u001b[38;5;241m>\u001b[39m\u001b[38;5;241m5\u001b[39m:\n\u001b[1;32m----> 4\u001b[0m     \u001b[38;5;28;01mraise\u001b[39;00m \u001b[38;5;167;01mException\u001b[39;00m(\u001b[38;5;124m\"\u001b[39m\u001b[38;5;124m x 5 den büyük olamaz.\u001b[39m\u001b[38;5;124m\"\u001b[39m)\n",
      "\u001b[1;31mException\u001b[0m:  x 5 den büyük olamaz."
     ]
    }
   ],
   "source": [
    "x=10\n",
    "\n",
    "if x>5:\n",
    "    raise Exception(\" x 5 den büyük olamaz.\")"
   ]
  },
  {
   "cell_type": "code",
   "execution_count": 18,
   "id": "14d447ad",
   "metadata": {},
   "outputs": [
    {
     "name": "stdout",
     "output_type": "stream",
     "text": [
      "Şifrenizi girinizsd\n",
      "Geçerli parola:else\n",
      "validation tamamlandı.\n"
     ]
    }
   ],
   "source": [
    "def check_passwor_parola_kontrol(psw):\n",
    "    import re\n",
    "    if len(psw)<8:\n",
    "        raise Exception(\"Paraola en az 7 karakterli olmalıdır\")#istisna oluşturmak için kullanılır\n",
    "        \n",
    "    elif not re.search(\"[a-z]\",psw):\n",
    "        raise Exception(\"parola küçük harf içermelidir.\")\n",
    "\n",
    "    elif not re.search(\"[A-Z]\",psw):\n",
    "        raise Exception(\"parola büyük harf içermelidir.\")\n",
    "    \n",
    "    elif not re.search(\"[0-9]\",psw):\n",
    "        raise Exception(\"parola rakam içermelidir.\")\n",
    "    \n",
    "    elif not re.search(\"[_@^?]\",psw):\n",
    "        raise Exception(\"parola karakter içermelidir.\")\n",
    "        \n",
    "    elif re.search(\"\\s\",psw):\n",
    "        raise Exception(\"parola boşluk içermemelidir\")\n",
    "    \n",
    "    \n",
    "password=\"Peksemet307?_\"\n",
    " \n",
    "try:\n",
    "    check_passwor_parola_kontrol(password)\n",
    "    \n",
    "except Exception  as ex:\n",
    "    print(ex)\n",
    "    \n",
    "else:print(\"Geçerli parola:else\")\n",
    "    \n",
    "finally:\n",
    "    print(\"validation tamamlandı.\")"
   ]
  },
  {
   "cell_type": "code",
   "execution_count": 10,
   "id": "b620355c",
   "metadata": {},
   "outputs": [
    {
     "ename": "Exception",
     "evalue": "name alanı fazla karakter içeriyor",
     "output_type": "error",
     "traceback": [
      "\u001b[1;31m---------------------------------------------------------------------------\u001b[0m",
      "\u001b[1;31mException\u001b[0m                                 Traceback (most recent call last)",
      "Cell \u001b[1;32mIn [10], line 11\u001b[0m\n\u001b[0;32m      7\u001b[0m             \u001b[38;5;28mself\u001b[39m\u001b[38;5;241m.\u001b[39mname\u001b[38;5;241m=\u001b[39mname\n\u001b[0;32m      8\u001b[0m             sel\u001b[38;5;241m.\u001b[39myear\u001b[38;5;241m=\u001b[39myear\n\u001b[1;32m---> 11\u001b[0m p\u001b[38;5;241m=\u001b[39m\u001b[43mPerson\u001b[49m\u001b[43m(\u001b[49m\u001b[38;5;124;43m\"\u001b[39;49m\u001b[38;5;124;43mhafiseeeeeeeeee\u001b[39;49m\u001b[38;5;124;43m\"\u001b[39;49m\u001b[43m,\u001b[49m\u001b[38;5;241;43m1999\u001b[39;49m\u001b[43m)\u001b[49m\n",
      "Cell \u001b[1;32mIn [10], line 4\u001b[0m, in \u001b[0;36mPerson.__init__\u001b[1;34m(self, name, year)\u001b[0m\n\u001b[0;32m      2\u001b[0m \u001b[38;5;28;01mdef\u001b[39;00m \u001b[38;5;21m__init__\u001b[39m(\u001b[38;5;28mself\u001b[39m,name,year):\n\u001b[0;32m      3\u001b[0m     \u001b[38;5;28;01mif\u001b[39;00m \u001b[38;5;28mlen\u001b[39m(name)\u001b[38;5;241m>\u001b[39m\u001b[38;5;241m10\u001b[39m:\n\u001b[1;32m----> 4\u001b[0m         \u001b[38;5;28;01mraise\u001b[39;00m \u001b[38;5;167;01mException\u001b[39;00m (\u001b[38;5;124m\"\u001b[39m\u001b[38;5;124mname alanı fazla karakter içeriyor\u001b[39m\u001b[38;5;124m\"\u001b[39m)\n\u001b[0;32m      6\u001b[0m     \u001b[38;5;28;01melse\u001b[39;00m:\n\u001b[0;32m      7\u001b[0m         \u001b[38;5;28mself\u001b[39m\u001b[38;5;241m.\u001b[39mname\u001b[38;5;241m=\u001b[39mname\n",
      "\u001b[1;31mException\u001b[0m: name alanı fazla karakter içeriyor"
     ]
    }
   ],
   "source": [
    "class Person:\n",
    "    def __init__(self,name,year):\n",
    "        if len(name)>10:\n",
    "            raise Exception (\"name alanı fazla karakter içeriyor\")\n",
    "        \n",
    "        else:\n",
    "            self.name=name\n",
    "            sel.year=year\n",
    "            \n",
    "            \n",
    "p=Person(\"hafiseeeeeeeeee\",1999)"
   ]
  },
  {
   "cell_type": "code",
   "execution_count": null,
   "id": "234cba2d",
   "metadata": {},
   "outputs": [],
   "source": []
  }
 ],
 "metadata": {
  "kernelspec": {
   "display_name": "Python 3 (ipykernel)",
   "language": "python",
   "name": "python3"
  },
  "language_info": {
   "codemirror_mode": {
    "name": "ipython",
    "version": 3
   },
   "file_extension": ".py",
   "mimetype": "text/x-python",
   "name": "python",
   "nbconvert_exporter": "python",
   "pygments_lexer": "ipython3",
   "version": "3.10.8"
  }
 },
 "nbformat": 4,
 "nbformat_minor": 5
}
