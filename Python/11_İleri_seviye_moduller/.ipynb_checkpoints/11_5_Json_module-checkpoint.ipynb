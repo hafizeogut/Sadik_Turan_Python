{
 "cells": [
  {
   "cell_type": "code",
   "execution_count": 1,
   "id": "0e30d129",
   "metadata": {},
   "outputs": [],
   "source": [
    "#dict"
   ]
  },
  {
   "cell_type": "code",
   "execution_count": 3,
   "id": "b94202c5",
   "metadata": {},
   "outputs": [
    {
     "data": {
      "text/plain": [
       "'Ali'"
      ]
     },
     "execution_count": 3,
     "metadata": {},
     "output_type": "execute_result"
    }
   ],
   "source": [
    "person={\"name\":\"Ali\",\"Şarkılar\":[\"Acı Su\",\"Orda ortada\",\"Hadi Çal\"]}\n",
    "result=person[\"name\"]\n",
    "result"
   ]
  },
  {
   "cell_type": "code",
   "execution_count": 4,
   "id": "e460d468",
   "metadata": {},
   "outputs": [
    {
     "data": {
      "text/plain": [
       "['Acı Su', 'Orda ortada', 'Hadi Çal']"
      ]
     },
     "execution_count": 4,
     "metadata": {},
     "output_type": "execute_result"
    }
   ],
   "source": [
    "person[\"Şarkılar\"]"
   ]
  },
  {
   "cell_type": "code",
   "execution_count": null,
   "id": "c58d4130",
   "metadata": {},
   "outputs": [],
   "source": [
    "person='{\"name\":\"Ali\",\"Şarkılar\":[\"Acı Su\",\"Orda ortada\",\"Hadi Çal\"]}' #json bilgisi"
   ]
  },
  {
   "cell_type": "code",
   "execution_count": 13,
   "id": "35184280",
   "metadata": {},
   "outputs": [
    {
     "data": {
      "text/plain": [
       "{'name': 'Ali', 'Şarkılar': ['Acı Su', 'Orda ortada', 'Hadi Çal']}"
      ]
     },
     "execution_count": 13,
     "metadata": {},
     "output_type": "execute_result"
    }
   ],
   "source": [
    "import json\n",
    "\n",
    "#json string fadeden sözlüğe çevirme\n",
    "person_string='{\"name\":\"Ali\",\"Şarkılar\":[\"Acı Su\",\"Orda ortada\",\"Hadi Çal\"]}'\n",
    "\n",
    "result=json.loads(person_string)\n",
    " \n",
    "result"
   ]
  },
  {
   "cell_type": "code",
   "execution_count": 12,
   "id": "3cb5b897",
   "metadata": {},
   "outputs": [
    {
     "data": {
      "text/plain": [
       "dict"
      ]
     },
     "execution_count": 12,
     "metadata": {},
     "output_type": "execute_result"
    }
   ],
   "source": [
    "type(json.loads(person_string))"
   ]
  },
  {
   "cell_type": "code",
   "execution_count": 14,
   "id": "b556de1c",
   "metadata": {},
   "outputs": [
    {
     "data": {
      "text/plain": [
       "'Ali'"
      ]
     },
     "execution_count": 14,
     "metadata": {},
     "output_type": "execute_result"
    }
   ],
   "source": [
    "result[\"name\"]"
   ]
  },
  {
   "cell_type": "code",
   "execution_count": 19,
   "id": "14d16bbe",
   "metadata": {},
   "outputs": [
    {
     "data": {
      "text/plain": [
       "'C:\\\\Python\\\\Sadik_Turan_Python\\\\Python\\\\11_İleri_seviye_moduller'"
      ]
     },
     "execution_count": 19,
     "metadata": {},
     "output_type": "execute_result"
    }
   ],
   "source": [
    "import os\n",
    "os.getcwd()"
   ]
  },
  {
   "cell_type": "code",
   "execution_count": 37,
   "id": "d7634122",
   "metadata": {},
   "outputs": [
    {
     "name": "stdout",
     "output_type": "stream",
     "text": [
      "{'name': 'Ali', 'Şarkılar': ['Acı Su', 'Orda ortada', 'Hadi Çal']}\n",
      "Ali :) :)\n"
     ]
    }
   ],
   "source": [
    "person_string='{\"name\":\"Ali\",\"Şarkılar\":[\"Acı Su\",\"Orda ortada\",\"Hadi Çal\"]}'\n",
    "\n",
    "with open(\"person.json\",encoding='utf-8') as f:\n",
    "    data=json.load(f)\n",
    "    print(data)\n",
    "    print(data[\"name\"],\":) :)\")"
   ]
  },
  {
   "cell_type": "code",
   "execution_count": null,
   "id": "07533942",
   "metadata": {},
   "outputs": [],
   "source": [
    "person_dict={\n",
    "    \"name\":\"Ali\",\n",
    "    \"languages\":[\"Python\",\"C++\"]\n",
    "}"
   ]
  },
  {
   "cell_type": "code",
   "execution_count": null,
   "id": "ef30ba08",
   "metadata": {},
   "outputs": [],
   "source": []
  },
  {
   "cell_type": "code",
   "execution_count": null,
   "id": "30d009aa",
   "metadata": {},
   "outputs": [],
   "source": []
  }
 ],
 "metadata": {
  "kernelspec": {
   "display_name": "Python 3 (ipykernel)",
   "language": "python",
   "name": "python3"
  },
  "language_info": {
   "codemirror_mode": {
    "name": "ipython",
    "version": 3
   },
   "file_extension": ".py",
   "mimetype": "text/x-python",
   "name": "python",
   "nbconvert_exporter": "python",
   "pygments_lexer": "ipython3",
   "version": "3.11.2"
  }
 },
 "nbformat": 4,
 "nbformat_minor": 5
}
