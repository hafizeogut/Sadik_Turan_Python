{
 "cells": [
  {
   "cell_type": "markdown",
   "id": "ea506594",
   "metadata": {},
   "source": [
    "### Düzenli ifadeler (Regular Expressions) "
   ]
  },
  {
   "cell_type": "code",
   "execution_count": 7,
   "id": "991e097b",
   "metadata": {},
   "outputs": [
    {
     "data": {
      "text/plain": [
       "['A',\n",
       " 'ASCII',\n",
       " 'DEBUG',\n",
       " 'DOTALL',\n",
       " 'I',\n",
       " 'IGNORECASE',\n",
       " 'L',\n",
       " 'LOCALE',\n",
       " 'M',\n",
       " 'MULTILINE',\n",
       " 'Match',\n",
       " 'NOFLAG',\n",
       " 'Pattern',\n",
       " 'RegexFlag',\n",
       " 'S',\n",
       " 'Scanner',\n",
       " 'T',\n",
       " 'TEMPLATE',\n",
       " 'U',\n",
       " 'UNICODE',\n",
       " 'VERBOSE',\n",
       " 'X',\n",
       " '_MAXCACHE',\n",
       " '__all__',\n",
       " '__builtins__',\n",
       " '__cached__',\n",
       " '__doc__',\n",
       " '__file__',\n",
       " '__loader__',\n",
       " '__name__',\n",
       " '__package__',\n",
       " '__path__',\n",
       " '__spec__',\n",
       " '__version__',\n",
       " '_cache',\n",
       " '_casefix',\n",
       " '_compile',\n",
       " '_compile_repl',\n",
       " '_compiler',\n",
       " '_constants',\n",
       " '_expand',\n",
       " '_parser',\n",
       " '_pickle',\n",
       " '_special_chars_map',\n",
       " '_subx',\n",
       " 'compile',\n",
       " 'copyreg',\n",
       " 'enum',\n",
       " 'error',\n",
       " 'escape',\n",
       " 'findall',\n",
       " 'finditer',\n",
       " 'fullmatch',\n",
       " 'functools',\n",
       " 'match',\n",
       " 'purge',\n",
       " 'search',\n",
       " 'split',\n",
       " 'sub',\n",
       " 'subn',\n",
       " 'template']"
      ]
     },
     "execution_count": 7,
     "metadata": {},
     "output_type": "execute_result"
    }
   ],
   "source": [
    "import re\n",
    "dir(re)"
   ]
  },
  {
   "cell_type": "code",
   "execution_count": 48,
   "id": "22a08a24",
   "metadata": {},
   "outputs": [],
   "source": [
    "string=\"\"\"“Öyle yıkma kendini,\n",
    "Öyle mahzun, öyle garip…\n",
    "Nerede olursan ol,\n",
    "İçerde, dışarda, derste, sırada,\n",
    "Yürü üstüne üstüne,\n",
    "Tükür yüzüne celladın,\n",
    "Fırsatçının, fesatçının, hayının…\n",
    "Dayan kitap ile\n",
    "Dayan iş ile.\n",
    "Tırnak ile, diş ile,\n",
    "Umut ile, sevda ile, düş ile\n",
    "Dayan rüsva etme beni.“\n",
    "\n",
    "Ahmet Arif- Anadolu\n",
    "10.02.2023\n",
    "\n",
    "\"\"\""
   ]
  },
  {
   "cell_type": "markdown",
   "id": "cb1be828",
   "metadata": {},
   "source": [
    "### re.findall()"
   ]
  },
  {
   "cell_type": "code",
   "execution_count": 11,
   "id": "b4ac9864",
   "metadata": {},
   "outputs": [
    {
     "data": {
      "text/plain": [
       "1"
      ]
     },
     "execution_count": 11,
     "metadata": {},
     "output_type": "execute_result"
    }
   ],
   "source": [
    "\n",
    "result=re.findall(\"sevda\",string)\n",
    "result=len(result)\n",
    "result"
   ]
  },
  {
   "cell_type": "markdown",
   "id": "8bdff154",
   "metadata": {},
   "source": [
    "#### re.split()"
   ]
  },
  {
   "cell_type": "code",
   "execution_count": 15,
   "id": "99cc77f7",
   "metadata": {},
   "outputs": [
    {
     "data": {
      "text/plain": [
       "['',\n",
       " '',\n",
       " '“Öyle yıkma kendini,',\n",
       " 'Öyle mahzun, öyle garip…',\n",
       " 'Nerede olursan ol,',\n",
       " 'İçerde, dışarda, derste, sırada,',\n",
       " 'Yürü üstüne üstüne,',\n",
       " 'Tükür yüzüne celladın,',\n",
       " 'Fırsatçının, fesatçının, hayının…',\n",
       " 'Dayan kitap ile',\n",
       " 'Dayan iş ile.',\n",
       " 'Tırnak ile, diş ile,',\n",
       " 'Umut ile, sevda ile, düş ile',\n",
       " 'Dayan rüsva etme beni.“',\n",
       " '',\n",
       " 'Ahmet Arif- Anadolu',\n",
       " '10.02.2023',\n",
       " '',\n",
       " '']"
      ]
     },
     "execution_count": 15,
     "metadata": {},
     "output_type": "execute_result"
    }
   ],
   "source": [
    "re.split(\"\\n\",string)"
   ]
  },
  {
   "cell_type": "code",
   "execution_count": 16,
   "id": "7fd6596a",
   "metadata": {},
   "outputs": [
    {
     "data": {
      "text/plain": [
       "['\\n\\n“Öyle yıkma kendini,\\nÖyle mahzun, öyle garip…\\nNerede olursan ol,\\nİçerde, dışarda, derste, sırada,\\nYürü üstüne üstüne,\\nTükür yüzüne celladın,\\nFırsatçının, fesatçının, hayının…\\nDayan kitap ile\\nDayan iş ile.\\nTırnak ile, diş ile,\\nUmut ile, sevda ile, düş ile\\nDayan rüsva etme beni.“\\n\\n',\n",
       " 'hmet ',\n",
       " 'rif- ',\n",
       " 'nadolu\\n10.02.2023\\n\\n']"
      ]
     },
     "execution_count": 16,
     "metadata": {},
     "output_type": "execute_result"
    }
   ],
   "source": [
    "re.split(\"A\",string)"
   ]
  },
  {
   "cell_type": "markdown",
   "id": "2f3c168c",
   "metadata": {},
   "source": [
    "### re.sub() "
   ]
  },
  {
   "cell_type": "code",
   "execution_count": 20,
   "id": "dd880589",
   "metadata": {},
   "outputs": [
    {
     "data": {
      "text/plain": [
       "'....“Öyle..yıkma..kendini,..Öyle..mahzun,..öyle..garip…..Nerede..olursan..ol,..İçerde,..dışarda,..derste,..sırada,..Yürü..üstüne..üstüne,..Tükür..yüzüne..celladın,..Fırsatçının,..fesatçının,..hayının…..Dayan..kitap..ile..Dayan..iş..ile...Tırnak..ile,..diş..ile,..Umut..ile,..sevda..ile,..düş..ile..Dayan..rüsva..etme..beni.“....Ahmet..Arif-..Anadolu..10.02.2023....'"
      ]
     },
     "execution_count": 20,
     "metadata": {},
     "output_type": "execute_result"
    }
   ],
   "source": [
    "re.sub(\"\\s\",\"..\",string)#ifade değişimi"
   ]
  },
  {
   "cell_type": "code",
   "execution_count": 23,
   "id": "0bb8cdd4",
   "metadata": {},
   "outputs": [
    {
     "data": {
      "text/plain": [
       "<re.Match object; span=(238, 243), match='sevda'>"
      ]
     },
     "execution_count": 23,
     "metadata": {},
     "output_type": "execute_result"
    }
   ],
   "source": [
    "result=re.search(\"sevda\",string)#Math nesnesi 238-243 aralığında bulundu"
   ]
  },
  {
   "cell_type": "code",
   "execution_count": 36,
   "id": "d2cdd749",
   "metadata": {},
   "outputs": [
    {
     "data": {
      "text/plain": [
       "(238, 243)"
      ]
     },
     "execution_count": 36,
     "metadata": {},
     "output_type": "execute_result"
    }
   ],
   "source": [
    "result=re.search(\"sevda\",string)#Math nesnesi 238-243 aralığında bulundu\n",
    "result=result.span()\n",
    "result"
   ]
  },
  {
   "cell_type": "code",
   "execution_count": 38,
   "id": "23d4ce50",
   "metadata": {},
   "outputs": [
    {
     "data": {
      "text/plain": [
       "238"
      ]
     },
     "execution_count": 38,
     "metadata": {},
     "output_type": "execute_result"
    }
   ],
   "source": [
    "result=re.search(\"sevda\",string)#Math nesnesi 238-243 aralığında bulundu\n",
    "\n",
    "result.start()"
   ]
  },
  {
   "cell_type": "code",
   "execution_count": 40,
   "id": "42f057cf",
   "metadata": {},
   "outputs": [
    {
     "data": {
      "text/plain": [
       "243"
      ]
     },
     "execution_count": 40,
     "metadata": {},
     "output_type": "execute_result"
    }
   ],
   "source": [
    "result=re.search(\"sevda\",string)#Math nesnesi 238-243 aralığında bulundu\n",
    "result.end()\n"
   ]
  },
  {
   "cell_type": "code",
   "execution_count": 47,
   "id": "3914ed35",
   "metadata": {},
   "outputs": [
    {
     "data": {
      "text/plain": [
       "'sevda'"
      ]
     },
     "execution_count": 47,
     "metadata": {},
     "output_type": "execute_result"
    }
   ],
   "source": [
    "result=re.search(\"sevda\",string)#Math nesnesi 238-243 aralığında bulundu\n",
    "result.group()\n"
   ]
  },
  {
   "cell_type": "code",
   "execution_count": 51,
   "id": "68cddc70",
   "metadata": {},
   "outputs": [
    {
     "data": {
      "text/plain": [
       "'“Öyle yıkma kendini,\\nÖyle mahzun, öyle garip…\\nNerede olursan ol,\\nİçerde, dışarda, derste, sırada,\\nYürü üstüne üstüne,\\nTükür yüzüne celladın,\\nFırsatçının, fesatçının, hayının…\\nDayan kitap ile\\nDayan iş ile.\\nTırnak ile, diş ile,\\nUmut ile, sevda ile, düş ile\\nDayan rüsva etme beni.“\\n\\nAhmet Arif- Anadolu\\n10.02.2023\\n\\n'"
      ]
     },
     "execution_count": 51,
     "metadata": {},
     "output_type": "execute_result"
    }
   ],
   "source": [
    "result=re.search(\"sevda\",string)#Math nesnesi 238-243 aralığında bulundu\n",
    "result.string"
   ]
  },
  {
   "cell_type": "code",
   "execution_count": null,
   "id": "430f264e",
   "metadata": {},
   "outputs": [],
   "source": []
  }
 ],
 "metadata": {
  "kernelspec": {
   "display_name": "Python 3 (ipykernel)",
   "language": "python",
   "name": "python3"
  },
  "language_info": {
   "codemirror_mode": {
    "name": "ipython",
    "version": 3
   },
   "file_extension": ".py",
   "mimetype": "text/x-python",
   "name": "python",
   "nbconvert_exporter": "python",
   "pygments_lexer": "ipython3",
   "version": "3.11.2"
  }
 },
 "nbformat": 4,
 "nbformat_minor": 5
}
