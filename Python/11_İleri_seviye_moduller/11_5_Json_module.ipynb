{
 "cells": [
  {
   "cell_type": "code",
   "execution_count": 1,
   "id": "8f3d493c",
   "metadata": {},
   "outputs": [],
   "source": [
    "#dict"
   ]
  },
  {
   "cell_type": "code",
   "execution_count": 3,
   "id": "973e2aef",
   "metadata": {},
   "outputs": [
    {
     "data": {
      "text/plain": [
       "'Ali'"
      ]
     },
     "execution_count": 3,
     "metadata": {},
     "output_type": "execute_result"
    }
   ],
   "source": [
    "person={\"name\":\"Ali\",\"Şarkılar\":[\"Acı Su\",\"Orda ortada\",\"Hadi Çal\"]}\n",
    "result=person[\"name\"]\n",
    "result"
   ]
  },
  {
   "cell_type": "code",
   "execution_count": 4,
   "id": "410bdb49",
   "metadata": {},
   "outputs": [
    {
     "data": {
      "text/plain": [
       "['Acı Su', 'Orda ortada', 'Hadi Çal']"
      ]
     },
     "execution_count": 4,
     "metadata": {},
     "output_type": "execute_result"
    }
   ],
   "source": [
    "person[\"Şarkılar\"]"
   ]
  },
  {
   "cell_type": "code",
   "execution_count": null,
   "id": "b4a21c5e",
   "metadata": {},
   "outputs": [],
   "source": [
    "person='{\"name\":\"Ali\",\"Şarkılar\":[\"Acı Su\",\"Orda ortada\",\"Hadi Çal\"]}' #json bilgisi"
   ]
  },
  {
   "cell_type": "code",
   "execution_count": 13,
   "id": "964130d9",
   "metadata": {},
   "outputs": [
    {
     "data": {
      "text/plain": [
       "{'name': 'Ali', 'Şarkılar': ['Acı Su', 'Orda ortada', 'Hadi Çal']}"
      ]
     },
     "execution_count": 13,
     "metadata": {},
     "output_type": "execute_result"
    }
   ],
   "source": [
    "import json\n",
    "\n",
    "#json string fadeden sözlüğe çevirme\n",
    "person_string='{\"name\":\"Ali\",\"Şarkılar\":[\"Acı Su\",\"Orda ortada\",\"Hadi Çal\"]}'\n",
    "\n",
    "result=json.loads(person_string)\n",
    " \n",
    "result"
   ]
  },
  {
   "cell_type": "code",
   "execution_count": 12,
   "id": "b0c88598",
   "metadata": {},
   "outputs": [
    {
     "data": {
      "text/plain": [
       "dict"
      ]
     },
     "execution_count": 12,
     "metadata": {},
     "output_type": "execute_result"
    }
   ],
   "source": [
    "type(json.loads(person_string))"
   ]
  },
  {
   "cell_type": "code",
   "execution_count": 14,
   "id": "bbcdb7e7",
   "metadata": {},
   "outputs": [
    {
     "data": {
      "text/plain": [
       "'Ali'"
      ]
     },
     "execution_count": 14,
     "metadata": {},
     "output_type": "execute_result"
    }
   ],
   "source": [
    "result[\"name\"]"
   ]
  },
  {
   "cell_type": "code",
   "execution_count": 19,
   "id": "7c4258ef",
   "metadata": {},
   "outputs": [
    {
     "data": {
      "text/plain": [
       "'C:\\\\Python\\\\Sadik_Turan_Python\\\\Python\\\\11_İleri_seviye_moduller'"
      ]
     },
     "execution_count": 19,
     "metadata": {},
     "output_type": "execute_result"
    }
   ],
   "source": [
    "import os\n",
    "os.getcwd()"
   ]
  },
  {
   "cell_type": "code",
   "execution_count": 37,
   "id": "16aba6f6",
   "metadata": {},
   "outputs": [
    {
     "name": "stdout",
     "output_type": "stream",
     "text": [
      "{'name': 'Ali', 'Şarkılar': ['Acı Su', 'Orda ortada', 'Hadi Çal']}\n",
      "Ali :) :)\n"
     ]
    }
   ],
   "source": [
    "person_string='{\"name\":\"Ali\",\"Şarkılar\":[\"Acı Su\",\"Orda ortada\",\"Hadi Çal\"]}'\n",
    "\n",
    "with open(\"person.json\",encoding='utf-8') as f:\n",
    "    data=json.load(f)\n",
    "    print(data)\n",
    "    print(data[\"name\"],\":) :)\")"
   ]
  },
  {
   "cell_type": "code",
   "execution_count": 38,
   "id": "b031018a",
   "metadata": {},
   "outputs": [
    {
     "data": {
      "text/plain": [
       "'{\"name\": \"Ali\", \"languages\": [\"Python\", \"C++\"]}'"
      ]
     },
     "execution_count": 38,
     "metadata": {},
     "output_type": "execute_result"
    }
   ],
   "source": [
    "person_dict={\n",
    "    \"name\":\"Ali\",\n",
    "    \"languages\":[\"Python\",\"C++\"]\n",
    "}\n",
    "\n",
    "#Sözlükten jsona çevrildi\n",
    "result=json.dumps(person_dict)\n",
    "result"
   ]
  },
  {
   "cell_type": "code",
   "execution_count": 39,
   "id": "0cc77dc2",
   "metadata": {},
   "outputs": [
    {
     "data": {
      "text/plain": [
       "str"
      ]
     },
     "execution_count": 39,
     "metadata": {},
     "output_type": "execute_result"
    }
   ],
   "source": [
    "type(result)"
   ]
  },
  {
   "cell_type": "code",
   "execution_count": 51,
   "id": "079bb683",
   "metadata": {},
   "outputs": [],
   "source": [
    "with open(\"person1.json\",\"w\",encoding='utf-8') as f:\n",
    "    json.dump(person_dict,f)"
   ]
  },
  {
   "cell_type": "code",
   "execution_count": 53,
   "id": "9e73307c",
   "metadata": {},
   "outputs": [
    {
     "data": {
      "text/plain": [
       "{'name': 'Ali', 'Şarkılar': ['Acı Su', 'Orda ortada', 'Hadi Çal']}"
      ]
     },
     "execution_count": 53,
     "metadata": {},
     "output_type": "execute_result"
    }
   ],
   "source": [
    "person_dict=json.loads(person_string)\n",
    "person_dict"
   ]
  },
  {
   "cell_type": "code",
   "execution_count": 54,
   "id": "03d8f312",
   "metadata": {},
   "outputs": [
    {
     "name": "stdout",
     "output_type": "stream",
     "text": [
      "{\n",
      "    \"name\": \"Ali\",\n",
      "    \"\\u015eark\\u0131lar\": [\n",
      "        \"Ac\\u0131 Su\",\n",
      "        \"Orda ortada\",\n",
      "        \"Hadi \\u00c7al\"\n",
      "    ]\n",
      "}\n"
     ]
    }
   ],
   "source": [
    "result=json.dumps(person_dict,indent=4,sort_keys=True)\n",
    "print(result)"
   ]
  },
  {
   "cell_type": "code",
   "execution_count": null,
   "id": "7a0eaa16",
   "metadata": {},
   "outputs": [],
   "source": []
  }
 ],
 "metadata": {
  "kernelspec": {
   "display_name": "Python 3 (ipykernel)",
   "language": "python",
   "name": "python3"
  },
  "language_info": {
   "codemirror_mode": {
    "name": "ipython",
    "version": 3
   },
   "file_extension": ".py",
   "mimetype": "text/x-python",
   "name": "python",
   "nbconvert_exporter": "python",
   "pygments_lexer": "ipython3",
   "version": "3.11.2"
  }
 },
 "nbformat": 4,
 "nbformat_minor": 5
}
