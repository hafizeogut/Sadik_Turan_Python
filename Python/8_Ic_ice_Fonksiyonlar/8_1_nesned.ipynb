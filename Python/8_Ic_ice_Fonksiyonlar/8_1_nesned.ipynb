{
 "cells": [
  {
   "cell_type": "code",
   "execution_count": 2,
   "id": "cd28208e",
   "metadata": {},
   "outputs": [
    {
     "name": "stdout",
     "output_type": "stream",
     "text": [
      "Merhabalar Aliiiiiiii :)\n"
     ]
    }
   ],
   "source": [
    "def greeting(name):\n",
    "    print('Merhabalar',name)\n",
    "    \n",
    "    \n",
    "greeting('Aliiiiiiii :)')"
   ]
  },
  {
   "cell_type": "code",
   "execution_count": 5,
   "id": "d2bce060",
   "metadata": {},
   "outputs": [
    {
     "name": "stdout",
     "output_type": "stream",
     "text": [
      "<function greeting at 0x00000184EC982CB0>\n",
      "<function greeting at 0x00000184EC982CB0>\n"
     ]
    }
   ],
   "source": [
    "merhaba=greeting\n",
    "print(merhaba)\n",
    "print(greeting)"
   ]
  },
  {
   "cell_type": "code",
   "execution_count": 8,
   "id": "abe572ad",
   "metadata": {},
   "outputs": [
    {
     "name": "stdout",
     "output_type": "stream",
     "text": [
      "Merhabalar Merhabalar Ali\n",
      "None\n",
      "Merhabalar Merhabalar be bu yerlerden biriyim\n",
      "None\n"
     ]
    }
   ],
   "source": [
    "print(greeting('Merhabalar Ali'))\n",
    "print(merhaba('Merhabalar be bu yerlerden biriyim'))"
   ]
  },
  {
   "cell_type": "code",
   "execution_count": 10,
   "id": "eb4c5a63",
   "metadata": {},
   "outputs": [
    {
     "name": "stdout",
     "output_type": "stream",
     "text": [
      "<function greeting at 0x00000184EC982CB0>\n"
     ]
    }
   ],
   "source": [
    "del merhaba\n",
    "print (greeting)"
   ]
  },
  {
   "cell_type": "code",
   "execution_count": 20,
   "id": "f802f4a8",
   "metadata": {},
   "outputs": [
    {
     "name": "stdout",
     "output_type": "stream",
     "text": [
      "outer\n",
      "inner\n",
      "num1: 10 \n",
      "num2: 11\n"
     ]
    },
    {
     "ename": "NameError",
     "evalue": "name 'inner_increment_ic_artirma' is not defined",
     "output_type": "error",
     "traceback": [
      "\u001b[1;31m---------------------------------------------------------------------------\u001b[0m",
      "\u001b[1;31mNameError\u001b[0m                                 Traceback (most recent call last)",
      "Cell \u001b[1;32mIn [20], line 12\u001b[0m\n\u001b[0;32m     10\u001b[0m     \u001b[38;5;28mprint\u001b[39m(\u001b[38;5;124m\"\u001b[39m\u001b[38;5;124mnum1:\u001b[39m\u001b[38;5;124m\"\u001b[39m,num1,\u001b[38;5;124m\"\u001b[39m\u001b[38;5;130;01m\\n\u001b[39;00m\u001b[38;5;124mnum2:\u001b[39m\u001b[38;5;124m\"\u001b[39m,num2)\n\u001b[0;32m     11\u001b[0m outer(\u001b[38;5;241m10\u001b[39m)\n\u001b[1;32m---> 12\u001b[0m \u001b[43minner_increment_ic_artirma\u001b[49m(\u001b[38;5;241m10\u001b[39m)\n",
      "\u001b[1;31mNameError\u001b[0m: name 'inner_increment_ic_artirma' is not defined"
     ]
    }
   ],
   "source": [
    "def outer(num1):\n",
    "    print(\"outer\")\n",
    "    def inner_increment_ic_artirma(num1):\n",
    "        print('inner')\n",
    "        return num1+1\n",
    "    \n",
    "    \n",
    "    \n",
    "    num2=inner_increment_ic_artirma(num1)\n",
    "    print(\"num1:\",num1,\"\\nnum2:\",num2)\n",
    "outer(10)\n",
    "inner_increment_ic_artirma(10)#NameError: name 'inner_increment_ic_artirma' is not defined\n"
   ]
  },
  {
   "cell_type": "code",
   "execution_count": 45,
   "id": "271e106c",
   "metadata": {},
   "outputs": [
    {
     "name": "stdout",
     "output_type": "stream",
     "text": [
      "Sayı giriniz:5\n",
      "120\n"
     ]
    }
   ],
   "source": [
    "def factorial(number):\n",
    "    def inner_factorial(number):\n",
    "        if not  isinstance(number,int):# Gelen sayı integer mı?\n",
    "            raise TypeError(\" number must be an integer\")\n",
    "            \n",
    "        if not number >=0:\n",
    "            raise ValueError(\" number must be zero integer\")\n",
    "            \n",
    "        if number==1:\n",
    "            return 1\n",
    "        \n",
    "        return number*inner_factorial(number-1)\n",
    "    \n",
    "    return inner_factorial(number)\n",
    "\n",
    "sayi=int(input(\"Sayı giriniz:\"))\n",
    "try:\n",
    "    print(factorial(sayi))\n",
    "    \n",
    "except Exception as  ex:\n",
    "    print(ex)"
   ]
  },
  {
   "cell_type": "code",
   "execution_count": null,
   "id": "c3bfed42",
   "metadata": {},
   "outputs": [],
   "source": []
  }
 ],
 "metadata": {
  "kernelspec": {
   "display_name": "Python 3 (ipykernel)",
   "language": "python",
   "name": "python3"
  },
  "language_info": {
   "codemirror_mode": {
    "name": "ipython",
    "version": 3
   },
   "file_extension": ".py",
   "mimetype": "text/x-python",
   "name": "python",
   "nbconvert_exporter": "python",
   "pygments_lexer": "ipython3",
   "version": "3.10.8"
  }
 },
 "nbformat": 4,
 "nbformat_minor": 5
}
