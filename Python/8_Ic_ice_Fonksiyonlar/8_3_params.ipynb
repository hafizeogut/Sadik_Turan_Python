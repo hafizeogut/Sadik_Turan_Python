{
 "cells": [
  {
   "cell_type": "code",
   "execution_count": 1,
   "id": "fa562abf",
   "metadata": {},
   "outputs": [],
   "source": [
    "def toplama(a,b):\n",
    "    return a+b\n",
    "def cikarma(a,b):\n",
    "    return a-b\n",
    "\n",
    "def carpma(a,b):\n",
    "    return a*b\n",
    "\n",
    "def bolme(a,b):\n",
    "    return ab\n",
    "\n",
    "def islem(f1,f2,f3,f4,islem_adi):\n",
    "    if islem_adi==\"toplama\":\n",
    "        print(f1(2,2))\n",
    "        \n",
    "    elif islem_adi==\"çıkarma\":\n",
    "        print(f2(2,2))\n",
    "        \n",
    "    elif islem_adi==\"bölme\":\n",
    "        print(f3(3,2))\n",
    "        \n",
    "    elif islem_adi==\"bölme\":\n",
    "        print(f4(3,2))\n",
    "        \n",
    "    else:\n",
    "        print (\"Geçersiz işlem...\")\n",
    "    \n",
    "        "
   ]
  },
  {
   "cell_type": "code",
   "execution_count": 3,
   "id": "9713ea0a",
   "metadata": {},
   "outputs": [
    {
     "name": "stdout",
     "output_type": "stream",
     "text": [
      "4\n",
      "0\n"
     ]
    }
   ],
   "source": [
    "islem(toplama,cikarma,carpma,bolme,\"toplama\")\n",
    "islem(toplama,cikarma,carpma,bolme,\"çıkarma\")"
   ]
  },
  {
   "cell_type": "code",
   "execution_count": null,
   "id": "d8b8ac83",
   "metadata": {},
   "outputs": [],
   "source": []
  }
 ],
 "metadata": {
  "kernelspec": {
   "display_name": "Python 3 (ipykernel)",
   "language": "python",
   "name": "python3"
  },
  "language_info": {
   "codemirror_mode": {
    "name": "ipython",
    "version": 3
   },
   "file_extension": ".py",
   "mimetype": "text/x-python",
   "name": "python",
   "nbconvert_exporter": "python",
   "pygments_lexer": "ipython3",
   "version": "3.10.8"
  }
 },
 "nbformat": 4,
 "nbformat_minor": 5
}
