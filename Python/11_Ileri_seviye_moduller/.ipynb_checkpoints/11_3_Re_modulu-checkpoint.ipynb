{
 "cells": [
  {
   "cell_type": "markdown",
   "id": "6ba2411e",
   "metadata": {},
   "source": [
    "# düzenli ifadeler"
   ]
  },
  {
   "cell_type": "code",
   "execution_count": null,
   "id": "80b3baaf",
   "metadata": {},
   "outputs": [],
   "source": [
    "int"
   ]
  }
 ],
 "metadata": {
  "kernelspec": {
   "display_name": "Python 3 (ipykernel)",
   "language": "python",
   "name": "python3"
  }
 },
 "nbformat": 4,
 "nbformat_minor": 5
}
