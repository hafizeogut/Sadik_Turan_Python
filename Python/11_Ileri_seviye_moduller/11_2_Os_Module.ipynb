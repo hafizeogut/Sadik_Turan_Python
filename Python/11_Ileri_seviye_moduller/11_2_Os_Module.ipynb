{
 "cells": [
  {
   "cell_type": "code",
   "execution_count": 53,
   "id": "cb37896b",
   "metadata": {},
   "outputs": [
    {
     "data": {
      "text/plain": [
       "['DirEntry',\n",
       " 'F_OK',\n",
       " 'GenericAlias',\n",
       " 'Mapping',\n",
       " 'MutableMapping',\n",
       " 'O_APPEND',\n",
       " 'O_BINARY',\n",
       " 'O_CREAT',\n",
       " 'O_EXCL',\n",
       " 'O_NOINHERIT',\n",
       " 'O_RANDOM',\n",
       " 'O_RDONLY',\n",
       " 'O_RDWR',\n",
       " 'O_SEQUENTIAL',\n",
       " 'O_SHORT_LIVED',\n",
       " 'O_TEMPORARY',\n",
       " 'O_TEXT',\n",
       " 'O_TRUNC',\n",
       " 'O_WRONLY',\n",
       " 'P_DETACH',\n",
       " 'P_NOWAIT',\n",
       " 'P_NOWAITO',\n",
       " 'P_OVERLAY',\n",
       " 'P_WAIT',\n",
       " 'PathLike',\n",
       " 'R_OK',\n",
       " 'SEEK_CUR',\n",
       " 'SEEK_END',\n",
       " 'SEEK_SET',\n",
       " 'TMP_MAX',\n",
       " 'W_OK',\n",
       " 'X_OK',\n",
       " '_AddedDllDirectory',\n",
       " '_Environ',\n",
       " '__all__',\n",
       " '__builtins__',\n",
       " '__cached__',\n",
       " '__doc__',\n",
       " '__file__',\n",
       " '__loader__',\n",
       " '__name__',\n",
       " '__package__',\n",
       " '__spec__',\n",
       " '_check_methods',\n",
       " '_execvpe',\n",
       " '_exists',\n",
       " '_exit',\n",
       " '_fspath',\n",
       " '_get_exports_list',\n",
       " '_walk',\n",
       " '_wrap_close',\n",
       " 'abc',\n",
       " 'abort',\n",
       " 'access',\n",
       " 'add_dll_directory',\n",
       " 'altsep',\n",
       " 'chdir',\n",
       " 'chmod',\n",
       " 'close',\n",
       " 'closerange',\n",
       " 'cpu_count',\n",
       " 'curdir',\n",
       " 'defpath',\n",
       " 'device_encoding',\n",
       " 'devnull',\n",
       " 'dup',\n",
       " 'dup2',\n",
       " 'environ',\n",
       " 'error',\n",
       " 'execl',\n",
       " 'execle',\n",
       " 'execlp',\n",
       " 'execlpe',\n",
       " 'execv',\n",
       " 'execve',\n",
       " 'execvp',\n",
       " 'execvpe',\n",
       " 'extsep',\n",
       " 'fdopen',\n",
       " 'fsdecode',\n",
       " 'fsencode',\n",
       " 'fspath',\n",
       " 'fstat',\n",
       " 'fsync',\n",
       " 'ftruncate',\n",
       " 'get_exec_path',\n",
       " 'get_handle_inheritable',\n",
       " 'get_inheritable',\n",
       " 'get_terminal_size',\n",
       " 'getcwd',\n",
       " 'getcwdb',\n",
       " 'getenv',\n",
       " 'getlogin',\n",
       " 'getpid',\n",
       " 'getppid',\n",
       " 'isatty',\n",
       " 'kill',\n",
       " 'linesep',\n",
       " 'link',\n",
       " 'listdir',\n",
       " 'lseek',\n",
       " 'lstat',\n",
       " 'makedirs',\n",
       " 'mkdir',\n",
       " 'name',\n",
       " 'open',\n",
       " 'pardir',\n",
       " 'path',\n",
       " 'pathsep',\n",
       " 'pipe',\n",
       " 'popen',\n",
       " 'putenv',\n",
       " 'read',\n",
       " 'readlink',\n",
       " 'remove',\n",
       " 'removedirs',\n",
       " 'rename',\n",
       " 'renames',\n",
       " 'replace',\n",
       " 'rmdir',\n",
       " 'scandir',\n",
       " 'sep',\n",
       " 'set_handle_inheritable',\n",
       " 'set_inheritable',\n",
       " 'spawnl',\n",
       " 'spawnle',\n",
       " 'spawnv',\n",
       " 'spawnve',\n",
       " 'st',\n",
       " 'startfile',\n",
       " 'stat',\n",
       " 'stat_result',\n",
       " 'statvfs_result',\n",
       " 'strerror',\n",
       " 'supports_bytes_environ',\n",
       " 'supports_dir_fd',\n",
       " 'supports_effective_ids',\n",
       " 'supports_fd',\n",
       " 'supports_follow_symlinks',\n",
       " 'symlink',\n",
       " 'sys',\n",
       " 'system',\n",
       " 'terminal_size',\n",
       " 'times',\n",
       " 'times_result',\n",
       " 'truncate',\n",
       " 'umask',\n",
       " 'uname_result',\n",
       " 'unlink',\n",
       " 'unsetenv',\n",
       " 'urandom',\n",
       " 'utime',\n",
       " 'waitpid',\n",
       " 'waitstatus_to_exitcode',\n",
       " 'walk',\n",
       " 'write']"
      ]
     },
     "execution_count": 53,
     "metadata": {},
     "output_type": "execute_result"
    }
   ],
   "source": [
    "import os \n",
    "import datetime\n",
    "dir(os)"
   ]
  },
  {
   "cell_type": "code",
   "execution_count": 4,
   "id": "970d7ab7",
   "metadata": {},
   "outputs": [
    {
     "data": {
      "text/plain": [
       "'nt'"
      ]
     },
     "execution_count": 4,
     "metadata": {},
     "output_type": "execute_result"
    }
   ],
   "source": [
    "os.name #işletim sistemini veirr"
   ]
  },
  {
   "cell_type": "code",
   "execution_count": 5,
   "id": "7b7b20aa",
   "metadata": {},
   "outputs": [
    {
     "data": {
      "text/plain": [
       "'C:\\\\Python\\\\Sadik_Turan_Python\\\\Python\\\\11_Ileri_seviye_moduller'"
      ]
     },
     "execution_count": 5,
     "metadata": {},
     "output_type": "execute_result"
    }
   ],
   "source": [
    "os.getcwd()#Dosya dizinini verir"
   ]
  },
  {
   "cell_type": "code",
   "execution_count": 74,
   "id": "2f229a12",
   "metadata": {},
   "outputs": [
    {
     "name": "stdout",
     "output_type": "stream",
     "text": [
      "Dosya oluşturuldu\n"
     ]
    }
   ],
   "source": [
    "os.mkdir(\"new_directory\")#yeni dosya oluşturuldu\n",
    "print(\"Dosya oluşturuldu\")"
   ]
  },
  {
   "cell_type": "code",
   "execution_count": 8,
   "id": "e5963e0a",
   "metadata": {},
   "outputs": [],
   "source": [
    "os.chdir('C:\\\\')#dosya dizinini değiştirme işlemi yapıldı"
   ]
  },
  {
   "cell_type": "code",
   "execution_count": 9,
   "id": "c62313bd",
   "metadata": {},
   "outputs": [
    {
     "data": {
      "text/plain": [
       "'C:\\\\'"
      ]
     },
     "execution_count": 9,
     "metadata": {},
     "output_type": "execute_result"
    }
   ],
   "source": [
    "os.getcwd()"
   ]
  },
  {
   "cell_type": "code",
   "execution_count": 70,
   "id": "c863b333",
   "metadata": {},
   "outputs": [
    {
     "ename": "FileNotFoundError",
     "evalue": "[WinError 2] Sistem belirtilen dosyayı bulamıyor: 'new_directory' -> 'new_directory_1'",
     "output_type": "error",
     "traceback": [
      "\u001b[1;31m---------------------------------------------------------------------------\u001b[0m",
      "\u001b[1;31mFileNotFoundError\u001b[0m                         Traceback (most recent call last)",
      "Cell \u001b[1;32mIn [70], line 1\u001b[0m\n\u001b[1;32m----> 1\u001b[0m \u001b[43mos\u001b[49m\u001b[38;5;241;43m.\u001b[39;49m\u001b[43mrename\u001b[49m\u001b[43m(\u001b[49m\u001b[38;5;124;43m\"\u001b[39;49m\u001b[38;5;124;43mnew_directory\u001b[39;49m\u001b[38;5;124;43m\"\u001b[39;49m\u001b[43m,\u001b[49m\u001b[38;5;124;43m\"\u001b[39;49m\u001b[38;5;124;43mnew_directory_1\u001b[39;49m\u001b[38;5;124;43m\"\u001b[39;49m\u001b[43m)\u001b[49m\u001b[38;5;66;03m# klasör yeniden adlandırma işlemi yapıldı\u001b[39;00m\n",
      "\u001b[1;31mFileNotFoundError\u001b[0m: [WinError 2] Sistem belirtilen dosyayı bulamıyor: 'new_directory' -> 'new_directory_1'"
     ]
    }
   ],
   "source": [
    "os.rename(\"new_directory\",\"new_directory_1\")# klasör yeniden adlandırma işlemi yapıldı\n",
    "#ikinci kez çalıştırıldığı için hata alındı"
   ]
  },
  {
   "cell_type": "code",
   "execution_count": 71,
   "id": "3ebc63de",
   "metadata": {},
   "outputs": [
    {
     "ename": "OSError",
     "evalue": "[WinError 145] Dizin boş değil: 'new_directory_1'",
     "output_type": "error",
     "traceback": [
      "\u001b[1;31m---------------------------------------------------------------------------\u001b[0m",
      "\u001b[1;31mOSError\u001b[0m                                   Traceback (most recent call last)",
      "Cell \u001b[1;32mIn [71], line 1\u001b[0m\n\u001b[1;32m----> 1\u001b[0m \u001b[43mos\u001b[49m\u001b[38;5;241;43m.\u001b[39;49m\u001b[43mrmdir\u001b[49m\u001b[43m(\u001b[49m\u001b[38;5;124;43m\"\u001b[39;49m\u001b[38;5;124;43mnew_directory_1\u001b[39;49m\u001b[38;5;124;43m\"\u001b[39;49m\u001b[43m)\u001b[49m\u001b[38;5;66;03m#alt klasör olmadığı koşulda silinecek olan klasör\u001b[39;00m\n",
      "\u001b[1;31mOSError\u001b[0m: [WinError 145] Dizin boş değil: 'new_directory_1'"
     ]
    }
   ],
   "source": [
    "os.rmdir(\"new_directory_1\")#alt klasör olmadığı koşulda silinecek olan klasör"
   ]
  },
  {
   "cell_type": "code",
   "execution_count": 73,
   "id": "a0bdba82",
   "metadata": {},
   "outputs": [],
   "source": [
    "os.removedirs(\"new_directory_1/yeni_klasor\")"
   ]
  },
  {
   "cell_type": "code",
   "execution_count": 17,
   "id": "aedb0a6d",
   "metadata": {},
   "outputs": [
    {
     "ename": "FileNotFoundError",
     "evalue": "[WinError 2] Sistem belirtilen dosyayı bulamıyor: 'C:\\\\Python\\\\Sadik_Turan_Python\\\\Python\\\\14_Ileri_seviye_moduller'",
     "output_type": "error",
     "traceback": [
      "\u001b[1;31m---------------------------------------------------------------------------\u001b[0m",
      "\u001b[1;31mFileNotFoundError\u001b[0m                         Traceback (most recent call last)",
      "Cell \u001b[1;32mIn [17], line 1\u001b[0m\n\u001b[1;32m----> 1\u001b[0m \u001b[43mos\u001b[49m\u001b[38;5;241;43m.\u001b[39;49m\u001b[43mchdir\u001b[49m\u001b[43m(\u001b[49m\u001b[38;5;124;43m'\u001b[39;49m\u001b[38;5;124;43mC:\u001b[39;49m\u001b[38;5;130;43;01m\\\\\u001b[39;49;00m\u001b[38;5;124;43mPython\u001b[39;49m\u001b[38;5;130;43;01m\\\\\u001b[39;49;00m\u001b[38;5;124;43mSadik_Turan_Python\u001b[39;49m\u001b[38;5;130;43;01m\\\\\u001b[39;49;00m\u001b[38;5;124;43mPython\u001b[39;49m\u001b[38;5;130;43;01m\\\\\u001b[39;49;00m\u001b[38;5;124;43m14_Ileri_seviye_moduller\u001b[39;49m\u001b[38;5;124;43m'\u001b[39;49m\u001b[43m)\u001b[49m\n",
      "\u001b[1;31mFileNotFoundError\u001b[0m: [WinError 2] Sistem belirtilen dosyayı bulamıyor: 'C:\\\\Python\\\\Sadik_Turan_Python\\\\Python\\\\14_Ileri_seviye_moduller'"
     ]
    }
   ],
   "source": [
    "os.chdir('C:\\\\Python\\\\Sadik_Turan_Python\\\\Python\\\\14_Ileri_seviye_moduller')"
   ]
  },
  {
   "cell_type": "code",
   "execution_count": 75,
   "id": "9dc334d7",
   "metadata": {},
   "outputs": [],
   "source": [
    "os.makedirs(\"new_directory/yeni_klasor\")"
   ]
  },
  {
   "cell_type": "code",
   "execution_count": 23,
   "id": "33114c02",
   "metadata": {},
   "outputs": [
    {
     "data": {
      "text/plain": [
       "['.ipynb_checkpoints',\n",
       " '11_1_Datetime.ipynb',\n",
       " '11_2_Os_Module.ipynb',\n",
       " 'new_directory']"
      ]
     },
     "execution_count": 23,
     "metadata": {},
     "output_type": "execute_result"
    }
   ],
   "source": [
    "os.listdir()#bulunan dizinde listeleme işlemi yapıldı."
   ]
  },
  {
   "cell_type": "code",
   "execution_count": 10,
   "id": "fe3bf7d8",
   "metadata": {},
   "outputs": [
    {
     "name": "stdout",
     "output_type": "stream",
     "text": [
      "False\n"
     ]
    }
   ],
   "source": [
    "for dosya in os.listdir():\n",
    "    if dosya.endswith('.ipynb'):\n",
    "        print(dosya)\n",
    "        \n",
    "        \n",
    "print(dosya.endswith('.ipynb'))#true False değeri döndürür.\n",
    "        "
   ]
  },
  {
   "cell_type": "code",
   "execution_count": 20,
   "id": "3ff57696",
   "metadata": {},
   "outputs": [
    {
     "data": {
      "text/plain": [
       "'C:\\\\Python\\\\Sadik_Turan_Python\\\\Python\\\\11_Ileri_seviye_moduller'"
      ]
     },
     "execution_count": 20,
     "metadata": {},
     "output_type": "execute_result"
    }
   ],
   "source": [
    "os.chdir(\"C:\\\\Python\\\\Sadik_Turan_Python\\\\Python\\\\11_Ileri_seviye_moduller\")\n",
    "os.getcwd()\n"
   ]
  },
  {
   "cell_type": "code",
   "execution_count": 47,
   "id": "b7325fa7",
   "metadata": {},
   "outputs": [],
   "source": []
  },
  {
   "cell_type": "code",
   "execution_count": 57,
   "id": "71092578",
   "metadata": {},
   "outputs": [
    {
     "name": "stdout",
     "output_type": "stream",
     "text": [
      "1676762855.3587952\n"
     ]
    }
   ],
   "source": [
    "result=os.stat(\"11_2_Datetime.ipynb\")\n",
    "#result=result.st_size/1024#st_size ile dosya boyutuna ulaşıldı (byte cinsinden) result/1024 kb cinsinden boyutunu verdi.\n",
    "result=result.st_ctime\n",
    "print(result)\n",
    "\n"
   ]
  },
  {
   "cell_type": "code",
   "execution_count": 60,
   "id": "1fc5f0b3",
   "metadata": {},
   "outputs": [
    {
     "data": {
      "text/plain": [
       "1676762855.3587952"
      ]
     },
     "execution_count": 60,
     "metadata": {},
     "output_type": "execute_result"
    }
   ],
   "source": [
    "result=os.stat(\"11_2_Datetime.ipynb\")\n",
    "result=result.st_ctime\n",
    "\n",
    "result"
   ]
  },
  {
   "cell_type": "code",
   "execution_count": 62,
   "id": "b2670cd5",
   "metadata": {},
   "outputs": [
    {
     "data": {
      "text/plain": [
       "datetime.datetime(2023, 2, 19, 16, 31, 5, 973135)"
      ]
     },
     "execution_count": 62,
     "metadata": {},
     "output_type": "execute_result"
    }
   ],
   "source": [
    "result=os.stat(\"11_2_Datetime.ipynb\")\n",
    "\n",
    "result=datetime.datetime.fromtimestamp(result.st_atime)#oluşturulma tarihi\n",
    "result"
   ]
  },
  {
   "cell_type": "code",
   "execution_count": 64,
   "id": "d35d4251",
   "metadata": {},
   "outputs": [
    {
     "data": {
      "text/plain": [
       "datetime.datetime(2023, 2, 19, 16, 31, 5, 973135)"
      ]
     },
     "execution_count": 64,
     "metadata": {},
     "output_type": "execute_result"
    }
   ],
   "source": [
    "result=os.stat(\"11_2_Datetime.ipynb\")\n",
    "\n",
    "result=datetime.datetime.fromtimestamp(result.st_atime)#Son erişilme tarihi\n",
    "result"
   ]
  },
  {
   "cell_type": "code",
   "execution_count": 66,
   "id": "52efaf58",
   "metadata": {},
   "outputs": [
    {
     "data": {
      "text/plain": [
       "datetime.datetime(2023, 2, 19, 16, 31, 5, 973135)"
      ]
     },
     "execution_count": 66,
     "metadata": {},
     "output_type": "execute_result"
    }
   ],
   "source": [
    "result=os.stat(\"11_2_Datetime.ipynb\")\n",
    "\n",
    "result=datetime.datetime.fromtimestamp(result.st_mtime)#değiştirilme tarihi\n",
    "result"
   ]
  },
  {
   "cell_type": "code",
   "execution_count": 68,
   "id": "609e6ac7",
   "metadata": {},
   "outputs": [
    {
     "data": {
      "text/plain": [
       "0"
      ]
     },
     "execution_count": 68,
     "metadata": {},
     "output_type": "execute_result"
    }
   ],
   "source": [
    "os.system(\"notepad.exe\")"
   ]
  },
  {
   "cell_type": "markdown",
   "id": "1b760bef",
   "metadata": {},
   "source": [
    "# path "
   ]
  },
  {
   "cell_type": "code",
   "execution_count": 78,
   "id": "34ca2858",
   "metadata": {},
   "outputs": [
    {
     "data": {
      "text/plain": [
       "'C:\\\\Python\\\\Sadik_Turan_Python\\\\Python\\\\11_Ileri_seviye_moduller\\\\11_2_Os_Module'"
      ]
     },
     "execution_count": 78,
     "metadata": {},
     "output_type": "execute_result"
    }
   ],
   "source": [
    "result=os.path.abspath(\"11_2_Os_Module\")#abspath() doyanın konumu\n",
    "result"
   ]
  },
  {
   "cell_type": "code",
   "execution_count": 80,
   "id": "5045aa20",
   "metadata": {},
   "outputs": [
    {
     "data": {
      "text/plain": [
       "'C:\\\\Python\\\\Sadik_Turan_Python\\\\Python\\\\11_Ileri_seviye_moduller'"
      ]
     },
     "execution_count": 80,
     "metadata": {},
     "output_type": "execute_result"
    }
   ],
   "source": [
    "result=os.path.dirname(\"C:\\\\Python\\\\Sadik_Turan_Python\\\\Python\\\\11_Ileri_seviye_moduller\\\\11_2_Os_Module\")#dirname() dosyanın dizini\n",
    "result"
   ]
  },
  {
   "cell_type": "code",
   "execution_count": 82,
   "id": "2de573b8",
   "metadata": {},
   "outputs": [
    {
     "data": {
      "text/plain": [
       "'C:\\\\Python\\\\Sadik_Turan_Python\\\\Python\\\\11_Ileri_seviye_moduller'"
      ]
     },
     "execution_count": 82,
     "metadata": {},
     "output_type": "execute_result"
    }
   ],
   "source": [
    "result=os.path.dirname(os.path.abspath(\"11_2_Os_Module.ipynb\"))#doya konumundan dosya dizinine ulaşıldı.\n",
    "result"
   ]
  },
  {
   "cell_type": "code",
   "execution_count": 83,
   "id": "66b64954",
   "metadata": {},
   "outputs": [
    {
     "data": {
      "text/plain": [
       "True"
      ]
     },
     "execution_count": 83,
     "metadata": {},
     "output_type": "execute_result"
    }
   ],
   "source": [
    "os.path.exists(\"11_2_Os_Module.ipynb\")#Dosya var mı, yok mu? dosya  sorgulanabilir"
   ]
  },
  {
   "cell_type": "code",
   "execution_count": 86,
   "id": "98c3bc87",
   "metadata": {},
   "outputs": [
    {
     "data": {
      "text/plain": [
       "True"
      ]
     },
     "execution_count": 86,
     "metadata": {},
     "output_type": "execute_result"
    }
   ],
   "source": [
    "os.path.isdir(\"C:\\\\Python\\\\Sadik_Turan_Python\")#dKlasör var mı yok mu?"
   ]
  },
  {
   "cell_type": "code",
   "execution_count": 89,
   "id": "b70cd5ea",
   "metadata": {},
   "outputs": [
    {
     "data": {
      "text/plain": [
       "False"
      ]
     },
     "execution_count": 89,
     "metadata": {},
     "output_type": "execute_result"
    }
   ],
   "source": [
    "os.path.isfile(\"C:\\\\Python\\\\Sadik_Turan_Python\\\\Python\\\\11_Ileri_seviye_moduller\")#dosya mı değil mi?"
   ]
  },
  {
   "cell_type": "code",
   "execution_count": 90,
   "id": "9869ef0e",
   "metadata": {},
   "outputs": [
    {
     "data": {
      "text/plain": [
       "'C:\\\\deneme\\\\deneme1'"
      ]
     },
     "execution_count": 90,
     "metadata": {},
     "output_type": "execute_result"
    }
   ],
   "source": [
    "os.path.join(\"C:\\\\\",\"deneme\",\"deneme1\")"
   ]
  },
  {
   "cell_type": "code",
   "execution_count": 94,
   "id": "c2bf3ffd",
   "metadata": {},
   "outputs": [
    {
     "data": {
      "text/plain": [
       "('C:\\\\deneme\\\\deneme1', 'asd')"
      ]
     },
     "execution_count": 94,
     "metadata": {},
     "output_type": "execute_result"
    }
   ],
   "source": [
    "os.path.split(\"C:\\\\deneme\\\\deneme1\\\\asd\")"
   ]
  },
  {
   "cell_type": "code",
   "execution_count": 95,
   "id": "6320f26a",
   "metadata": {},
   "outputs": [
    {
     "data": {
      "text/plain": [
       "('11_2_Os_Module', '.ipynb')"
      ]
     },
     "execution_count": 95,
     "metadata": {},
     "output_type": "execute_result"
    }
   ],
   "source": [
    "os.path.splitext(\"11_2_Os_Module.ipynb\")#dosya ismini uzandtısından ayrıldı."
   ]
  },
  {
   "cell_type": "code",
   "execution_count": null,
   "id": "b4ae8884",
   "metadata": {},
   "outputs": [],
   "source": []
  }
 ],
 "metadata": {
  "kernelspec": {
   "display_name": "Python 3 (ipykernel)",
   "language": "python",
   "name": "python3"
  },
  "language_info": {
   "codemirror_mode": {
    "name": "ipython",
    "version": 3
   },
   "file_extension": ".py",
   "mimetype": "text/x-python",
   "name": "python",
   "nbconvert_exporter": "python",
   "pygments_lexer": "ipython3",
   "version": "3.10.8"
  }
 },
 "nbformat": 4,
 "nbformat_minor": 5
}
