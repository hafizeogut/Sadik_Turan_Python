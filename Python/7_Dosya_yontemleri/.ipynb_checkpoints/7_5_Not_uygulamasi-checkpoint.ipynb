{
 "cells": [
  {
   "cell_type": "code",
   "execution_count": 15,
   "id": "2396c4b3",
   "metadata": {},
   "outputs": [
    {
     "name": "stdout",
     "output_type": "stream",
     "text": [
      "1-Notları oku: \n",
      "2-Not girin: \n",
      "3-Notları Kayıt et: \n",
      "4-Çıkış\n",
      "4\n"
     ]
    }
   ],
   "source": [
    "def not_hesapla(satir):\n",
    "    satir=satir[:-1]#aradaki boşluklar alındı\n",
    "    liste=satir.split(':')#iki noktadan liste bölündü\n",
    "    \n",
    "    \n",
    "    ogrenciAdi=liste[0]#print(liste[0])#isim okundu\n",
    "    notlar=liste[1]#print(liste[1])#notlar okundu\n",
    "    \n",
    "    notlar=liste[1].split(',')#notlar listesi , olan yerden tekrar bölündü\n",
    "    \n",
    "    not1=int(notlar[0])\n",
    "    not2=int(notlar[1])\n",
    "    not3=int(notlar[2])\n",
    "    ortalama=(not1+not2+not3)/3\n",
    "    if ortalama>=90:\n",
    "        harf=\"AA\"\n",
    "    elif ortalama>=85:\n",
    "        harf=\"BA\"\n",
    "    elif ortalama>=65:\n",
    "        harf=\"CC\"\n",
    "        \n",
    "    else:\n",
    "        harf=\"FF\"\n",
    "        \n",
    "    return ogrenciAdi+\": \"+harf+\"\\n\"\n",
    "    \n",
    "\n",
    "\n",
    "def ortalamalari_oku():\n",
    "    with open(\"sinav_notlari.txt\",\"r\",encoding=\"utf-8\") as file:\n",
    "        for satir in file:\n",
    "            print(not_hesapla(satir))\n",
    "    \n",
    "    \n",
    "def not_gir():\n",
    "    ad= input('Öğrenci Adı: ')\n",
    "    soyad=input('Öğrenci Soyad: ')\n",
    "    not1=input('Not 1:')\n",
    "    not2=input('Not 2:')\n",
    "    not3=input('Not 3:')\n",
    "    \n",
    "    with open (\"sinav_notlari.txt\",\"a\",encoding='utf-8') as file:\n",
    "        file.write(ad+ ' '+soyad+ ':'+not1+','+not2+','+not3+','+'\\n' )\n",
    "def notlari_kaydet():\n",
    "    with open('sinav_notlari.txt',\"r\",encoding=\"utf-8\") as file:\n",
    "        liste=[]\n",
    "        for i in file:\n",
    "            liste.append(not_hesapla(i))\n",
    "            \n",
    "            \n",
    "        with open(\"sonuclar.txt\",\"w\",encoding=\"utf-8\") as file2:\n",
    "            for i in liste:\n",
    "                file2.write(i)\n",
    "\n",
    "while True:\n",
    "    islem=input('1-Notları oku: \\n2-Not girin: \\n3-Notları Kayıt et: \\n4-Çıkış\\n')\n",
    "    \n",
    "    if islem=='1':\n",
    "        ortalamalari_oku()\n",
    "    \n",
    "    elif islem=='2':\n",
    "        not_gir()\n",
    "    \n",
    "    elif islem=='3':    \n",
    "        notlari_kaydet()        \n",
    "    \n",
    "    else: \n",
    "        break"
   ]
  },
  {
   "cell_type": "code",
   "execution_count": null,
   "id": "1e290045",
   "metadata": {},
   "outputs": [],
   "source": []
  }
 ],
 "metadata": {
  "kernelspec": {
   "display_name": "Python 3 (ipykernel)",
   "language": "python",
   "name": "python3"
  },
  "language_info": {
   "codemirror_mode": {
    "name": "ipython",
    "version": 3
   },
   "file_extension": ".py",
   "mimetype": "text/x-python",
   "name": "python",
   "nbconvert_exporter": "python",
   "pygments_lexer": "ipython3",
   "version": "3.10.8"
  }
 },
 "nbformat": 4,
 "nbformat_minor": 5
}
