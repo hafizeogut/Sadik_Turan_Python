{
 "cells": [
  {
   "cell_type": "markdown",
   "id": "00adc937",
   "metadata": {},
   "source": [
    "###### Dosya açmak  ve oluşturmak için open() fonksiyonu kullanılır\n",
    "###### Kullanımı:open(dosya_adi,dosya_erisme_metodu)\n",
    "###### dosya_erisme_metodu =>dosyayı hangi amaçla açtığımızı belirtir\n",
    "\n",
    "\n",
    "###### \"r\": (read) okuma. Varsayılan dosya ortamda yoksa hata verir"
   ]
  },
  {
   "cell_type": "markdown",
   "id": "d2e94a66",
   "metadata": {},
   "source": [
    "##### \"w\": (write) yazma metodu. Dosyayı konumda oluşturur.\n",
    "#####         **Dosyayı konumda oluşturur \n",
    " #####       **Dosya içeriğini siler\n",
    " "
   ]
  },
  {
   "cell_type": "code",
   "execution_count": 19,
   "id": "e32fd538",
   "metadata": {},
   "outputs": [
    {
     "name": "stdout",
     "output_type": "stream",
     "text": [
      "<_io.TextIOWrapper name='new_file.txt' mode='w' encoding='cp1254'>\n"
     ]
    }
   ],
   "source": [
    "file=open(\"new_file.txt\",\"w\")\n",
    "file.close()#dosya kapatıldı.\n",
    "\n",
    "print(file)"
   ]
  },
  {
   "cell_type": "code",
   "execution_count": 10,
   "id": "f8711eb7",
   "metadata": {},
   "outputs": [
    {
     "name": "stdout",
     "output_type": "stream",
     "text": [
      "<_io.TextIOWrapper name='C:/Python/Sadik_Turan_Python/Python/new_file.txt' mode='w' encoding='cp1254'>\n"
     ]
    }
   ],
   "source": [
    "file=open(\"C:/Python/Sadik_Turan_Python/Python/new_file.txt\",\"w\")\n",
    "print(file)\n",
    "file.close()"
   ]
  },
  {
   "cell_type": "code",
   "execution_count": 21,
   "id": "5db9d254",
   "metadata": {},
   "outputs": [],
   "source": [
    "file=open(\"new_file.txt\",\"w\",encoding='utf-8')\n",
    "file.write(\"\"\"Ne hasta bekler sabahı,\n",
    "Ne taze ölüyü mezar.\n",
    "Ne de şeytan, bir günahı,\n",
    "Seni beklediğim kadar.\n",
    "\n",
    "Geçti istemem gelmeni,\n",
    "Yokluğunda buldum seni; \n",
    "Bırak vehmimde gölgeni\n",
    "Gelme, artık neye yarar?\n",
    "\n",
    "Necip Fazıl Kısakürek\"\"\")\n",
    "\n",
    "file.close()"
   ]
  },
  {
   "cell_type": "markdown",
   "id": "950602b0",
   "metadata": {},
   "source": [
    "#### \"a\": (append) ekleme. Dosya konumda yoksa açılır. "
   ]
  },
  {
   "cell_type": "code",
   "execution_count": 25,
   "id": "0694ea1d",
   "metadata": {},
   "outputs": [],
   "source": [
    "file =open(\"new_file.txt\",\"a\",encoding='utf-8')\n",
    "file.write(\"\"\"\n",
    "\n",
    "Öğrenmek kolay değildir, bir kaplumbağa gibi sabırlı, başı göklere değen yalçın kayaları un ufak eden rüzgâr kadar inatçı olmalısın.\n",
    "Ahmet Ümit-Patasana\n",
    "\"\"\")\n",
    "file.close()"
   ]
  },
  {
   "cell_type": "markdown",
   "id": "8f46a6a6",
   "metadata": {},
   "source": [
    "#### \"x\": (create) oluşturma. Dosya zaten varsa hata verir.\n"
   ]
  },
  {
   "cell_type": "code",
   "execution_count": 1,
   "id": "233256c9",
   "metadata": {},
   "outputs": [
    {
     "ename": "FileExistsError",
     "evalue": "[Errno 17] File exists: 'new_file2'",
     "output_type": "error",
     "traceback": [
      "\u001b[1;31m---------------------------------------------------------------------------\u001b[0m",
      "\u001b[1;31mFileExistsError\u001b[0m                           Traceback (most recent call last)",
      "Cell \u001b[1;32mIn [1], line 1\u001b[0m\n\u001b[1;32m----> 1\u001b[0m file\u001b[38;5;241m=\u001b[39m\u001b[38;5;28;43mopen\u001b[39;49m\u001b[43m(\u001b[49m\u001b[38;5;124;43m\"\u001b[39;49m\u001b[38;5;124;43mnew_file2\u001b[39;49m\u001b[38;5;124;43m\"\u001b[39;49m\u001b[43m,\u001b[49m\u001b[38;5;124;43m\"\u001b[39;49m\u001b[38;5;124;43mx\u001b[39;49m\u001b[38;5;124;43m\"\u001b[39;49m\u001b[43m,\u001b[49m\u001b[43mencoding\u001b[49m\u001b[38;5;241;43m=\u001b[39;49m\u001b[38;5;124;43m'\u001b[39;49m\u001b[38;5;124;43mutf-8\u001b[39;49m\u001b[38;5;124;43m'\u001b[39;49m\u001b[43m)\u001b[49m\u001b[38;5;66;03m#olmayan dosya üzerinde işlem yapılamadı\u001b[39;00m\n\u001b[0;32m      2\u001b[0m file\u001b[38;5;241m.\u001b[39mclose()\n",
      "File \u001b[1;32m~\\AppData\\Local\\Programs\\Python\\Python310\\lib\\site-packages\\IPython\\core\\interactiveshell.py:282\u001b[0m, in \u001b[0;36m_modified_open\u001b[1;34m(file, *args, **kwargs)\u001b[0m\n\u001b[0;32m    275\u001b[0m \u001b[38;5;28;01mif\u001b[39;00m file \u001b[38;5;129;01min\u001b[39;00m {\u001b[38;5;241m0\u001b[39m, \u001b[38;5;241m1\u001b[39m, \u001b[38;5;241m2\u001b[39m}:\n\u001b[0;32m    276\u001b[0m     \u001b[38;5;28;01mraise\u001b[39;00m \u001b[38;5;167;01mValueError\u001b[39;00m(\n\u001b[0;32m    277\u001b[0m         \u001b[38;5;124mf\u001b[39m\u001b[38;5;124m\"\u001b[39m\u001b[38;5;124mIPython won\u001b[39m\u001b[38;5;124m'\u001b[39m\u001b[38;5;124mt let you open fd=\u001b[39m\u001b[38;5;132;01m{\u001b[39;00mfile\u001b[38;5;132;01m}\u001b[39;00m\u001b[38;5;124m by default \u001b[39m\u001b[38;5;124m\"\u001b[39m\n\u001b[0;32m    278\u001b[0m         \u001b[38;5;124m\"\u001b[39m\u001b[38;5;124mas it is likely to crash IPython. If you know what you are doing, \u001b[39m\u001b[38;5;124m\"\u001b[39m\n\u001b[0;32m    279\u001b[0m         \u001b[38;5;124m\"\u001b[39m\u001b[38;5;124myou can use builtins\u001b[39m\u001b[38;5;124m'\u001b[39m\u001b[38;5;124m open.\u001b[39m\u001b[38;5;124m\"\u001b[39m\n\u001b[0;32m    280\u001b[0m     )\n\u001b[1;32m--> 282\u001b[0m \u001b[38;5;28;01mreturn\u001b[39;00m io_open(file, \u001b[38;5;241m*\u001b[39margs, \u001b[38;5;241m*\u001b[39m\u001b[38;5;241m*\u001b[39mkwargs)\n",
      "\u001b[1;31mFileExistsError\u001b[0m: [Errno 17] File exists: 'new_file2'"
     ]
    }
   ],
   "source": [
    "file=open(\"new_file2\",\"x\",encoding='utf-8')#olmayan dosya üzerinde işlem yapılamadı\n",
    "file.close()\n",
    "\n"
   ]
  },
  {
   "cell_type": "code",
   "execution_count": null,
   "id": "99d3b79b",
   "metadata": {},
   "outputs": [],
   "source": [
    "#HATAYI ÖNLEMEK İÇİN:\n",
    "try:\n",
    "    file=open(\"new_file2.txt\",\"r\")\n",
    "    \n",
    "except FileNotFoundError:\n",
    "    print(\"Dosya kapandı.\")\n",
    "    file.close()"
   ]
  },
  {
   "cell_type": "code",
   "execution_count": 4,
   "id": "cbf94dd2",
   "metadata": {},
   "outputs": [
    {
     "name": "stdout",
     "output_type": "stream",
     "text": [
      "Ne hasta bekler sabahı,\n",
      "\n",
      "Ne taze ölüyü mezar.\n",
      "\n",
      "Ne de şeytan, bir günahı,\n",
      "\n",
      "Seni beklediğim kadar.\n",
      "\n",
      "\n",
      "\n",
      "Geçti istemem gelmeni,\n",
      "\n",
      "Yokluğunda buldum seni; \n",
      "\n",
      "Bırak vehmimde gölgeni\n",
      "\n",
      "Gelme, artık neye yarar?\n",
      "\n",
      "\n",
      "\n",
      "Necip Fazıl Kısakürek\n",
      "\n",
      "\n",
      "\n",
      "Öğrenmek kolay değildir, bir kaplumbağa gibi sabırlı, başı göklere değen yalçın kayaları un ufak eden rüzgâr kadar inatçı olmalısın.\n",
      "\n",
      "Ahmet Ümit-Patasana\n",
      "\n"
     ]
    }
   ],
   "source": [
    "file= open(\"new_file.txt\",\"r\",encoding=\"utf-8\")\n",
    "\n",
    "#for döngüsü\n",
    "for i in file:\n",
    "    print(i)\n",
    "    \n",
    "    \n",
    "#read() fonksiyonu \n",
    "file.read()\n",
    "\n",
    "file.close()"
   ]
  },
  {
   "cell_type": "code",
   "execution_count": 22,
   "id": "db33b45d",
   "metadata": {},
   "outputs": [
    {
     "name": "stdout",
     "output_type": "stream",
     "text": [
      "içerik 1\n",
      "Ne hasta bekler sabahı,\n",
      "Ne taze ölüyü mezar.\n",
      "Ne de şeytan, bir günahı,\n",
      "Seni beklediğim kadar.\n",
      "\n",
      "Geçti istemem gelmeni,\n",
      "Yokluğunda buldum seni; \n",
      "Bırak vehmimde gölgeni\n",
      "Gelme, artık neye yarar?\n",
      "\n",
      "Necip Fazıl Kısakürek\n",
      "\n",
      "Öğrenmek kolay değildir, bir kaplumbağa gibi sabırlı, başı göklere değen yalçın kayaları un ufak eden rüzgâr kadar inatçı olmalısın.\n",
      "Ahmet Ümit-Patasana\n",
      "\n",
      "içerik 2:\n",
      "“İnancımız yoksa, düş kuramıyorsak yaşam büyüsünü yitirmiş demektir.”\n",
      "-Beyoğlu Rapsodisi, 2003.\n"
     ]
    }
   ],
   "source": [
    "file= open(\"new_file.txt\",\"r\",encoding=\"utf-8\")\n",
    "content1=file.read()\n",
    "print(\"içerik 1\")\n",
    "print(content1)\n",
    "file.close()\n",
    "\n",
    "file1= open(\"new_file2.txt\",\"r\",encoding=\"utf-8\")\n",
    "content2=file1.read()\n",
    "print(\"içerik 2:\")\n",
    "print(content2)\n",
    "\n",
    "\n",
    "file1.close()"
   ]
  },
  {
   "cell_type": "code",
   "execution_count": 30,
   "id": "545135cb",
   "metadata": {},
   "outputs": [
    {
     "name": "stdout",
     "output_type": "stream",
     "text": [
      "“İnan cımız yoksa, düş kuramıyorsak yaşam büyüsünü yitirmiş demektir.”\n",
      "\n",
      "['-Beyoğlu Rapsodisi, 2003.']\n"
     ]
    }
   ],
   "source": [
    "file= open(\"new_file2.txt\",\"r\",encoding=\"utf-8\")\n",
    "\n",
    "content=file.read(5) \n",
    "print(content,file.readline())\n",
    "print(file.readlines())\n",
    "file.close()"
   ]
  },
  {
   "cell_type": "markdown",
   "id": "a59ad547",
   "metadata": {},
   "source": [
    "# readline()fonksiyonu\n",
    "##### Her okuma işlemi bir satırlıktır."
   ]
  },
  {
   "cell_type": "code",
   "execution_count": null,
   "id": "996ac17d",
   "metadata": {},
   "outputs": [],
   "source": []
  }
 ],
 "metadata": {
  "kernelspec": {
   "display_name": "Python 3 (ipykernel)",
   "language": "python",
   "name": "python3"
  },
  "language_info": {
   "codemirror_mode": {
    "name": "ipython",
    "version": 3
   },
   "file_extension": ".py",
   "mimetype": "text/x-python",
   "name": "python",
   "nbconvert_exporter": "python",
   "pygments_lexer": "ipython3",
   "version": "3.10.8"
  }
 },
 "nbformat": 4,
 "nbformat_minor": 5
}
