{
 "cells": [
  {
   "cell_type": "code",
   "execution_count": 5,
   "id": "4fa523f2",
   "metadata": {},
   "outputs": [
    {
     "name": "stdout",
     "output_type": "stream",
     "text": [
      "fonksiyondan önce işlemler\n",
      "hello\n",
      "fonksiyondan sonraki işlemler \n"
     ]
    }
   ],
   "source": [
    "def my_decoretor(func):\n",
    "    def wrapper():\n",
    "        print(\"fonksiyondan önce işlemler\")\n",
    "        \n",
    "        func()\n",
    "        \n",
    "        print(\"fonksiyondan sonraki işlemler \")\n",
    "        \n",
    "    return wrapper\n",
    "\n",
    "\n",
    "def sayHello():\n",
    "    print(\"hello\")\n",
    "    \n",
    "def sayGreeting():\n",
    "    print(\"greeting\")\n",
    "    \n",
    "sayHello=my_decoretor(sayHello)\n",
    "sayHello()"
   ]
  },
  {
   "cell_type": "code",
   "execution_count": 7,
   "id": "d0a15b60",
   "metadata": {},
   "outputs": [
    {
     "name": "stdout",
     "output_type": "stream",
     "text": [
      "fonksiyondan önce işlemler\n",
      "greeting\n",
      "fonksiyondan sonraki işlemler \n"
     ]
    }
   ],
   "source": [
    "sayGreeting=my_decoretor(sayGreeting)\n",
    "sayGreeting()"
   ]
  },
  {
   "cell_type": "code",
   "execution_count": null,
   "id": "a4f41b36",
   "metadata": {},
   "outputs": [],
   "source": [
    "\n",
    "\n",
    "#sayHello=my_decoretor(sayHello)\n",
    "#sayHello()\n",
    "    /\n",
    "    /\n",
    "@my_decoretor\n",
    "\n",
    "def sayHello():\n",
    "    print(\"hello\")\n",
    "    \n"
   ]
  }
 ],
 "metadata": {
  "kernelspec": {
   "display_name": "Python 3 (ipykernel)",
   "language": "python",
   "name": "python3"
  },
  "language_info": {
   "codemirror_mode": {
    "name": "ipython",
    "version": 3
   },
   "file_extension": ".py",
   "mimetype": "text/x-python",
   "name": "python",
   "nbconvert_exporter": "python",
   "pygments_lexer": "ipython3",
   "version": "3.10.8"
  }
 },
 "nbformat": 4,
 "nbformat_minor": 5
}
