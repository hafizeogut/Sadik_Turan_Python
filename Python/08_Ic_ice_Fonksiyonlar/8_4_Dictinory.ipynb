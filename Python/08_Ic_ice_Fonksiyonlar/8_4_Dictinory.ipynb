{
 "cells": [
  {
   "cell_type": "code",
   "execution_count": 35,
   "id": "267356b9",
   "metadata": {},
   "outputs": [
    {
     "name": "stdout",
     "output_type": "stream",
     "text": [
      "fonksiyondan önce işlemler\n",
      "hello Alii :)\n",
      "fonksiyondan sonraki işlemler \n"
     ]
    }
   ],
   "source": [
    "def my_decoretor(func):\n",
    "    def wrapper(name):\n",
    "        print(\"fonksiyondan önce işlemler\")\n",
    "        \n",
    "        func(name)\n",
    "        \n",
    "        print(\"fonksiyondan sonraki işlemler \")\n",
    "        \n",
    "    return wrapper\n",
    "\n",
    "@my_decoretor\n",
    "def sayHello(name):\n",
    "    print(\"hello\",name)\n",
    "    \n",
    "sayHello(\"Alii :)\")\n",
    "\n",
    "\n",
    "def sayGreeting():\n",
    "    print(\"greeting\")\n",
    "    \n"
   ]
  },
  {
   "cell_type": "code",
   "execution_count": 14,
   "id": "ecc7a768",
   "metadata": {},
   "outputs": [
    {
     "name": "stdout",
     "output_type": "stream",
     "text": [
      "fonksiyondan önce işlemler\n",
      "greeting\n",
      "fonksiyondan sonraki işlemler \n"
     ]
    }
   ],
   "source": [
    "sayGreeting=my_decoretor(sayGreeting)\n",
    "sayGreeting()"
   ]
  },
  {
   "cell_type": "code",
   "execution_count": 37,
   "id": "2e27ab11",
   "metadata": {},
   "outputs": [
    {
     "name": "stdout",
     "output_type": "stream",
     "text": [
      "fonksiyondan önce işlemler\n",
      "fonksiyondan önce işlemler\n",
      "fonksiyondan önce işlemler\n",
      "hello ht\n",
      "fonksiyondan sonraki işlemler \n",
      "fonksiyondan sonraki işlemler \n",
      "fonksiyondan sonraki işlemler \n"
     ]
    }
   ],
   "source": [
    "sayHello=my_decoretor(sayHello)\n",
    "sayHello(\"ht\")"
   ]
  },
  {
   "cell_type": "code",
   "execution_count": 40,
   "id": "b272f736",
   "metadata": {},
   "outputs": [
    {
     "ename": "NameError",
     "evalue": "name 'sayHallo' is not defined",
     "output_type": "error",
     "traceback": [
      "\u001b[1;31m---------------------------------------------------------------------------\u001b[0m",
      "\u001b[1;31mNameError\u001b[0m                                 Traceback (most recent call last)",
      "Cell \u001b[1;32mIn [40], line 10\u001b[0m\n\u001b[0;32m      5\u001b[0m \u001b[38;5;129m@my_decoretor\u001b[39m\n\u001b[0;32m      6\u001b[0m \n\u001b[0;32m      7\u001b[0m \u001b[38;5;28;01mdef\u001b[39;00m \u001b[38;5;21msayHello\u001b[39m(name):\n\u001b[0;32m      8\u001b[0m     \u001b[38;5;28mprint\u001b[39m(\u001b[38;5;124m\"\u001b[39m\u001b[38;5;124mhello\u001b[39m\u001b[38;5;124m\"\u001b[39m,name)\n\u001b[1;32m---> 10\u001b[0m \u001b[43msayHallo\u001b[49m(\u001b[38;5;124m\"\u001b[39m\u001b[38;5;124mhjf\u001b[39m\u001b[38;5;124m\"\u001b[39m)\n",
      "\u001b[1;31mNameError\u001b[0m: name 'sayHallo' is not defined"
     ]
    }
   ],
   "source": [
    "\n",
    "\n",
    "#sayHello=my_decoretor(sayHello)\n",
    "#sayHello()\n",
    "#    /\n",
    "#    /\n",
    "@my_decoretor\n",
    "\n",
    "def sayHello(name):\n",
    "    print(\"hello\",name)\n",
    "    \n",
    "sayHallo(\"hjf\")"
   ]
  },
  {
   "cell_type": "code",
   "execution_count": 45,
   "id": "2749cd8c",
   "metadata": {},
   "outputs": [
    {
     "name": "stdout",
     "output_type": "stream",
     "text": [
      "8.0\n",
      "fonksiyon us_alma 1.0014967918395996 saniye sürdü.\n"
     ]
    }
   ],
   "source": [
    "import math\n",
    "import time\n",
    "\n",
    "def calculate_time(func):\n",
    "    def inner(*args,**kwargs):\n",
    "        \n",
    "        #fonksiyonların çalışma süresi ekrana yazdırılıyor\n",
    "        start=time.time()\n",
    "        time.sleep(1)#fonksiyon bşr saniyeliğine uyutuldu\n",
    "        \n",
    "        func(*args,**kwargs)\n",
    "\n",
    "        finish=time.time()\n",
    "        print(\"fonksiyon \"+func.__name__+\" \"+str(finish-start)+\" saniye sürdü.\")\n",
    "        \n",
    "    return inner\n",
    "\n",
    "@calculate_time\n",
    "def us_alma(a,b):\n",
    "    print(math.pow(a,b))#pow metodu üs alma işlemini gerçekleştirdi.\n",
    "    \n",
    "\n",
    "calculate_time\n",
    "def factoriyel(num):\n",
    "    print(math.factorial(num))\n",
    "    \n",
    "us_alma(2,3)"
   ]
  },
  {
   "cell_type": "code",
   "execution_count": null,
   "id": "dbb35b29",
   "metadata": {},
   "outputs": [],
   "source": []
  }
 ],
 "metadata": {
  "kernelspec": {
   "display_name": "Python 3 (ipykernel)",
   "language": "python",
   "name": "python3"
  },
  "language_info": {
   "codemirror_mode": {
    "name": "ipython",
    "version": 3
   },
   "file_extension": ".py",
   "mimetype": "text/x-python",
   "name": "python",
   "nbconvert_exporter": "python",
   "pygments_lexer": "ipython3",
   "version": "3.10.8"
  }
 },
 "nbformat": 4,
 "nbformat_minor": 5
}
