{
 "cells": [
  {
   "cell_type": "code",
   "execution_count": 7,
   "id": "30ff5d39",
   "metadata": {},
   "outputs": [
    {
     "name": "stdout",
     "output_type": "stream",
     "text": [
      "8\n",
      "81\n"
     ]
    }
   ],
   "source": [
    "def us_alma(number):\n",
    "\n",
    "    \n",
    "    def inner(power):\n",
    "        return number ** power\n",
    "    \n",
    "    return inner\n",
    "\n",
    "two=us_alma(2)\n",
    "print(two(3))\n",
    "\n",
    "\n",
    "three=us_alma(3)\n",
    "print(three(4))"
   ]
  },
  {
   "cell_type": "code",
   "execution_count": 12,
   "id": "4ffb42aa",
   "metadata": {},
   "outputs": [
    {
     "name": "stdout",
     "output_type": "stream",
     "text": [
      "Admin rolü Product Edit sayfasına ulaşabilir.\n",
      "User rolü Product Edit sayfasına ulaşamaz.\n"
     ]
    }
   ],
   "source": [
    "def yetki_sorgula(page):\n",
    "    def inner(role):\n",
    "        if role==\"Admin\":\n",
    "            return \"{0} rolü {1} sayfasına ulaşabilir.\".format(role,page)\n",
    "        else:\n",
    "            return \"{0} rolü {1} sayfasına ulaşamaz.\".format(role,page)\n",
    "        \n",
    "    return inner   \n",
    "user1=yetki_sorgula(\"Product Edit\")\n",
    "print(user1(\"Admin\"))\n",
    "print(user1(\"User\"))"
   ]
  },
  {
   "cell_type": "code",
   "execution_count": 24,
   "id": "cadca733",
   "metadata": {},
   "outputs": [
    {
     "name": "stdout",
     "output_type": "stream",
     "text": [
      "2722\n",
      "None\n"
     ]
    }
   ],
   "source": [
    "def islem(islem_adi):\n",
    "    def toplam(*args):\n",
    "        toplam=0\n",
    "        for i in args:\n",
    "            toplam+=i\n",
    "            \n",
    "        return toplam\n",
    "    \n",
    "    def carpim(*args):\n",
    "        carpim=1\n",
    "        for i in args:\n",
    "            carpim*=i\n",
    "        return carpim\n",
    "    def bolum(*args):\n",
    "        for i in args:\n",
    "            if i==0:\n",
    "                print(\"argümanlarınız 0 olamaz\")\n",
    "            else:\n",
    "                bolum=i\n",
    "                bolum/=i\n",
    "    \n",
    "    if islem_adi==\"toplama\":\n",
    "        return toplam\n",
    "    elif islem_adi==\"bölme\":\n",
    "        return bolum\n",
    "    else:\n",
    "        return carpim\n",
    "\n",
    "toplama=islem(\"toplama\")\n",
    "\n",
    "print(toplama(1844,307,571))\n",
    "\n",
    "toplama=islem(\"bölme\")\n",
    "\n",
    "print(toplama(1844,307))\n"
   ]
  },
  {
   "cell_type": "code",
   "execution_count": 25,
   "id": "0740ff65",
   "metadata": {},
   "outputs": [
    {
     "name": "stdout",
     "output_type": "stream",
     "text": [
      "2\n"
     ]
    }
   ],
   "source": [
    "carpma=islem(\"carpma\")\n",
    "print(carpma(2))"
   ]
  },
  {
   "cell_type": "code",
   "execution_count": null,
   "id": "d9f7f4b7",
   "metadata": {},
   "outputs": [],
   "source": []
  }
 ],
 "metadata": {
  "kernelspec": {
   "display_name": "Python 3 (ipykernel)",
   "language": "python",
   "name": "python3"
  },
  "language_info": {
   "codemirror_mode": {
    "name": "ipython",
    "version": 3
   },
   "file_extension": ".py",
   "mimetype": "text/x-python",
   "name": "python",
   "nbconvert_exporter": "python",
   "pygments_lexer": "ipython3",
   "version": "3.10.8"
  }
 },
 "nbformat": 4,
 "nbformat_minor": 5
}
