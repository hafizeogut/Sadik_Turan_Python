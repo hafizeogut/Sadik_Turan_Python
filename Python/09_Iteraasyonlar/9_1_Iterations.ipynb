{
 "cells": [
  {
   "cell_type": "code",
   "execution_count": 2,
   "id": "6d2893a0",
   "metadata": {},
   "outputs": [
    {
     "name": "stdout",
     "output_type": "stream",
     "text": [
      "307\n",
      "1844\n",
      "571\n",
      "['__add__', '__class__', '__class_getitem__', '__contains__', '__delattr__', '__delitem__', '__dir__', '__doc__', '__eq__', '__format__', '__ge__', '__getattribute__', '__getitem__', '__gt__', '__hash__', '__iadd__', '__imul__', '__init__', '__init_subclass__', '__iter__', '__le__', '__len__', '__lt__', '__mul__', '__ne__', '__new__', '__reduce__', '__reduce_ex__', '__repr__', '__reversed__', '__rmul__', '__setattr__', '__setitem__', '__sizeof__', '__str__', '__subclasshook__', 'append', 'clear', 'copy', 'count', 'extend', 'index', 'insert', 'pop', 'remove', 'reverse', 'sort']\n"
     ]
    }
   ],
   "source": [
    "liste=[307,1844,571] #liste bir iterable:yineleebilir bir objedir\n",
    "\n",
    "for i in liste:\n",
    "    print(i)\n",
    "    \n",
    "print(dir(liste))"
   ]
  },
  {
   "cell_type": "markdown",
   "id": "80d1a871",
   "metadata": {},
   "source": [
    "# iterator olurştuma"
   ]
  },
  {
   "cell_type": "code",
   "execution_count": 3,
   "id": "29969a95",
   "metadata": {},
   "outputs": [
    {
     "name": "stdout",
     "output_type": "stream",
     "text": [
      "<list_iterator object at 0x0000019C26D7DFC0>\n"
     ]
    }
   ],
   "source": [
    "iterator=iter(liste)\n",
    "print(iterator)"
   ]
  },
  {
   "cell_type": "code",
   "execution_count": 4,
   "id": "c1c0cc1b",
   "metadata": {},
   "outputs": [
    {
     "name": "stdout",
     "output_type": "stream",
     "text": [
      "307\n"
     ]
    }
   ],
   "source": [
    "print(next(iterator))"
   ]
  },
  {
   "cell_type": "code",
   "execution_count": 5,
   "id": "80eb4fe0",
   "metadata": {},
   "outputs": [
    {
     "name": "stdout",
     "output_type": "stream",
     "text": [
      "1844\n"
     ]
    }
   ],
   "source": [
    "print(next(iterator))"
   ]
  },
  {
   "cell_type": "code",
   "execution_count": 6,
   "id": "952afabf",
   "metadata": {},
   "outputs": [
    {
     "name": "stdout",
     "output_type": "stream",
     "text": [
      "571\n"
     ]
    }
   ],
   "source": [
    "print(next(iterator))"
   ]
  },
  {
   "cell_type": "code",
   "execution_count": 7,
   "id": "90b795ae",
   "metadata": {},
   "outputs": [
    {
     "ename": "StopIteration",
     "evalue": "",
     "output_type": "error",
     "traceback": [
      "\u001b[1;31m---------------------------------------------------------------------------\u001b[0m",
      "\u001b[1;31mStopIteration\u001b[0m                             Traceback (most recent call last)",
      "Cell \u001b[1;32mIn [7], line 1\u001b[0m\n\u001b[1;32m----> 1\u001b[0m \u001b[38;5;28mprint\u001b[39m(\u001b[38;5;28;43mnext\u001b[39;49m\u001b[43m(\u001b[49m\u001b[43miterator\u001b[49m\u001b[43m)\u001b[49m)\n",
      "\u001b[1;31mStopIteration\u001b[0m: "
     ]
    }
   ],
   "source": [
    "print(next(iterator))"
   ]
  },
  {
   "cell_type": "markdown",
   "id": "ce83846a",
   "metadata": {},
   "source": [
    "### for döngüsünde olduğu gibi sürekli  bir biçimde iter()metodu ile gerçekeltiriliyor."
   ]
  },
  {
   "cell_type": "code",
   "execution_count": 8,
   "id": "f8d2c903",
   "metadata": {},
   "outputs": [
    {
     "name": "stdout",
     "output_type": "stream",
     "text": [
      "307\n",
      "1844\n",
      "571\n"
     ]
    }
   ],
   "source": [
    "iterator=iter(liste)\n",
    "while True:\n",
    "    try:\n",
    "        element=next(iterator)\n",
    "        print(element)\n",
    "    except StopIteration:\n",
    "        break\n",
    "    "
   ]
  },
  {
   "cell_type": "code",
   "execution_count": 26,
   "id": "6cf552b9",
   "metadata": {},
   "outputs": [
    {
     "name": "stdout",
     "output_type": "stream",
     "text": [
      "20\n",
      "21\n",
      "22\n",
      "23\n",
      "24\n",
      "25\n",
      "26\n",
      "27\n",
      "28\n",
      "29\n",
      "30\n",
      "\n",
      "\n"
     ]
    }
   ],
   "source": [
    "class MyNumbers:\n",
    "    def __init__(self,start,stop):\n",
    "        self.start=start\n",
    "        self.stop=stop\n",
    "        \n",
    "        \n",
    "    def __iter__(self):\n",
    "        return self\n",
    "        \n",
    "    def __next__(self):\n",
    "        if self.start<=self.stop:\n",
    "            x=self.start\n",
    "            self.start+=1\n",
    "            return x\n",
    "        \n",
    "        else:\n",
    "            raise StopIteration\n",
    "    \n",
    "    \n",
    "Liste=MyNumbers(20,30)\n",
    "for x in Liste:\n",
    "    print(x)\n",
    "    \n",
    "my_iter=iter(Liste)\n",
    "print(\"\\n\")\n",
    "\n",
    "\n",
    "#print(next(my_iter))\n",
    "#print(next(my_iter))\n",
    "#print(next(my_iter))\n",
    "#print(next(my_iter))\n",
    "\n",
    "while True:\n",
    "    try:\n",
    "        element=next(my_iter),\n",
    "        print(element)\n",
    "    except StopIteration:\n",
    "        break"
   ]
  },
  {
   "cell_type": "code",
   "execution_count": null,
   "id": "681c3770",
   "metadata": {},
   "outputs": [],
   "source": []
  }
 ],
 "metadata": {
  "kernelspec": {
   "display_name": "Python 3 (ipykernel)",
   "language": "python",
   "name": "python3"
  },
  "language_info": {
   "codemirror_mode": {
    "name": "ipython",
    "version": 3
   },
   "file_extension": ".py",
   "mimetype": "text/x-python",
   "name": "python",
   "nbconvert_exporter": "python",
   "pygments_lexer": "ipython3",
   "version": "3.10.8"
  }
 },
 "nbformat": 4,
 "nbformat_minor": 5
}
