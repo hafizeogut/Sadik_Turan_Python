{
 "cells": [
  {
   "cell_type": "code",
   "execution_count": 4,
   "id": "c913a0da",
   "metadata": {},
   "outputs": [
    {
     "name": "stdout",
     "output_type": "stream",
     "text": [
      "Ne hasta bekler sabahı,\n",
      "Ne taze ölüyü mezar.\n",
      "Ne de şeytan, bir günahı,\n",
      "Seni beklediğim kadar.\n",
      "\n",
      "Geçti istemem gelmeni,\n",
      "Yokluğunda buldum seni; \n",
      "Bırak vehmimde gölgeni\n",
      "Gelme, artık neye yarar?\n",
      "\n",
      "Necip Fazıl Kısakürek\n",
      "\n",
      "Öğrenmek kolay değildir, bir kaplumbağa gibi sabırlı, başı göklere değen yalçın kayaları un ufak eden rüzgâr kadar inatçı olmalısın.\n",
      "Ahmet Ümit-Patasana\n",
      "\n"
     ]
    }
   ],
   "source": [
    "with open(\"new_file.txt\",\"r+\",encoding='utf-8') as file:#r+ hem okuma hem yazma\n",
    "    print(file.read())"
   ]
  },
  {
   "cell_type": "code",
   "execution_count": 8,
   "id": "ae122649",
   "metadata": {},
   "outputs": [
    {
     "name": "stdout",
     "output_type": "stream",
     "text": [
      "\n",
      "DAVET\n",
      "Dörtnala gelip Uzak Asya'dan\n",
      "Akdeniz'e bir kısrak başı gibi uzanan\n",
      "\t\tbu memleket, bizim.\n",
      "\n",
      "Bilekler kan içinde, dişler kenetli, ayaklar çıplak\n",
      "ve ipek bir halıya benziyen toprak,\n",
      "\t\tbu cehennem, bu cennet bizim.\n",
      "\n",
      "Kapansın el kapıları, bir daha açılmasın,\n",
      "yok edin insanın insana kulluğunu,\n",
      "\t\tbu dâvet bizim....\n",
      "\n",
      "Yaşamak bir ağaç gibi tek ve hür\n",
      "ve bir orman gibi kardeşçesine,\n",
      "\t\tbu hasret bizim...\n",
      "    \n",
      "    \n",
      "    \n"
     ]
    }
   ],
   "source": [
    "with open(\"new_file.txt\",\"r+\",encoding='utf-8') as file:\n",
    "    # sıfırıncı indsten güncellenmeye başlandı.\n",
    "    file.write(\"\"\"\n",
    "DAVET\n",
    "Dörtnala gelip Uzak Asya'dan\n",
    "Akdeniz'e bir kısrak başı gibi uzanan\n",
    "\t\tbu memleket, bizim.\n",
    "\n",
    "Bilekler kan içinde, dişler kenetli, ayaklar çıplak\n",
    "ve ipek bir halıya benziyen toprak,\n",
    "\t\tbu cehennem, bu cennet bizim.\n",
    "\n",
    "Kapansın el kapıları, bir daha açılmasın,\n",
    "yok edin insanın insana kulluğunu,\n",
    "\t\tbu dâvet bizim....\n",
    "\n",
    "Yaşamak bir ağaç gibi tek ve hür\n",
    "ve bir orman gibi kardeşçesine,\n",
    "\t\tbu hasret bizim...\n",
    "    \n",
    "    \n",
    "    \"\"\")\n",
    "    \n",
    "with open(\"new_file.txt\",\"r+\",encoding='utf-8') as file:#r+ hem okuma hem yazma\n",
    "    print(file.read())"
   ]
  },
  {
   "cell_type": "code",
   "execution_count": 18,
   "id": "eb7ba02a",
   "metadata": {},
   "outputs": [
    {
     "name": "stdout",
     "output_type": "stream",
     "text": [
      "\n",
      "DAVET\n",
      "Dörtnala gelip Uzak Asya'dan\n",
      "Akdeniz'e bir kısrak başı gibi uzanan\n",
      "\t\tbu memleket, bizim.\n",
      "\n",
      "Bilekler kan içinde, dişler kenetli, ayaklar çıplak\n",
      "ve ipek bir halıya benziyen toprak,\n",
      "\t\tbu cehennem, bu cennet bizim.\n",
      "\n",
      "Kapansın el kapıları, bir daha açılmasın,\n",
      "yok edin insanın insana kulluğunu,\n",
      "\t\tbu dâvet bizim....\n",
      "\n",
      "Yaşamak bir ağaç gibi tek ve hür\n",
      "ve bir orman gibi kardeşçesine,\n",
      "\t\tbu hasret bizim...\n",
      "    \n",
      "    \n",
      "    \n"
     ]
    }
   ],
   "source": [
    "with open(\"new_file.txt\",\"r+\",encoding='utf-8') as file:\n",
    "    \n",
    "    file.seek(0)\n",
    "    \n",
    "    # sıfırıncı indsten güncellenmeye başlandı.\n",
    "    file.write(\"\"\"\n",
    "DAVET\n",
    "Dörtnala gelip Uzak Asya'dan\n",
    "Akdeniz'e bir kısrak başı gibi uzanan\n",
    "\t\tbu memleket, bizim.\n",
    "\n",
    "Bilekler kan içinde, dişler kenetli, ayaklar çıplak\n",
    "ve ipek bir halıya benziyen toprak,\n",
    "\t\tbu cehennem, bu cennet bizim.\n",
    "\n",
    "Kapansın el kapıları, bir daha açılmasın,\n",
    "yok edin insanın insana kulluğunu,\n",
    "\t\tbu dâvet bizim....\n",
    "\n",
    "Yaşamak bir ağaç gibi tek ve hür\n",
    "ve bir orman gibi kardeşçesine,\n",
    "\t\tbu hasret bizim...\n",
    "    \n",
    "    \n",
    "    \"\"\")\n",
    "    \n",
    "with open(\"new_file.txt\",\"r+\",encoding='utf-8') as file:#r+ hem okuma hem yazma\n",
    "    print(file.read())"
   ]
  },
  {
   "cell_type": "code",
   "execution_count": 19,
   "id": "9a67a9cc",
   "metadata": {},
   "outputs": [],
   "source": [
    "with open(\"new_file.txt\",\"a\",encoding=\"utf-8\") as file:\n",
    "    file.write(\"\\n Nazım Hikmet\")"
   ]
  },
  {
   "cell_type": "code",
   "execution_count": 20,
   "id": "3cef97d4",
   "metadata": {},
   "outputs": [
    {
     "name": "stdout",
     "output_type": "stream",
     "text": [
      "\n",
      "DAVET\n",
      "Dörtnala gelip Uzak Asya'dan\n",
      "Akdeniz'e bir kısrak başı gibi uzanan\n",
      "\t\tbu memleket, bizim.\n",
      "\n",
      "Bilekler kan içinde, dişler kenetli, ayaklar çıplak\n",
      "ve ipek bir halıya benziyen toprak,\n",
      "\t\tbu cehennem, bu cennet bizim.\n",
      "\n",
      "Kapansın el kapıları, bir daha açılmasın,\n",
      "yok edin insanın insana kulluğunu,\n",
      "\t\tbu dâvet bizim....\n",
      "\n",
      "Yaşamak bir ağaç gibi tek ve hür\n",
      "ve bir orman gibi kardeşçesine,\n",
      "\t\tbu hasret bizim...\n",
      "    \n",
      "    \n",
      "    \n",
      " Nazım Hikmet\n"
     ]
    }
   ],
   "source": [
    "with open(\"new_file.txt\",\"r+\",encoding=\"utf-8\") as file:\n",
    "    print(file.read())"
   ]
  },
  {
   "cell_type": "markdown",
   "id": "91c21e0e",
   "metadata": {},
   "source": [
    "#### Sayfa ortasında güncelleme"
   ]
  },
  {
   "cell_type": "code",
   "execution_count": 34,
   "id": "619ab34b",
   "metadata": {},
   "outputs": [],
   "source": [
    "with open(\"new_file2.txt\",\"r+\",encoding=\"utf-8\") as file:\n",
    "    liste=file.readlines()\n",
    "    \n",
    "    #liste.insert(3,\" Ahmet ümit\")\n",
    "    liste.insert(1,\"Ahmet Ümit\")\n",
    "    file.seek(0)\n",
    "    for i in liste:\n",
    "        file.write(i)\n"
   ]
  },
  {
   "cell_type": "code",
   "execution_count": 35,
   "id": "8a2c86fc",
   "metadata": {},
   "outputs": [
    {
     "name": "stdout",
     "output_type": "stream",
     "text": [
      "['“İnancımız yoksa, düş kuramıyorsak yaşam büyüsünü yitirmiş demektir.”\\n', 'Ahmet ÜmitAhmet ÜmitAhmet Ümit-Beyoğlu Rapsodisi, 2003.']\n"
     ]
    }
   ],
   "source": [
    "with open(\"new_file2.txt\",\"r+\",encoding=\"utf-8\") as file:\n",
    "    print(file.readlines())"
   ]
  },
  {
   "cell_type": "markdown",
   "id": "b4d69157",
   "metadata": {},
   "source": [
    "# #Sayfa ortasında güncelleme yapma"
   ]
  },
  {
   "cell_type": "code",
   "execution_count": 40,
   "id": "c23bd35c",
   "metadata": {},
   "outputs": [],
   "source": [
    "with open(\"new_file2.txt\",\"r+\",encoding=\"utf-8\") as file:\n",
    "    liste=file.readlines()\n",
    "    liste.insert(0,\"Ahmet Ümit\")\n",
    "    file.seek(0)\n",
    "    for i in liste:\n",
    "        file.write(i)"
   ]
  },
  {
   "cell_type": "code",
   "execution_count": 42,
   "id": "621542ab",
   "metadata": {},
   "outputs": [
    {
     "name": "stdout",
     "output_type": "stream",
     "text": [
      "Ahmet ÜmitAhmet Ümit“İnancımız yoksa, düş kuramıyorsak yaşam büyüsünü yitirmiş demektir.”\n",
      "Ahmet ÜmitAhmet ÜmitAhmet Ümit-Beyoğlu Rapsodisi, 2003.\n"
     ]
    }
   ],
   "source": [
    "with open(\"new_file2.txt\",\"r\",encoding=\"utf-8\") as file:\n",
    "    print(file.read())"
   ]
  },
  {
   "cell_type": "code",
   "execution_count": null,
   "id": "dd94cc64",
   "metadata": {},
   "outputs": [],
   "source": []
  }
 ],
 "metadata": {
  "kernelspec": {
   "display_name": "Python 3 (ipykernel)",
   "language": "python",
   "name": "python3"
  },
  "language_info": {
   "codemirror_mode": {
    "name": "ipython",
    "version": 3
   },
   "file_extension": ".py",
   "mimetype": "text/x-python",
   "name": "python",
   "nbconvert_exporter": "python",
   "pygments_lexer": "ipython3",
   "version": "3.10.8"
  }
 },
 "nbformat": 4,
 "nbformat_minor": 5
}
