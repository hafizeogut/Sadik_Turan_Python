{
 "cells": [
  {
   "cell_type": "code",
   "execution_count": 3,
   "id": "d825cd5e",
   "metadata": {},
   "outputs": [
    {
     "name": "stdout",
     "output_type": "stream",
     "text": [
      "Ne hasta bekler sabahı,\n",
      "Ne taze ölüyü mezar.\n",
      "Ne de şeytan, bir günahı,\n",
      "Seni beklediğim kadar.\n",
      "\n",
      "Geçti istemem gelmeni,\n",
      "Yokluğunda buldum seni; \n",
      "Bırak vehmimde gölgeni\n",
      "Gelme, artık neye yarar?\n",
      "\n",
      "Necip Fazıl Kısakürek\n",
      "\n",
      "Öğrenmek kolay değildir, bir kaplumbağa gibi sabırlı, başı göklere değen yalçın kayaları un ufak eden rüzgâr kadar inatçı olmalısın.\n",
      "Ahmet Ümit-Patasana\n",
      "\n"
     ]
    }
   ],
   "source": [
    "file=open(\"new_file.txt\",\"r\",encoding='utf-8')\n",
    "content=file.read()\n",
    "\n",
    "print(content)\n",
    "\n",
    "file.close()"
   ]
  },
  {
   "cell_type": "code",
   "execution_count": 13,
   "id": "bb74b3d2",
   "metadata": {},
   "outputs": [
    {
     "name": "stdout",
     "output_type": "stream",
     "text": [
      "Ne hasta bekler sabahı,\n",
      "Ne taze ölüyü mezar.\n",
      "Ne de şeytan, bir günahı,\n",
      "Seni beklediğim kadar.\n",
      "\n",
      "Geçti istemem gelmeni,\n",
      "Yokluğunda buldum seni; \n",
      "Bırak vehmimde gölgeni\n",
      "Gelme, artık neye yarar?\n",
      "\n",
      "Necip Fazıl Kısakürek\n",
      "\n",
      "Öğrenmek kolay değildir, bir kaplumbağa gibi sabırlı, başı göklere değen yalçın kayaları un ufak eden rüzgâr kadar inatçı olmalısın.\n",
      "Ahmet Ümit-Patasana\n",
      "\n",
      "404\n",
      "10\n",
      "ekler saba\n"
     ]
    }
   ],
   "source": [
    "with open (\"new_file.txt\",\"r\",encoding='utf-8') as file: #file.close ihtiyaç kalmadı.\n",
    "    content=file.read()\n",
    "    print(content)\n",
    "    print(file.tell())#404. konumda imlecin konumunu tell() fonksiyonu ile elde edildi.\n",
    "    \n",
    "    file.seek(10)#seek() fonksiyonu ile imleç 0. indexe alındı.\n",
    "    \n",
    "    print(file.tell())\n",
    "    print(file.read(10))"
   ]
  },
  {
   "cell_type": "code",
   "execution_count": null,
   "id": "9dff0b72",
   "metadata": {},
   "outputs": [],
   "source": []
  }
 ],
 "metadata": {
  "kernelspec": {
   "display_name": "Python 3 (ipykernel)",
   "language": "python",
   "name": "python3"
  },
  "language_info": {
   "codemirror_mode": {
    "name": "ipython",
    "version": 3
   },
   "file_extension": ".py",
   "mimetype": "text/x-python",
   "name": "python",
   "nbconvert_exporter": "python",
   "pygments_lexer": "ipython3",
   "version": "3.10.8"
  }
 },
 "nbformat": 4,
 "nbformat_minor": 5
}
