{
 "cells": [
  {
   "cell_type": "code",
   "execution_count": 26,
   "id": "3a26e6d4",
   "metadata": {},
   "outputs": [
    {
     "name": "stdout",
     "output_type": "stream",
     "text": [
      "init metodu çalıştı\n",
      "init metodu çalıştı\n",
      "name: Hafize, year:23, address:No information\n",
      "name: Bet, year:24\n",
      "\n",
      "name: Çepiş, year:23, address:kocaeli\n",
      "name: Bet, year:24\n",
      "\n",
      "<__main__.Person object at 0x0000016B755F3D00>\n",
      "<__main__.Person object at 0x0000016B759FF430>\n",
      "<class '__main__.Person'>\n",
      "<class '__main__.Person'>\n",
      "False\n"
     ]
    }
   ],
   "source": [
    "#class\n",
    "\n",
    "class Person: #Person sınıfı oluşturuldu\n",
    "    #class attributes:Öznitellikler\n",
    "    address='No information'\n",
    "    \n",
    "    #constructor(yapıcı metod)\n",
    "    def __init__ (self,name,year):#self kavramı p1 ya da p2 temsil ediyor.\n",
    "        #self oluşturulacak olan objeleri temsil ediyor\n",
    "\n",
    "\n",
    "        #object attributes:Nesne nitelikleri\n",
    "        self.name=name\n",
    "        self.year=year\n",
    "        print('init metodu çalıştı')\n",
    "\n",
    "        #methods:yöntemler\n",
    "    \n",
    "#object(instance)\n",
    "p1=Person('Hafize',23)\n",
    "p2=Person('Bet',24)\n",
    "\n",
    "\n",
    "\n",
    "\n",
    "\n",
    "#accessing abject attributes:nesne niteliklerine erişme\n",
    "print(f'name: {p1.name}, year:{p1.year}, address:{p1.address}')\n",
    "print(f'name: {p2.name}, year:{p2.year}\\n')\n",
    "\n",
    "#updating:güncelleme\n",
    "p1.name='Çepiş'\n",
    "p1.address='kocaeli'\n",
    "\n",
    "\n",
    "#accessing abject attributes:nesne niteliklerine erişme\n",
    "print(f'name: {p1.name}, year:{p1.year}, address:{p1.address}')\n",
    "print(f'name: {p2.name}, year:{p2.year}\\n')\n",
    "\n",
    "\n",
    "print(p1)\n",
    "print(p2)\n",
    "\n",
    "print(type(p1))\n",
    "print(type(p2))\n",
    "\n",
    "print(p1==p2)\n",
    "\n",
    "\n",
    "\n",
    " \n",
    "\n"
   ]
  },
  {
   "cell_type": "code",
   "execution_count": 17,
   "id": "c249de41",
   "metadata": {},
   "outputs": [
    {
     "name": "stdout",
     "output_type": "stream",
     "text": [
      "init metodu çalıştı\n",
      "\n",
      "init metodu çalıştı\n",
      "\n",
      "Ne hasta bekler sabahı\n",
      "Ne Taze Ölüyü mezar\n",
      "İsmim: Hafize ve yaşım: 2000\n"
     ]
    }
   ],
   "source": [
    "#class\n",
    "class Person: #Person sınıfı oluşturuldu\n",
    "    #class attributes:Öznitellikler\n",
    "    address='No information'\n",
    "    \n",
    "    #constructor(yapıcı metod)\n",
    "    def __init__ (self,name,year):#self kavramı p1 ya da p2 temsil ediyor.\n",
    "        #self oluşturulacak olan objeleri temsil ediyor\n",
    "\n",
    "\n",
    "        #object attributes:Nesne nitelikleri\n",
    "        self.name=name\n",
    "        self.year=year\n",
    "        print('init metodu çalıştı\\n')\n",
    "\n",
    "    #instance methods:yöntemler\n",
    "    def intro(self):\n",
    "        print('Ne hasta bekler sabahı\\nNe Taze Ölüyü mezar')\n",
    "    \n",
    "    #instance methods\n",
    "    def calculateAge(self):\n",
    "        return 2023-self.year\n",
    "#object(instance)\n",
    "p1=Person('Hafize',23)\n",
    "p2=Person('Bet',24)\n",
    "\n",
    "p1.intro()\n",
    "\n",
    "print(f'İsmim: {p1.name} ve yaşım: {p1.calculateAge()}')"
   ]
  },
  {
   "cell_type": "code",
   "execution_count": 32,
   "id": "4a6b9edb",
   "metadata": {},
   "outputs": [
    {
     "name": "stdout",
     "output_type": "stream",
     "text": [
      "c1: alan= 3.14 Çevre= 6.28\n",
      "c2: alan= 113.04 Çevre= 37.68\n"
     ]
    }
   ],
   "source": [
    "class Circle:\n",
    "    \n",
    "    #Class object attribute #Class nesne özniteliği\n",
    "    pi=3.14\n",
    "    \n",
    "    def __init__(self,yaricap=1):\n",
    "        self.yaricap=yaricap\n",
    "        \n",
    "    #Methods\n",
    "    def cevre_hesapla(self):\n",
    "        return 2 * self.pi * self.yaricap\n",
    "    \n",
    "    def alan_hesapla(self):\n",
    "        return self.pi*(self.yaricap**2)\n",
    "    \n",
    "c1=Circle()#yaricap varsayılan olarak 1.\n",
    "c2=Circle(6)\n",
    " \n",
    "print(f'c1: alan= {c1.alan_hesapla()} Çevre= {c1.cevre_hesapla()}')\n",
    "print(f'c2: alan= {c2.alan_hesapla()} Çevre= {c2.cevre_hesapla()}')"
   ]
  },
  {
   "cell_type": "code",
   "execution_count": 26,
   "id": "4515513f",
   "metadata": {},
   "outputs": [
    {
     "name": "stdout",
     "output_type": "stream",
     "text": [
      "c1 : alan = 3.14 çevre = 6.28\n",
      "c2 : alan = 78.5 çevre = 31.400000000000002\n"
     ]
    }
   ],
   "source": [
    "class Circle:\n",
    "    # Class object attribute\n",
    "    pi = 3.14\n",
    "\n",
    "    def __init__(self, yaricap=1):\n",
    "        self.yaricap = yaricap \n",
    "    def cevre_hesapla(self):\n",
    "         return 2 * self.pi * self.yaricap\n",
    "\n",
    "    def alan_hesapla(self):\n",
    "         return self.pi * (self.yaricap**2)\n",
    "        \n",
    "c1 = Circle() \n",
    "c2 = Circle(5)\n",
    "print(f'c1 : alan = {c1.alan_hesapla()} çevre = {c1.cevre_hesapla()}')\n",
    "print(f'c2 : alan = {c2.alan_hesapla()} çevre = {c2.cevre_hesapla()}')"
   ]
  },
  {
   "cell_type": "code",
   "execution_count": null,
   "id": "077669d2",
   "metadata": {},
   "outputs": [],
   "source": []
  }
 ],
 "metadata": {
  "kernelspec": {
   "display_name": "Python 3 (ipykernel)",
   "language": "python",
   "name": "python3"
  },
  "language_info": {
   "codemirror_mode": {
    "name": "ipython",
    "version": 3
   },
   "file_extension": ".py",
   "mimetype": "text/x-python",
   "name": "python",
   "nbconvert_exporter": "python",
   "pygments_lexer": "ipython3",
   "version": "3.10.8"
  }
 },
 "nbformat": 4,
 "nbformat_minor": 5
}
